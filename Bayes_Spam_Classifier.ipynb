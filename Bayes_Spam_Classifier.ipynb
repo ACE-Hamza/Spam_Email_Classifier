{
  "cells": [
    {
      "cell_type": "markdown",
      "metadata": {
        "id": "NeELKS2ktKK9"
      },
      "source": [
        "<h1 style = \"text-align: center\"> SPAM CLASSIFIER </h1>\n",
        "    \n",
        "**Objective:** To classify emails as spam or not spam based entirely on the message they provide (ignoring all other details like the letter head, sender, html formatting, grammar, etc) "
      ]
    },
    {
      "cell_type": "markdown",
      "metadata": {
        "id": "HbdHedYMtKLG"
      },
      "source": [
        "## Notebook Imports"
      ]
    },
    {
      "cell_type": "code",
      "execution_count": null,
      "metadata": {
        "id": "8c5vS_WytKLH"
      },
      "outputs": [],
      "source": [
        "from os import walk\n",
        "from os.path import join\n",
        "\n",
        "import numpy as np\n",
        "import pandas as pd\n",
        "import matplotlib.pyplot as plt\n",
        "\n",
        "import nltk\n",
        "from nltk.stem import PorterStemmer\n",
        "from nltk.corpus import stopwords\n",
        "from nltk.tokenize import word_tokenize\n",
        "\n",
        "from bs4 import BeautifulSoup\n",
        "\n",
        "from sklearn.model_selection import train_test_split \n",
        "\n",
        "%matplotlib inline"
      ]
    },
    {
      "cell_type": "markdown",
      "metadata": {
        "id": "GYpG59EPtKLL"
      },
      "source": [
        "## Constants"
      ]
    },
    {
      "cell_type": "code",
      "execution_count": null,
      "metadata": {
        "id": "tb69fyHitKLN"
      },
      "outputs": [],
      "source": [
        "EXAMPLE_FILE = \"SpamData/01_Processing/practice_email.txt\" \n",
        "\n",
        "SPAM_1_PATH = \"SpamData/01_Processing/spam_assassin_corpus/spam_1\"\n",
        "SPAM_2_PATH = \"SpamData/01_Processing/spam_assassin_corpus/spam_2\"\n",
        "\n",
        "EASY_HAM_1_PATH = \"SpamData/01_Processing/spam_assassin_corpus/easy_ham_1\"\n",
        "EASY_HAM_2_PATH = \"SpamData/01_Processing/spam_assassin_corpus/easy_ham_2\"\n",
        "\n",
        "SPAM_CAT = 1\n",
        "HAM_CAT = 0\n",
        "VOCAB_SIZE = 2500\n",
        "\n",
        "DATA_JSON_FILE = \"SpamData/01_Processing/email-text-data.json\"\n",
        "WORD_ID_FILE = \"SpamData/01_Processing/word-id-data.csv\"\n",
        "\n",
        "TRAINING_DATA_FILE = 'SpamData/02_Training/train-data.txt'\n",
        "TRAINING_DATA_FILE_CSV = 'SpamData/02_Training/train-data.csv'\n",
        "TEST_DATA_FILE = 'SpamData/02_Training/test-data.txt'\n",
        "TEST_DATA_FILE_CSV = 'SpamData/02_Training/test-data.csv'\n",
        "\n",
        "#naming conventions for constants are capitalized words separated by underscores."
      ]
    },
    {
      "cell_type": "markdown",
      "metadata": {
        "id": "seSewUTGtKLP"
      },
      "source": [
        "## Reading Files"
      ]
    },
    {
      "cell_type": "code",
      "execution_count": null,
      "metadata": {
        "id": "VkOykCehtKLQ",
        "outputId": "d6048577-114f-4b4d-f07f-f34acaf236db"
      },
      "outputs": [
        {
          "name": "stdout",
          "output_type": "stream",
          "text": [
            "<class 'str'>\n",
            "From exmh-workers-admin@redhat.com  Thu Aug 22 12:36:23 2002\n",
            "Return-Path: <exmh-workers-admin@spamassassin.taint.org>\n",
            "Delivered-To: zzzz@localhost.netnoteinc.com\n",
            "Received: from localhost (localhost [127.0.0.1])\n",
            "\tby phobos.labs.netnoteinc.com (Postfix) with ESMTP id D03E543C36\n",
            "\tfor <zzzz@localhost>; Thu, 22 Aug 2002 07:36:16 -0400 (EDT)\n",
            "Received: from phobos [127.0.0.1]\n",
            "\tby localhost with IMAP (fetchmail-5.9.0)\n",
            "\tfor zzzz@localhost (single-drop); Thu, 22 Aug 2002 12:36:16 +0100 (IST)\n",
            "Received: from listman.spamassassin.taint.org (listman.spamassassin.taint.org [66.187.233.211]) by\n",
            "    dogma.slashnull.org (8.11.6/8.11.6) with ESMTP id g7MBYrZ04811 for\n",
            "    <zzzz-exmh@spamassassin.taint.org>; Thu, 22 Aug 2002 12:34:53 +0100\n",
            "Received: from listman.spamassassin.taint.org (localhost.localdomain [127.0.0.1]) by\n",
            "    listman.redhat.com (Postfix) with ESMTP id 8386540858; Thu, 22 Aug 2002\n",
            "    07:35:02 -0400 (EDT)\n",
            "Delivered-To: exmh-workers@listman.spamassassin.taint.org\n",
            "Received: from int-mx1.corp.spamassassin.taint.org (int-mx1.corp.spamassassin.taint.org\n",
            "    [172.16.52.254]) by listman.redhat.com (Postfix) with ESMTP id 10CF8406D7\n",
            "    for <exmh-workers@listman.redhat.com>; Thu, 22 Aug 2002 07:34:10 -0400\n",
            "    (EDT)\n",
            "Received: (from mail@localhost) by int-mx1.corp.spamassassin.taint.org (8.11.6/8.11.6)\n",
            "    id g7MBY7g11259 for exmh-workers@listman.redhat.com; Thu, 22 Aug 2002\n",
            "    07:34:07 -0400\n",
            "Received: from mx1.spamassassin.taint.org (mx1.spamassassin.taint.org [172.16.48.31]) by\n",
            "    int-mx1.corp.redhat.com (8.11.6/8.11.6) with SMTP id g7MBY7Y11255 for\n",
            "    <exmh-workers@redhat.com>; Thu, 22 Aug 2002 07:34:07 -0400\n",
            "Received: from ratree.psu.ac.th ([202.28.97.6]) by mx1.spamassassin.taint.org\n",
            "    (8.11.6/8.11.6) with SMTP id g7MBIhl25223 for <exmh-workers@redhat.com>;\n",
            "    Thu, 22 Aug 2002 07:18:55 -0400\n",
            "Received: from delta.cs.mu.OZ.AU (delta.coe.psu.ac.th [172.30.0.98]) by\n",
            "    ratree.psu.ac.th (8.11.6/8.11.6) with ESMTP id g7MBWel29762;\n",
            "    Thu, 22 Aug 2002 18:32:40 +0700 (ICT)\n",
            "Received: from munnari.OZ.AU (localhost [127.0.0.1]) by delta.cs.mu.OZ.AU\n",
            "    (8.11.6/8.11.6) with ESMTP id g7MBQPW13260; Thu, 22 Aug 2002 18:26:25\n",
            "    +0700 (ICT)\n",
            "From: Robert Elz <kre@munnari.OZ.AU>\n",
            "To: Chris Garrigues <cwg-dated-1030377287.06fa6d@DeepEddy.Com>\n",
            "Cc: exmh-workers@spamassassin.taint.org\n",
            "Subject: Re: New Sequences Window\n",
            "In-Reply-To: <1029945287.4797.TMDA@deepeddy.vircio.com>\n",
            "References: <1029945287.4797.TMDA@deepeddy.vircio.com>\n",
            "    <1029882468.3116.TMDA@deepeddy.vircio.com> <9627.1029933001@munnari.OZ.AU>\n",
            "    <1029943066.26919.TMDA@deepeddy.vircio.com>\n",
            "    <1029944441.398.TMDA@deepeddy.vircio.com>\n",
            "MIME-Version: 1.0\n",
            "Content-Type: text/plain; charset=us-ascii\n",
            "Message-Id: <13258.1030015585@munnari.OZ.AU>\n",
            "X-Loop: exmh-workers@spamassassin.taint.org\n",
            "Sender: exmh-workers-admin@spamassassin.taint.org\n",
            "Errors-To: exmh-workers-admin@spamassassin.taint.org\n",
            "X-Beenthere: exmh-workers@spamassassin.taint.org\n",
            "X-Mailman-Version: 2.0.1\n",
            "Precedence: bulk\n",
            "List-Help: <mailto:exmh-workers-request@spamassassin.taint.org?subject=help>\n",
            "List-Post: <mailto:exmh-workers@spamassassin.taint.org>\n",
            "List-Subscribe: <https://listman.spamassassin.taint.org/mailman/listinfo/exmh-workers>,\n",
            "    <mailto:exmh-workers-request@redhat.com?subject=subscribe>\n",
            "List-Id: Discussion list for EXMH developers <exmh-workers.spamassassin.taint.org>\n",
            "List-Unsubscribe: <https://listman.spamassassin.taint.org/mailman/listinfo/exmh-workers>,\n",
            "    <mailto:exmh-workers-request@redhat.com?subject=unsubscribe>\n",
            "List-Archive: <https://listman.spamassassin.taint.org/mailman/private/exmh-workers/>\n",
            "Date: Thu, 22 Aug 2002 18:26:25 +0700\n",
            "\n",
            "\n",
            "Dear Mr Still\n",
            "\n",
            "Good tidings to you and all your staff for the festive season ahead (Christmas).\n",
            "Now to the crux of the matter-in-hand: I am a fully qualified Santa Claus and am wondering whether you might consider me to run my own \"Santa's Grotto\" in your store.\n",
            "But WAIT! You're probably thinking: \"What makes him so special?\"\n",
            "Well, first of all, I have made several changes to the characterisation of Father Christmas. Rather than greeting the children with shouts of \"Ho, ho, ho!\" I prefer to whisper the phrase \"Dependence is not unfathomable in this cruel world we live in\". In addition, my gifts are ALL hand-made, ranging from felt hoops to vanilla-pod holders.\n",
            "You will note also, from the enclosed sketch, that I have radically redesigned Santa's outfit and have renamed my character \"Lord Buckles\". Would you be interested in employing me? I promise NEVER to let you down.\n",
            "I look forward to hearing from you.\n",
            "\n",
            "Best wishes\n",
            "Robin Cooper\n",
            "[Excerpt from the book: The Timewaster Letters by Robin Cooper]\n",
            "\n"
          ]
        }
      ],
      "source": [
        "stream = open(EXAMPLE_FILE, encoding = \"latin-1\")  # Creating a file object (stream)\n",
        "message = stream.read()                            # Reading and storing the contents from the file object (line by line ['\\n'])\n",
        "stream.close()                                     # Closing the file object\n",
        "\n",
        "print(type(message))\n",
        "print(message)\n",
        "\n",
        "# The output below shows us the type of message variable, followed by a sample email that gives us the general template of the\n",
        "# of all the emails we will be using for the project."
      ]
    },
    {
      "cell_type": "code",
      "execution_count": null,
      "metadata": {
        "id": "QsdP7O9OtKLU",
        "outputId": "7fd46a7e-cb53-470c-cb8f-88c8243a1b5f"
      },
      "outputs": [
        {
          "data": {
            "text/plain": [
              "'utf-8'"
            ]
          },
          "execution_count": 4,
          "metadata": {},
          "output_type": "execute_result"
        }
      ],
      "source": [
        "import sys\n",
        "sys.getfilesystemencoding()\n",
        "\n",
        "# we are dealing with spam messages written only in english, and different machines may have different default encoding, we use \n",
        "# a different encoding for this project."
      ]
    },
    {
      "cell_type": "code",
      "execution_count": null,
      "metadata": {
        "id": "RrvvaeFbtKLW",
        "outputId": "ffe60a75-4dd9-408c-cee9-05463c8f029e"
      },
      "outputs": [
        {
          "name": "stdout",
          "output_type": "stream",
          "text": [
            "\n",
            "\n",
            "Dear Mr Still\n",
            "\n",
            "\n",
            "\n",
            "Good tidings to you and all your staff for the festive season ahead (Christmas).\n",
            "\n",
            "Now to the crux of the matter-in-hand: I am a fully qualified Santa Claus and am wondering whether you might consider me to run my own \"Santa's Grotto\" in your store.\n",
            "\n",
            "But WAIT! You're probably thinking: \"What makes him so special?\"\n",
            "\n",
            "Well, first of all, I have made several changes to the characterisation of Father Christmas. Rather than greeting the children with shouts of \"Ho, ho, ho!\" I prefer to whisper the phrase \"Dependence is not unfathomable in this cruel world we live in\". In addition, my gifts are ALL hand-made, ranging from felt hoops to vanilla-pod holders.\n",
            "\n",
            "You will note also, from the enclosed sketch, that I have radically redesigned Santa's outfit and have renamed my character \"Lord Buckles\". Would you be interested in employing me? I promise NEVER to let you down.\n",
            "\n",
            "I look forward to hearing from you.\n",
            "\n",
            "\n",
            "\n",
            "Best wishes\n",
            "\n",
            "Robin Cooper\n",
            "\n",
            "[Excerpt from the book: The Timewaster Letters by Robin Cooper]\n",
            "\n"
          ]
        }
      ],
      "source": [
        "# Getting only the body\n",
        "\n",
        "# As seen in the sample email, there is an empty line between the email header and the body.\n",
        "\n",
        "stream = open(EXAMPLE_FILE, encoding = \"latin-1\")  \n",
        "\n",
        "# In  all the scraped mails that make up the dataset, the body of the mail starts \n",
        "# after the first blank line, hence we can make use of the flag 'is_body'\n",
        "is_body = False\n",
        "lines = []\n",
        "for line in stream:\n",
        "    if is_body:\n",
        "        lines.append(line)\n",
        "    elif line == '\\n':\n",
        "        is_body = True\n",
        "stream.close()        \n",
        "\n",
        "email_body = '\\n'.join(lines) # to convert a list of strings into a single string \n",
        "print(email_body)\n"
      ]
    },
    {
      "cell_type": "markdown",
      "metadata": {
        "id": "_fFjuHHztKLc"
      },
      "source": [
        "## EMAIL Body extraction using generator function\n",
        "\n",
        "-  The walk function generates the filenames in a directory by walking the tree from the top to the bottom and it yields a  tuple of 3 things consisting the directory path, directory names and the filenames themselves."
      ]
    },
    {
      "cell_type": "code",
      "execution_count": null,
      "metadata": {
        "id": "Uecrp4fWtKLd"
      },
      "outputs": [],
      "source": [
        "def email_body_generator(path):\n",
        "\n",
        "    \"\"\"\n",
        "    This generator takes in a the path to a directory in which all the emails have been stored,\n",
        "    it traverses the directory tree in a top to bottom format (like DFS), and reads all the files\n",
        "    in the directory structure.\n",
        "\n",
        "    Arguments:\n",
        "      1. path (str): it is the path to the main folder under which all the mails are present\n",
        "\n",
        "    Yields:\n",
        "      1. filename (str): name of the file from which a scraped email is read\n",
        "      2. email_body (str): body of the corresponding email\n",
        "    \"\"\"\n",
        "    \n",
        "    for root, dirnames, filenames in walk(path):        # walk function explained above\n",
        "        \n",
        "        for filename in filenames:\n",
        "            \n",
        "            filepath = join(root, filename)\n",
        "            stream = open(filepath, encoding = \"latin-1\")  \n",
        "            \n",
        "            # In  all the scraped mails that make up the dataset, the body of the mail starts \n",
        "            # after the first blank line, hence we can make use of the flag 'is_body'\n",
        "            is_body = False\n",
        "            lines = []\n",
        "            for line in stream:\n",
        "                if is_body:\n",
        "                    lines.append(line)\n",
        "                elif line == '\\n':\n",
        "                    is_body = True\n",
        "            stream.close()        \n",
        "\n",
        "            email_body = '\\n'.join(lines)\n",
        "            \n",
        "            yield filename, email_body"
      ]
    },
    {
      "cell_type": "code",
      "execution_count": null,
      "metadata": {
        "id": "caapJvMZtKLe"
      },
      "outputs": [],
      "source": [
        "def df_from_directory(path, classification):\n",
        "    \"\"\"\n",
        "    This function takes in the path to a directory and the label for all the mails\n",
        "    in the directory, and creates and returns a DataFrame out of it\n",
        "\n",
        "    Arguments:\n",
        "    1. path (str): path to the directory containing scraped mails \n",
        "    2. classification (bin): denotes whether the directory is for spam emails or \n",
        "                             ham emails\n",
        "\n",
        "    Returns:\n",
        "    1. A pandas DataFrame consisting of email bodies and their corresponding labels\n",
        "       (spam or ham), indexed using the filenames of the mails\n",
        "    \"\"\"\n",
        "\n",
        "    rows = []                                       \n",
        "    row_names = []                                  \n",
        "    \n",
        "    for file_name, email_body in email_body_generator(path):\n",
        "        rows.append({'Message': email_body,'Category': classification})\n",
        "        row_names.append(file_name)\n",
        "        \n",
        "    return pd.DataFrame(rows, index = row_names)"
      ]
    },
    {
      "cell_type": "code",
      "execution_count": null,
      "metadata": {
        "id": "tSHDhh24tKLf"
      },
      "outputs": [],
      "source": [
        "spam_emails = df_from_directory(SPAM_1_PATH, 1)     # Let 1 denote spam emails, and 0 denote non-spam\n",
        "spam_emails = spam_emails.append(df_from_directory(SPAM_2_PATH, 1))\n",
        "\n",
        "ham_emails = df_from_directory(EASY_HAM_1_PATH, 0)\n",
        "ham_emails = ham_emails.append(df_from_directory(EASY_HAM_2_PATH, 0))"
      ]
    },
    {
      "cell_type": "code",
      "execution_count": null,
      "metadata": {
        "id": "0mq6UkLrtKLg",
        "outputId": "8f57c608-4d69-44c5-8c2d-4ddf41660de1"
      },
      "outputs": [
        {
          "data": {
            "text/plain": [
              "(1898, 2)"
            ]
          },
          "execution_count": 11,
          "metadata": {},
          "output_type": "execute_result"
        }
      ],
      "source": [
        "# Number of spam mails in the dataset\n",
        "spam_emails.shape"
      ]
    },
    {
      "cell_type": "code",
      "execution_count": null,
      "metadata": {
        "id": "rVhQggnitKLh",
        "outputId": "1c55c0d5-d668-49e8-e4cf-a8ea6eeb81f6"
      },
      "outputs": [
        {
          "data": {
            "text/plain": [
              "(3901, 2)"
            ]
          },
          "execution_count": 12,
          "metadata": {},
          "output_type": "execute_result"
        }
      ],
      "source": [
        "# Number of non-spam mails in the dataset\n",
        "ham_emails.shape"
      ]
    },
    {
      "cell_type": "code",
      "execution_count": null,
      "metadata": {
        "id": "B9i_ZFd5tKLi",
        "outputId": "957f5b17-7677-45e2-e222-e75065a455a4"
      },
      "outputs": [
        {
          "name": "stdout",
          "output_type": "stream",
          "text": [
            "Shape of our dataset:  (5799, 2)\n"
          ]
        },
        {
          "data": {
            "text/html": [
              "<div>\n",
              "<style scoped>\n",
              "    .dataframe tbody tr th:only-of-type {\n",
              "        vertical-align: middle;\n",
              "    }\n",
              "\n",
              "    .dataframe tbody tr th {\n",
              "        vertical-align: top;\n",
              "    }\n",
              "\n",
              "    .dataframe thead th {\n",
              "        text-align: right;\n",
              "    }\n",
              "</style>\n",
              "<table border=\"1\" class=\"dataframe\">\n",
              "  <thead>\n",
              "    <tr style=\"text-align: right;\">\n",
              "      <th></th>\n",
              "      <th>Message</th>\n",
              "      <th>Category</th>\n",
              "    </tr>\n",
              "  </thead>\n",
              "  <tbody>\n",
              "    <tr>\n",
              "      <th>00001.7848dde101aa985090474a91ec93fcf0</th>\n",
              "      <td>&lt;!DOCTYPE HTML PUBLIC \"-//W3C//DTD HTML 4.0 Tr...</td>\n",
              "      <td>1</td>\n",
              "    </tr>\n",
              "    <tr>\n",
              "      <th>00002.d94f1b97e48ed3b553b3508d116e6a09</th>\n",
              "      <td>1) Fight The Risk of Cancer!\\n\\nhttp://www.adc...</td>\n",
              "      <td>1</td>\n",
              "    </tr>\n",
              "    <tr>\n",
              "      <th>00003.2ee33bc6eacdb11f38d052c44819ba6c</th>\n",
              "      <td>1) Fight The Risk of Cancer!\\n\\nhttp://www.adc...</td>\n",
              "      <td>1</td>\n",
              "    </tr>\n",
              "    <tr>\n",
              "      <th>00004.eac8de8d759b7e74154f142194282724</th>\n",
              "      <td>##############################################...</td>\n",
              "      <td>1</td>\n",
              "    </tr>\n",
              "    <tr>\n",
              "      <th>00005.57696a39d7d84318ce497886896bf90d</th>\n",
              "      <td>I thought you might like these:\\n\\n1) Slim Dow...</td>\n",
              "      <td>1</td>\n",
              "    </tr>\n",
              "  </tbody>\n",
              "</table>\n",
              "</div>"
            ],
            "text/plain": [
              "                                                                                  Message  \\\n",
              "00001.7848dde101aa985090474a91ec93fcf0  <!DOCTYPE HTML PUBLIC \"-//W3C//DTD HTML 4.0 Tr...   \n",
              "00002.d94f1b97e48ed3b553b3508d116e6a09  1) Fight The Risk of Cancer!\\n\\nhttp://www.adc...   \n",
              "00003.2ee33bc6eacdb11f38d052c44819ba6c  1) Fight The Risk of Cancer!\\n\\nhttp://www.adc...   \n",
              "00004.eac8de8d759b7e74154f142194282724  ##############################################...   \n",
              "00005.57696a39d7d84318ce497886896bf90d  I thought you might like these:\\n\\n1) Slim Dow...   \n",
              "\n",
              "                                        Category  \n",
              "00001.7848dde101aa985090474a91ec93fcf0         1  \n",
              "00002.d94f1b97e48ed3b553b3508d116e6a09         1  \n",
              "00003.2ee33bc6eacdb11f38d052c44819ba6c         1  \n",
              "00004.eac8de8d759b7e74154f142194282724         1  \n",
              "00005.57696a39d7d84318ce497886896bf90d         1  "
            ]
          },
          "execution_count": 13,
          "metadata": {},
          "output_type": "execute_result"
        }
      ],
      "source": [
        "data = pd.concat([spam_emails, ham_emails])\n",
        "print(\"Shape of our dataset: \", data.shape)\n",
        "data.head()"
      ]
    },
    {
      "cell_type": "markdown",
      "metadata": {
        "id": "QN2WhdKztKLj"
      },
      "source": [
        "# DATA CLEANING\n",
        "\n",
        "## NULL VALUES"
      ]
    },
    {
      "cell_type": "code",
      "execution_count": null,
      "metadata": {
        "id": "XwkOGksStKLj",
        "outputId": "1101382d-0503-4a9e-ea59-83069371a386"
      },
      "outputs": [
        {
          "data": {
            "text/plain": [
              "False"
            ]
          },
          "execution_count": 14,
          "metadata": {},
          "output_type": "execute_result"
        }
      ],
      "source": [
        "# Checking if any of the email bodies are null \n",
        "data.Message.isnull().values.any()   \n",
        "# .values returns a list without indices and any() will return true if there is atleast 1 true in the list"
      ]
    },
    {
      "cell_type": "markdown",
      "metadata": {
        "id": "2IUdz-53tKLk"
      },
      "source": [
        "## EMPTY BODIES"
      ]
    },
    {
      "cell_type": "code",
      "execution_count": null,
      "metadata": {
        "id": "BwGZaZydtKLl",
        "outputId": "703607cd-e054-4734-d6a2-6f4dd89989ca"
      },
      "outputs": [
        {
          "data": {
            "text/plain": [
              "True"
            ]
          },
          "execution_count": 15,
          "metadata": {},
          "output_type": "execute_result"
        }
      ],
      "source": [
        "# Checking if there are any emails with empty (length = 0) bodies in our dataset\n",
        "(data.Message.str.len() == 0).any()"
      ]
    },
    {
      "cell_type": "code",
      "execution_count": null,
      "metadata": {
        "id": "saGOYpVdtKLm",
        "outputId": "96db9c20-b19d-40f4-d339-77649a3ec485"
      },
      "outputs": [
        {
          "data": {
            "text/plain": [
              "3"
            ]
          },
          "execution_count": 16,
          "metadata": {},
          "output_type": "execute_result"
        }
      ],
      "source": [
        "# Getting the exact number of messages that are empty strings\n",
        "(data.Message.str.len() == 0).sum()"
      ]
    },
    {
      "cell_type": "markdown",
      "metadata": {
        "id": "Ec7bF3w0tKLn"
      },
      "source": [
        "### LOCATING EMPTY EMAILS"
      ]
    },
    {
      "cell_type": "code",
      "execution_count": null,
      "metadata": {
        "id": "2X5jp4yxtKLn",
        "outputId": "9217c669-f40c-47bb-d455-0b037496c580"
      },
      "outputs": [
        {
          "data": {
            "text/plain": [
              "pandas.core.series.Series"
            ]
          },
          "execution_count": 17,
          "metadata": {},
          "output_type": "execute_result"
        }
      ],
      "source": [
        "type(data.Message.str.len() == 0)"
      ]
    },
    {
      "cell_type": "code",
      "execution_count": null,
      "metadata": {
        "id": "oNqgueGytKLo",
        "outputId": "bc64a5a7-83a8-4dc0-efeb-562c5f8ec849"
      },
      "outputs": [
        {
          "data": {
            "text/plain": [
              "Index(['cmds', 'cmds', 'cmds'], dtype='object')"
            ]
          },
          "execution_count": 18,
          "metadata": {},
          "output_type": "execute_result"
        }
      ],
      "source": [
        "# the datatype of the object returned by the above conditional is a pandas series, hence we can use it for Boolean indexing\n",
        "# Getting the indices of the files with no email bodies\n",
        "data[data.Message.str.len() == 0].index"
      ]
    },
    {
      "cell_type": "code",
      "execution_count": null,
      "metadata": {
        "id": "Uf0Px72DtKLo"
      },
      "outputs": [],
      "source": [
        "# The cmds files are actually system files that dont belong in the email corpus. \n",
        "# The walk() function used by us walks through all the files in the directory, hence we ended up adding system files to our data"
      ]
    },
    {
      "cell_type": "markdown",
      "metadata": {
        "id": "G-JwA24wtKLp"
      },
      "source": [
        "### REMOVE SYSTEM FILE ENTRIES FROM THE DATAFRAME"
      ]
    },
    {
      "cell_type": "code",
      "execution_count": null,
      "metadata": {
        "id": "vAwhee0jtKLp",
        "outputId": "1fb54d8a-ff3f-4f37-d7fd-942a032d861f"
      },
      "outputs": [
        {
          "data": {
            "text/plain": [
              "(5796, 2)"
            ]
          },
          "execution_count": 20,
          "metadata": {},
          "output_type": "execute_result"
        }
      ],
      "source": [
        "data.drop(['cmds'], inplace = True)\n",
        "data.shape"
      ]
    },
    {
      "cell_type": "markdown",
      "metadata": {
        "id": "5tM1l3ggtKLq"
      },
      "source": [
        "## GIVING SEQUENTIAL ID's TO EMAILS FOR EASY ACCESS"
      ]
    },
    {
      "cell_type": "code",
      "execution_count": null,
      "metadata": {
        "id": "anHHlDHXtKLq",
        "outputId": "d29f100d-8f5e-4878-c161-34aa56d2d875"
      },
      "outputs": [
        {
          "data": {
            "text/plain": [
              "00001.7848dde101aa985090474a91ec93fcf0       0\n",
              "00002.d94f1b97e48ed3b553b3508d116e6a09       1\n",
              "00003.2ee33bc6eacdb11f38d052c44819ba6c       2\n",
              "00004.eac8de8d759b7e74154f142194282724       3\n",
              "00005.57696a39d7d84318ce497886896bf90d       4\n",
              "                                          ... \n",
              "01396.61983fbe6ec43f55fd44e30fce24ffa6    5791\n",
              "01397.9f9ef4c2a8dc012d80f2ce2d3473d3b7    5792\n",
              "01398.169b51731fe569f42169ae8f948ec676    5793\n",
              "01399.ca6b00b7b341bbde9a9ea3dd6a7bf896    5794\n",
              "01400.f897f0931e461e7b2e964d28e927c35e    5795\n",
              "Name: DOC_ID, Length: 5796, dtype: int32"
            ]
          },
          "execution_count": 21,
          "metadata": {},
          "output_type": "execute_result"
        }
      ],
      "source": [
        "document_ids = range(0, len(data.index))\n",
        "data[\"DOC_ID\"] = document_ids\n",
        "data.DOC_ID"
      ]
    },
    {
      "cell_type": "code",
      "execution_count": null,
      "metadata": {
        "id": "bGoiIIHEtKLr",
        "outputId": "1196e855-c7bc-45f8-f126-af19cc3dee77"
      },
      "outputs": [
        {
          "data": {
            "text/html": [
              "<div>\n",
              "<style scoped>\n",
              "    .dataframe tbody tr th:only-of-type {\n",
              "        vertical-align: middle;\n",
              "    }\n",
              "\n",
              "    .dataframe tbody tr th {\n",
              "        vertical-align: top;\n",
              "    }\n",
              "\n",
              "    .dataframe thead th {\n",
              "        text-align: right;\n",
              "    }\n",
              "</style>\n",
              "<table border=\"1\" class=\"dataframe\">\n",
              "  <thead>\n",
              "    <tr style=\"text-align: right;\">\n",
              "      <th></th>\n",
              "      <th>Message</th>\n",
              "      <th>Category</th>\n",
              "      <th>FILE_NAME</th>\n",
              "    </tr>\n",
              "    <tr>\n",
              "      <th>DOC_ID</th>\n",
              "      <th></th>\n",
              "      <th></th>\n",
              "      <th></th>\n",
              "    </tr>\n",
              "  </thead>\n",
              "  <tbody>\n",
              "    <tr>\n",
              "      <th>0</th>\n",
              "      <td>&lt;!DOCTYPE HTML PUBLIC \"-//W3C//DTD HTML 4.0 Tr...</td>\n",
              "      <td>1</td>\n",
              "      <td>00001.7848dde101aa985090474a91ec93fcf0</td>\n",
              "    </tr>\n",
              "    <tr>\n",
              "      <th>1</th>\n",
              "      <td>1) Fight The Risk of Cancer!\\n\\nhttp://www.adc...</td>\n",
              "      <td>1</td>\n",
              "      <td>00002.d94f1b97e48ed3b553b3508d116e6a09</td>\n",
              "    </tr>\n",
              "    <tr>\n",
              "      <th>2</th>\n",
              "      <td>1) Fight The Risk of Cancer!\\n\\nhttp://www.adc...</td>\n",
              "      <td>1</td>\n",
              "      <td>00003.2ee33bc6eacdb11f38d052c44819ba6c</td>\n",
              "    </tr>\n",
              "    <tr>\n",
              "      <th>3</th>\n",
              "      <td>##############################################...</td>\n",
              "      <td>1</td>\n",
              "      <td>00004.eac8de8d759b7e74154f142194282724</td>\n",
              "    </tr>\n",
              "    <tr>\n",
              "      <th>4</th>\n",
              "      <td>I thought you might like these:\\n\\n1) Slim Dow...</td>\n",
              "      <td>1</td>\n",
              "      <td>00005.57696a39d7d84318ce497886896bf90d</td>\n",
              "    </tr>\n",
              "  </tbody>\n",
              "</table>\n",
              "</div>"
            ],
            "text/plain": [
              "                                                  Message  Category  \\\n",
              "DOC_ID                                                                \n",
              "0       <!DOCTYPE HTML PUBLIC \"-//W3C//DTD HTML 4.0 Tr...         1   \n",
              "1       1) Fight The Risk of Cancer!\\n\\nhttp://www.adc...         1   \n",
              "2       1) Fight The Risk of Cancer!\\n\\nhttp://www.adc...         1   \n",
              "3       ##############################################...         1   \n",
              "4       I thought you might like these:\\n\\n1) Slim Dow...         1   \n",
              "\n",
              "                                     FILE_NAME  \n",
              "DOC_ID                                          \n",
              "0       00001.7848dde101aa985090474a91ec93fcf0  \n",
              "1       00002.d94f1b97e48ed3b553b3508d116e6a09  \n",
              "2       00003.2ee33bc6eacdb11f38d052c44819ba6c  \n",
              "3       00004.eac8de8d759b7e74154f142194282724  \n",
              "4       00005.57696a39d7d84318ce497886896bf90d  "
            ]
          },
          "execution_count": 22,
          "metadata": {},
          "output_type": "execute_result"
        }
      ],
      "source": [
        "data['FILE_NAME'] = data.index\n",
        "data = data.set_index('DOC_ID')\n",
        "data.head()"
      ]
    },
    {
      "cell_type": "code",
      "execution_count": null,
      "metadata": {
        "id": "Iq_keZrqtKLs",
        "outputId": "1d2ff6f0-02c2-4acf-9779-c7f5a224df28"
      },
      "outputs": [
        {
          "data": {
            "text/html": [
              "<div>\n",
              "<style scoped>\n",
              "    .dataframe tbody tr th:only-of-type {\n",
              "        vertical-align: middle;\n",
              "    }\n",
              "\n",
              "    .dataframe tbody tr th {\n",
              "        vertical-align: top;\n",
              "    }\n",
              "\n",
              "    .dataframe thead th {\n",
              "        text-align: right;\n",
              "    }\n",
              "</style>\n",
              "<table border=\"1\" class=\"dataframe\">\n",
              "  <thead>\n",
              "    <tr style=\"text-align: right;\">\n",
              "      <th></th>\n",
              "      <th>Message</th>\n",
              "      <th>Category</th>\n",
              "      <th>FILE_NAME</th>\n",
              "    </tr>\n",
              "    <tr>\n",
              "      <th>DOC_ID</th>\n",
              "      <th></th>\n",
              "      <th></th>\n",
              "      <th></th>\n",
              "    </tr>\n",
              "  </thead>\n",
              "  <tbody>\n",
              "    <tr>\n",
              "      <th>5791</th>\n",
              "      <td>http://news.bbc.co.uk/1/hi/england/2515127.stm...</td>\n",
              "      <td>0</td>\n",
              "      <td>01396.61983fbe6ec43f55fd44e30fce24ffa6</td>\n",
              "    </tr>\n",
              "    <tr>\n",
              "      <th>5792</th>\n",
              "      <td>&gt; &gt;-- be careful when using this one.) Also, t...</td>\n",
              "      <td>0</td>\n",
              "      <td>01397.9f9ef4c2a8dc012d80f2ce2d3473d3b7</td>\n",
              "    </tr>\n",
              "    <tr>\n",
              "      <th>5793</th>\n",
              "      <td>&gt;&gt;&gt;&gt;&gt; \"SM\" == Skip Montanaro &lt;skip@pobox.com&gt; ...</td>\n",
              "      <td>0</td>\n",
              "      <td>01398.169b51731fe569f42169ae8f948ec676</td>\n",
              "    </tr>\n",
              "    <tr>\n",
              "      <th>5794</th>\n",
              "      <td>So then, \"Mark Hammond\" &lt;mhammond@skippinet.co...</td>\n",
              "      <td>0</td>\n",
              "      <td>01399.ca6b00b7b341bbde9a9ea3dd6a7bf896</td>\n",
              "    </tr>\n",
              "    <tr>\n",
              "      <th>5795</th>\n",
              "      <td>Hi there,\\n\\n\\n\\nNow this is probably of no us...</td>\n",
              "      <td>0</td>\n",
              "      <td>01400.f897f0931e461e7b2e964d28e927c35e</td>\n",
              "    </tr>\n",
              "  </tbody>\n",
              "</table>\n",
              "</div>"
            ],
            "text/plain": [
              "                                                  Message  Category  \\\n",
              "DOC_ID                                                                \n",
              "5791    http://news.bbc.co.uk/1/hi/england/2515127.stm...         0   \n",
              "5792    > >-- be careful when using this one.) Also, t...         0   \n",
              "5793    >>>>> \"SM\" == Skip Montanaro <skip@pobox.com> ...         0   \n",
              "5794    So then, \"Mark Hammond\" <mhammond@skippinet.co...         0   \n",
              "5795    Hi there,\\n\\n\\n\\nNow this is probably of no us...         0   \n",
              "\n",
              "                                     FILE_NAME  \n",
              "DOC_ID                                          \n",
              "5791    01396.61983fbe6ec43f55fd44e30fce24ffa6  \n",
              "5792    01397.9f9ef4c2a8dc012d80f2ce2d3473d3b7  \n",
              "5793    01398.169b51731fe569f42169ae8f948ec676  \n",
              "5794    01399.ca6b00b7b341bbde9a9ea3dd6a7bf896  \n",
              "5795    01400.f897f0931e461e7b2e964d28e927c35e  "
            ]
          },
          "execution_count": 23,
          "metadata": {},
          "output_type": "execute_result"
        }
      ],
      "source": [
        "data.tail()"
      ]
    },
    {
      "cell_type": "markdown",
      "metadata": {
        "id": "DcO3pG9MtKLs"
      },
      "source": [
        "## Saving Cleaned Data to a JSON File\n",
        "\n",
        "This will help us by saving the time we require to preprocess data every time we open the notebook."
      ]
    },
    {
      "cell_type": "code",
      "execution_count": null,
      "metadata": {
        "id": "hAY_JrwdtKLt"
      },
      "outputs": [],
      "source": [
        "data.to_json(DATA_JSON_FILE)"
      ]
    },
    {
      "cell_type": "markdown",
      "metadata": {
        "id": "HfvkaelKtKLt"
      },
      "source": [
        "# Data Exploration and Visualization"
      ]
    },
    {
      "cell_type": "code",
      "execution_count": null,
      "metadata": {
        "id": "Kk4scOqBtKLu",
        "outputId": "c92a3af2-f493-4acc-d7c9-d7a1fa78e16a"
      },
      "outputs": [
        {
          "data": {
            "text/plain": [
              "0    3900\n",
              "1    1896\n",
              "Name: Category, dtype: int64"
            ]
          },
          "execution_count": 25,
          "metadata": {},
          "output_type": "execute_result"
        }
      ],
      "source": [
        "data.Category.value_counts()"
      ]
    },
    {
      "cell_type": "code",
      "execution_count": null,
      "metadata": {
        "id": "lz6vNW0wtKLu"
      },
      "outputs": [],
      "source": [
        "spam_count = data.Category.value_counts()[1]\n",
        "ham_count = data.Category.value_counts()[0]"
      ]
    },
    {
      "cell_type": "code",
      "execution_count": null,
      "metadata": {
        "id": "ZQM6WAljtKLv",
        "outputId": "f18e67c2-8119-4f1a-88d7-16933c11b5da"
      },
      "outputs": [
        {
          "data": {
            "image/png": "[encoded data removed]",
            "text/plain": [
              "<Figure size 432x288 with 1 Axes>"
            ]
          },
          "metadata": {},
          "output_type": "display_data"
        }
      ],
      "source": [
        "category_names = ['Spam Mail', 'Legit Mail']\n",
        "sizes = [spam_count, ham_count]\n",
        "\n",
        "# Pie-Chart (Spam Mail vs Legit(Ham) Mail)\n",
        "plt.pie(sizes, labels = category_names)\n",
        "plt.show()"
      ]
    },
    {
      "cell_type": "markdown",
      "metadata": {
        "id": "jT9K-wTItKLv"
      },
      "source": [
        "**NOTE:** Sharper images ofcharts are good for storing and using in your reports as they have much higher resolution and hence, are more presentable."
      ]
    },
    {
      "cell_type": "code",
      "execution_count": null,
      "metadata": {
        "id": "Lj9wXsoLtKLw",
        "outputId": "d2013c21-3700-43bd-ef45-956805d7d418"
      },
      "outputs": [
        {
          "data": {
            "image/png": "[encoded data removed]",
            "text/plain": [
              "<Figure size 454x454 with 1 Axes>"
            ]
          },
          "metadata": {},
          "output_type": "display_data"
        }
      ],
      "source": [
        "custom_colors = ['#FD7272','#25CCF7']\n",
        "\n",
        "plt.figure(figsize = (2,2), dpi = 227)    # dpi = density per inch, higher dpi means sharper image\n",
        "plt.pie(sizes, labels = category_names, textprops= {'fontsize': 6}, autopct = '%1.0f%%', startangle = 90,\n",
        "       colors = custom_colors, explode = [0, 0.075])\n",
        "plt.show()"
      ]
    },
    {
      "cell_type": "code",
      "execution_count": null,
      "metadata": {
        "id": "i6TDR2U0tKLw",
        "outputId": "df2b1b26-ace9-4018-9726-a256611fae7d"
      },
      "outputs": [
        {
          "data": {
            "image/png": "[encoded data removed]",
            "text/plain": [
              "<Figure size 454x454 with 1 Axes>"
            ]
          },
          "metadata": {},
          "output_type": "display_data"
        }
      ],
      "source": [
        "custom_colors = ['#FD7272','#25CCF7']\n",
        "\n",
        "plt.figure(figsize = (2,2), dpi = 227)    # dpi = density per inch, higher dpi means sharper image\n",
        "plt.pie(sizes, labels = category_names, textprops= {'fontsize': 6}, autopct = '%1.0f%%', startangle = 90,\n",
        "       colors = custom_colors, pctdistance = 0.8)\n",
        "\n",
        "center_circle = plt.Circle((0, 0), radius = 0.6, fc = 'white')\n",
        "plt.gca().add_artist(center_circle)\n",
        "\n",
        "plt.show()"
      ]
    },
    {
      "cell_type": "markdown",
      "metadata": {
        "id": "oU-vAmtwtKLx"
      },
      "source": [
        "# Natural Language Processing"
      ]
    },
    {
      "cell_type": "markdown",
      "metadata": {
        "id": "6t9XYCfbtKLx"
      },
      "source": [
        "## Text Preprocessing"
      ]
    },
    {
      "cell_type": "code",
      "execution_count": null,
      "metadata": {
        "id": "ocWR1AydtKLy",
        "outputId": "e975ba56-40d0-42e2-90e6-5bd61ee84a43"
      },
      "outputs": [
        {
          "name": "stderr",
          "output_type": "stream",
          "text": [
            "[nltk_data] Downloading package punkt to C:\\Users\\Hammad\n",
            "[nltk_data]     Khan\\AppData\\Roaming\\nltk_data...\n",
            "[nltk_data]   Package punkt is already up-to-date!\n",
            "[nltk_data] Downloading package stopwords to C:\\Users\\Hammad\n",
            "[nltk_data]     Khan\\AppData\\Roaming\\nltk_data...\n",
            "[nltk_data]   Package stopwords is already up-to-date!\n"
          ]
        },
        {
          "data": {
            "text/plain": [
              "True"
            ]
          },
          "execution_count": 30,
          "metadata": {},
          "output_type": "execute_result"
        }
      ],
      "source": [
        "# nltk needs a certain component to be downloaded onto the local machine before becoming usable\n",
        "\n",
        "nltk.download('punkt') # Sentence Tokenizer: divides a text into a list of sentences by using an \n",
        "                       # unsupervised algorithm\n",
        "\n",
        "nltk.download('stopwords') # A stop word is a commonly used word (such as “the”, “a”, “an”, “in”)\n",
        "                           # that a search engine has been programmed to ignore, these dont contribute \n",
        "                           # much to the meaning of the sentences"
      ]
    },
    {
      "cell_type": "markdown",
      "metadata": {
        "id": "YNh8T55LtKLy"
      },
      "source": [
        "### Glossary\n",
        "\n",
        "- **tokenizing** words means separating every word and punctuations. (unlike the split() function, it is able to separate the string 'apples, mangoes and bananas' to ['apples', \",\", 'mangoes', 'and', 'bananas'], even the punctuation \",\" becomes a separate token.\n",
        "\n",
        "- **stop_words** are the words in a statement that do not contribute significantly to the meaning of the statement, however, these words are essential in terms of grammar. Eg: and, or, the, a, would, should'nt, etc.\n",
        "\n",
        "- **word stemming** is the practice of reducing a word to its base form. Since for our purpose, we only need to concern ourselves with the meaning of words and not the different forms of them (this would just increase the workload and hence, waste time), stemming will greatly improve our model. "
      ]
    },
    {
      "cell_type": "code",
      "execution_count": null,
      "metadata": {
        "id": "7kDYzUVXtKLz"
      },
      "outputs": [],
      "source": [
        "def clean_msg(message, stemmer = PorterStemmer(), stop_words = set(stopwords.words('english'))):\n",
        "    \n",
        "    # Removing HTML tags\n",
        "    soup = BeautifulSoup(message, 'html.parser')\n",
        "    cleaned_text = soup.get_text()\n",
        "    \n",
        "    # Converting to lower case and splitting message into a list of words (for the bag of words approach)\n",
        "    words = word_tokenize(cleaned_text.lower())\n",
        "    \n",
        "    filtered_words = []\n",
        "    \n",
        "    #Removing stop_words and punctuation, and stemming all the words to their base form\n",
        "    for word in words:\n",
        "        if word not in stop_words and word.isalpha():\n",
        "            filtered_words.append(stemmer.stem(word))\n",
        "            \n",
        "    return filtered_words"
      ]
    },
    {
      "cell_type": "code",
      "execution_count": null,
      "metadata": {
        "id": "udVz4eGFtKLz",
        "outputId": "71d44c41-f550-476f-fe5f-b6f5dd9d96a6"
      },
      "outputs": [
        {
          "data": {
            "text/plain": [
              "['fight',\n",
              " 'risk',\n",
              " 'cancer',\n",
              " 'http',\n",
              " 'slim',\n",
              " 'guarante',\n",
              " 'lose',\n",
              " 'lb',\n",
              " 'day',\n",
              " 'http',\n",
              " 'get',\n",
              " 'child',\n",
              " 'support',\n",
              " 'deserv',\n",
              " 'free',\n",
              " 'legal',\n",
              " 'advic',\n",
              " 'http',\n",
              " 'join',\n",
              " 'web',\n",
              " 'fastest',\n",
              " 'grow',\n",
              " 'singl',\n",
              " 'commun',\n",
              " 'http',\n",
              " 'start',\n",
              " 'privat',\n",
              " 'photo',\n",
              " 'album',\n",
              " 'onlin',\n",
              " 'http',\n",
              " 'wonder',\n",
              " 'day',\n",
              " 'offer',\n",
              " 'manag',\n",
              " 'prizemama',\n",
              " 'wish',\n",
              " 'leav',\n",
              " 'list',\n",
              " 'pleas',\n",
              " 'use',\n",
              " 'link',\n",
              " 'http',\n",
              " 'zzzz']"
            ]
          },
          "execution_count": 32,
          "metadata": {},
          "output_type": "execute_result"
        }
      ],
      "source": [
        "# Testing our function on a sample\n",
        "clean_msg(data.at[2, 'Message'])"
      ]
    },
    {
      "cell_type": "markdown",
      "metadata": {
        "id": "OA4ARTfMtKL0"
      },
      "source": [
        "- df.at[ x_name, y_name ]\n",
        "- df.iat[ i , j ]\n",
        "- df.iloc[ i:i+k ]"
      ]
    },
    {
      "cell_type": "markdown",
      "metadata": {
        "id": "P1ZsONBMtKL0"
      },
      "source": [
        "## Processing the text of all messages in our dataset"
      ]
    },
    {
      "cell_type": "code",
      "execution_count": null,
      "metadata": {
        "id": "ytnt8RCztKL0",
        "outputId": "95c73510-a027-49a0-ab7e-59dc4ff3b469"
      },
      "outputs": [
        {
          "name": "stderr",
          "output_type": "stream",
          "text": [
            "C:\\ProgramData\\Anaconda3\\lib\\site-packages\\bs4\\__init__.py:417: MarkupResemblesLocatorWarning: \"http://www.post-gazette.com/columnists/20020905brian5\n",
            "\" looks like a URL. Beautiful Soup is not an HTTP client. You should probably use an HTTP client like requests to get the document behind the URL, and feed that document to Beautiful Soup.\n",
            "  warnings.warn(\n"
          ]
        },
        {
          "name": "stdout",
          "output_type": "stream",
          "text": [
            "Wall time: 2min 12s\n"
          ]
        }
      ],
      "source": [
        "%%time\n",
        "nested_list = data.Message.apply(clean_msg)"
      ]
    },
    {
      "cell_type": "code",
      "execution_count": null,
      "metadata": {
        "id": "iU7qcPXHtKL1",
        "outputId": "e4a1a9d1-87a8-4e2a-aadd-94a6070664c9"
      },
      "outputs": [
        {
          "data": {
            "text/plain": [
              "DOC_ID\n",
              "0    [save, life, insur, spend, life, quot, save, g...\n",
              "1    [fight, risk, cancer, http, slim, guarante, lo...\n",
              "2    [fight, risk, cancer, http, slim, guarante, lo...\n",
              "3    [adult, club, offer, free, membership, instant...\n",
              "4    [thought, might, like, slim, guarante, lose, l...\n",
              "Name: Message, dtype: object"
            ]
          },
          "execution_count": 34,
          "metadata": {},
          "output_type": "execute_result"
        }
      ],
      "source": [
        "# ignoring BeautifulSoup's warning for opening a website as its irrelevant here\n",
        "nested_list.head()"
      ]
    },
    {
      "cell_type": "markdown",
      "metadata": {
        "id": "sgNsM3HYtKL1"
      },
      "source": [
        "## Getting the most used words in spam and ham emails"
      ]
    },
    {
      "cell_type": "code",
      "execution_count": null,
      "metadata": {
        "id": "7ZBk8JR-tKL2"
      },
      "outputs": [],
      "source": [
        "doc_id_spam = data[data.Category == 1].index\n",
        "doc_id_ham = data[data.Category == 0].index"
      ]
    },
    {
      "cell_type": "code",
      "execution_count": null,
      "metadata": {
        "id": "N9Ps-X0ltKL2"
      },
      "outputs": [],
      "source": [
        "nested_list_spam = nested_list.loc[doc_id_spam]\n",
        "nested_list_ham = nested_list.loc[doc_id_ham]"
      ]
    },
    {
      "cell_type": "code",
      "execution_count": null,
      "metadata": {
        "id": "W4rLnsw_tKL3"
      },
      "outputs": [],
      "source": [
        "word_count_list_spam = pd.Series([word for sublist in nested_list_spam for word in sublist]).value_counts()\n",
        "word_count_list_ham = pd.Series([word for sublist in nested_list_ham for word in sublist]).value_counts()"
      ]
    },
    {
      "cell_type": "code",
      "execution_count": null,
      "metadata": {
        "id": "rmp7TvMYtKL3",
        "outputId": "37660a70-6b8e-4856-83e0-678a022da222"
      },
      "outputs": [
        {
          "data": {
            "text/plain": [
              "http                  7563\n",
              "use                   3633\n",
              "list                  2880\n",
              "one                   2373\n",
              "get                   2286\n",
              "                      ... \n",
              "crave                    1\n",
              "seekabl                  1\n",
              "dehlongi                 1\n",
              "confiendnc               1\n",
              "searchtemplatepath       1\n",
              "Length: 20815, dtype: int64"
            ]
          },
          "execution_count": 38,
          "metadata": {},
          "output_type": "execute_result"
        }
      ],
      "source": [
        "word_count_list_ham"
      ]
    },
    {
      "cell_type": "code",
      "execution_count": null,
      "metadata": {
        "id": "J300wizVtKL4",
        "outputId": "b53a0029-686e-44dd-ac23-3d3c95d6c7dd"
      },
      "outputs": [
        {
          "data": {
            "text/plain": [
              "http           3097\n",
              "email          3090\n",
              "free           2585\n",
              "click          2058\n",
              "receiv         1989\n",
              "               ... \n",
              "nontradit         1\n",
              "forafre           1\n",
              "òåáìøîùå          1\n",
              "gbbandwidth       1\n",
              "drag              1\n",
              "Length: 13242, dtype: int64"
            ]
          },
          "execution_count": 39,
          "metadata": {},
          "output_type": "execute_result"
        }
      ],
      "source": [
        "word_count_list_spam"
      ]
    },
    {
      "cell_type": "markdown",
      "metadata": {
        "id": "e6-LkX6CtKL4"
      },
      "source": [
        "## Generate Vocabulary and Dictionary"
      ]
    },
    {
      "cell_type": "code",
      "execution_count": null,
      "metadata": {
        "id": "29eiG0rAtKL5"
      },
      "outputs": [],
      "source": [
        "flat_stemmed_list = [item for sublist in nested_list for item in sublist]"
      ]
    },
    {
      "cell_type": "code",
      "execution_count": null,
      "metadata": {
        "id": "2FJaasDXtKL5"
      },
      "outputs": [],
      "source": [
        "unique_words = pd.Series(flat_stemmed_list).value_counts()"
      ]
    },
    {
      "cell_type": "code",
      "execution_count": null,
      "metadata": {
        "id": "S6Pg5iSgtKL5",
        "outputId": "afc25bca-2c6f-41c5-959b-2ec70f1a1a29"
      },
      "outputs": [
        {
          "name": "stdout",
          "output_type": "stream",
          "text": [
            "Total number of unique stemmed words =  27334\n"
          ]
        }
      ],
      "source": [
        "# Total number of unique stemmed words in all our emails\n",
        "print(\"Total number of unique stemmed words = \", unique_words.shape[0])"
      ]
    },
    {
      "cell_type": "code",
      "execution_count": null,
      "metadata": {
        "id": "2kq3GlcRtKL6",
        "outputId": "bf7d3b0b-3bd7-4eb0-fe21-2df4e8e37de3"
      },
      "outputs": [
        {
          "data": {
            "text/plain": [
              "pandas.core.series.Series"
            ]
          },
          "execution_count": 43,
          "metadata": {},
          "output_type": "execute_result"
        }
      ],
      "source": [
        "frequent_words = unique_words.iloc[0:VOCAB_SIZE]\n",
        "type(frequent_words)"
      ]
    },
    {
      "cell_type": "markdown",
      "metadata": {
        "id": "CgDhAhurtKL7"
      },
      "source": [
        "### Vocab Dataframe and CSV"
      ]
    },
    {
      "cell_type": "code",
      "execution_count": null,
      "metadata": {
        "id": "_kIsvPp4tKL7",
        "outputId": "ed14b679-bb81-40a2-a3cb-544ff9948172"
      },
      "outputs": [
        {
          "data": {
            "text/html": [
              "<div>\n",
              "<style scoped>\n",
              "    .dataframe tbody tr th:only-of-type {\n",
              "        vertical-align: middle;\n",
              "    }\n",
              "\n",
              "    .dataframe tbody tr th {\n",
              "        vertical-align: top;\n",
              "    }\n",
              "\n",
              "    .dataframe thead th {\n",
              "        text-align: right;\n",
              "    }\n",
              "</style>\n",
              "<table border=\"1\" class=\"dataframe\">\n",
              "  <thead>\n",
              "    <tr style=\"text-align: right;\">\n",
              "      <th></th>\n",
              "      <th>VOCAB_WORDS</th>\n",
              "    </tr>\n",
              "    <tr>\n",
              "      <th>WORD_IDS</th>\n",
              "      <th></th>\n",
              "    </tr>\n",
              "  </thead>\n",
              "  <tbody>\n",
              "    <tr>\n",
              "      <th>0</th>\n",
              "      <td>http</td>\n",
              "    </tr>\n",
              "    <tr>\n",
              "      <th>1</th>\n",
              "      <td>use</td>\n",
              "    </tr>\n",
              "    <tr>\n",
              "      <th>2</th>\n",
              "      <td>list</td>\n",
              "    </tr>\n",
              "    <tr>\n",
              "      <th>3</th>\n",
              "      <td>email</td>\n",
              "    </tr>\n",
              "    <tr>\n",
              "      <th>4</th>\n",
              "      <td>get</td>\n",
              "    </tr>\n",
              "  </tbody>\n",
              "</table>\n",
              "</div>"
            ],
            "text/plain": [
              "         VOCAB_WORDS\n",
              "WORD_IDS            \n",
              "0               http\n",
              "1                use\n",
              "2               list\n",
              "3              email\n",
              "4                get"
            ]
          },
          "execution_count": 44,
          "metadata": {},
          "output_type": "execute_result"
        }
      ],
      "source": [
        "word_ids = list(range(0, VOCAB_SIZE))\n",
        "vocab = pd.DataFrame({'VOCAB_WORDS': frequent_words.index.values}, index = word_ids)\n",
        "vocab.index.name = 'WORD_IDS'\n",
        "vocab.head()"
      ]
    },
    {
      "cell_type": "code",
      "execution_count": null,
      "metadata": {
        "id": "ApjWlj3ytKL8"
      },
      "outputs": [],
      "source": [
        "vocab.to_csv(WORD_ID_FILE, index_label = vocab.index.name, header = vocab.VOCAB_WORDS.name)"
      ]
    },
    {
      "cell_type": "markdown",
      "metadata": {
        "id": "b47t5WtYtKL8"
      },
      "source": [
        "## Finding the largest email"
      ]
    },
    {
      "cell_type": "code",
      "execution_count": null,
      "metadata": {
        "id": "TMdUdPpAtKL8",
        "outputId": "fad3e761-e74b-4845-b8a8-211551081450"
      },
      "outputs": [
        {
          "name": "stdout",
          "output_type": "stream",
          "text": [
            "No. of words in the longest email:  7671\n"
          ]
        }
      ],
      "source": [
        "clean_email_lengths = [len(sublist) for sublist in nested_list]\n",
        "print(\"No. of words in the longest email: \", max(clean_email_lengths))"
      ]
    },
    {
      "cell_type": "code",
      "execution_count": null,
      "metadata": {
        "id": "wMGjAGBztKL9",
        "outputId": "177720c5-43a0-409a-f37c-a96f5643a716"
      },
      "outputs": [
        {
          "name": "stdout",
          "output_type": "stream",
          "text": [
            "Position of the email in our dataframe:  5775\n"
          ]
        }
      ],
      "source": [
        "print(\"Position of the email in our dataframe: \", np.argmax(clean_email_lengths))"
      ]
    },
    {
      "cell_type": "code",
      "execution_count": null,
      "metadata": {
        "id": "VrjE-wVatKL9",
        "outputId": "5f6e02e3-57dd-4124-edc5-f863ad58864d"
      },
      "outputs": [
        {
          "data": {
            "text/plain": [
              "7671"
            ]
          },
          "execution_count": 48,
          "metadata": {},
          "output_type": "execute_result"
        }
      ],
      "source": [
        "# Cross-checking if the clean message at the index 5775 has the same number of words \n",
        "len(nested_list.iloc[5775])"
      ]
    },
    {
      "cell_type": "code",
      "execution_count": null,
      "metadata": {
        "id": "GWImpooFtKL-",
        "outputId": "f2bde46f-8025-4b50-83ad-1ae491cf9e77"
      },
      "outputs": [
        {
          "data": {
            "text/plain": [
              "'------------------------ Yahoo! Groups Sponsor ---------------------~-->\\n\\n4 DVDs Free +s&p Join Now\\n\\nhttp://us.click.yahoo.com/pt6YBB/NXiEAA/Ey.GAA/26EolB/TM\\n\\n---------------------------------------------------------------------~->\\n\\n\\n\\nA new version of unison is now available for testing.  It incorporates\\n\\nseveral small improvements over 2.9.1, but the main change is a fix to\\n\\na bug that had potentially serious safety consequences, but only for\\n\\nthe very small number of users that are in the habit of running more\\n\\nthan one instance of Unison at a time, in parallel.  These users are\\n\\nstrongly encouraged to upgrade.  Others can wait if they wish.\\n\\n\\n\\nThe release includes pre-built executables for Linux and Solaris, but\\n\\nnot Windows.  (We are looking for a Unison-Windows maintainer -- at\\n\\nthe moment, none of the active developers are regularly using Unison\\n\\non Windows, and we do not have a machine that is configured properly\\n\\nfor building executables for export.)\\n\\n\\n\\nGrab it from here:\\n\\n   http://www.cis.upenn.edu/~bcpierce/unison/download.html\\n\\n\\n\\nEnjoy,\\n\\n\\n\\n        -- Benjamin\\n\\n\\n\\n   Changes since 2.9.1:\\n\\n     * Added a preference maxthreads that can be used to limit the number\\n\\n       of simultaneous file transfers.\\n\\n     * Added a backupdir preference, which controls where backup files\\n\\n       are stored.\\n\\n     * Basic support added for OSX. In particular, Unison now recognizes\\n\\n       when one of the hosts being synchronized is running OSX and\\n\\n       switches to a case-insensitive treatment of filenames (i.e., \\'foo\\'\\n\\n       and \\'FOO\\' are considered to be the same file). (OSX is not yet\\n\\n       fully working, however: in particular, files with resource forks\\n\\n       will not be synchronized correctly.)\\n\\n     * The same hash used to form the archive name is now also added to\\n\\n       the names of the temp files created during file transfer. The\\n\\n       reason for this is that, during update detection, we are going to\\n\\n       silently delete any old temp files that we find along the way, and\\n\\n       we want to prevent ourselves from deleting temp files belonging to\\n\\n       other instances of Unison that may be running in parallel, e.g.\\n\\n       synchronizing with a different host. Thanks to Ruslan Ermilov for\\n\\n       this suggestion.\\n\\n     * Several small user interface improvements\\n\\n     * Documentation\\n\\n          + FAQ and bug reporting instructions have been split out as\\n\\n            separate HTML pages, accessible directly from the unison web\\n\\n            page.\\n\\n          + Additions to FAQ, in particular suggestions about performance\\n\\n            tuning.\\n\\n     * Makefile\\n\\n          + Makefile.OCaml now sets UISTYLE=text or UISTYLE=gtk\\n\\n            automatically, depending on whether it finds lablgtk\\n\\n            installed\\n\\n          + Unison should now compile ``out of the box\\'\\' under OSX\\n\\n       \\n\\n   Changes since 2.8.1:\\n\\n     * Changing profile works again under Windows\\n\\n     * File movement optimization: Unison now tries to use local copy\\n\\n       instead of transfer for moved or copied files. It is controled by\\n\\n       a boolean option ``xferbycopying\\'\\'.\\n\\n     * Network statistics window (transfer rate, amount of data\\n\\n       transferred). [NB: not available in Windows-Cygwin version.]\\n\\n     * symlinks work under the cygwin version (which is dynamically\\n\\n       linked).\\n\\n     * Fixed potential deadlock when synchronizing between Windows and\\n\\n       Unix\\n\\n     * Small improvements:\\n\\n          + If neither the\\n\\n            tt USERPROFILE nor the\\n\\n            tt HOME environment variables are set, then Unison will put\\n\\n            its temporary commit log (called\\n\\n            tt DANGER.README) into the directory named by the\\n\\n            tt UNISON environment variable, if any; otherwise it will use\\n\\n            tt C:.\\n\\n          + alternative set of values for fastcheck: yes = true; no =\\n\\n            false; default = auto.\\n\\n          + -silent implies -contactquietly\\n\\n     * Source code:\\n\\n          + Code reorganization and tidying. (Started breaking up some of\\n\\n            the basic utility modules so that the non-unison-specific\\n\\n            stuff can be made available for other projects.)\\n\\n          + several Makefile and docs changes (for release);\\n\\n          + further comments in ``update.ml\\'\\';\\n\\n          + connection information is not stored in global variables\\n\\n            anymore.\\n\\n       \\n\\n   Changes since 2.7.78:\\n\\n     * Small bugfix to textual user interface under Unix (to avoid\\n\\n       leaving the terminal in a bad state where it would not echo inputs\\n\\n       after Unison exited).\\n\\n       \\n\\n   Changes since 2.7.39:\\n\\n     * Improvements to the main web page (stable and beta version docs\\n\\n       are now both accessible).\\n\\n     * User manual revised.\\n\\n     * Added some new preferences:\\n\\n          + ``sshcmd\\'\\' and ``rshcmd\\'\\' for specifying paths to ssh and rsh\\n\\n            programs.\\n\\n          + ``contactquietly\\'\\' for suppressing the ``contacting server\\'\\'\\n\\n            message during Unison startup (under the graphical UI).\\n\\n     * Bug fixes:\\n\\n          + Fixed small bug in UI that neglected to change the displayed\\n\\n            column headers if loading a new profile caused the roots to\\n\\n            change.\\n\\n          + Fixed a bug that would put the text UI into an infinite loop\\n\\n            if it encountered a conflict when run in batch mode.\\n\\n          + Added some code to try to fix the display of non-Ascii\\n\\n            characters in filenames on Windows systems in the GTK UI.\\n\\n            (This code is currently untested---if you\\'re one of the\\n\\n            people that had reported problems with display of non-ascii\\n\\n            filenames, we\\'d appreciate knowing if this actually fixes\\n\\n            things.)\\n\\n          + `-prefer/-force newer\\' works properly now. (The bug was\\n\\n            reported by Sebastian Urbaniak and Sean Fulton.)\\n\\n     * User interface and Unison behavior:\\n\\n          + Renamed `Proceed\\' to `Go\\' in the graphical UI.\\n\\n          + Added exit status for the textual user interface.\\n\\n          + Paths that are not synchronized because of conflicts or\\n\\n            errors during update detection are now noted in the log file.\\n\\n          + [END] messages in log now use a briefer format\\n\\n          + Changed the text UI startup sequence so that\\n\\n            tt ./unison -ui text will use the default profile instead of\\n\\n            failing.\\n\\n          + Made some improvements to the error messages.\\n\\n          + Added some debugging messages to remote.ml.\\n\\n       \\n\\n   Changes since 2.7.7:\\n\\n     * Incorporated, once again, a multi-threaded transport sub-system.\\n\\n       It transfers several files at the same time, thereby making much\\n\\n       more effective use of available network bandwidth. Unlike the\\n\\n       earlier attempt, this time we do not rely on the native thread\\n\\n       library of OCaml. Instead, we implement a light-weight,\\n\\n       non-preemptive multi-thread library in OCaml directly. This\\n\\n       version appears stable.\\n\\n       Some adjustments to unison are made to accommodate the\\n\\n       multi-threaded version. These include, in particular, changes to\\n\\n       the user interface and logging, for example:\\n\\n          + Two log entries for each transferring task, one for the\\n\\n            beginning, one for the end.\\n\\n          + Suppressed warning messages against removing temp files left\\n\\n            by a previous unison run, because warning does not work\\n\\n            nicely under multi-threading. The temp file names are made\\n\\n            less likely to coincide with the name of a file created by\\n\\n            the user. They take the form\\n\\n            .#<filename>.<serial>.unison.tmp.\\n\\n     * Added a new command to the GTK user interface: pressing \\'f\\' causes\\n\\n       Unison to start a new update detection phase, using as paths just\\n\\n       those paths that have been detected as changed and not yet marked\\n\\n       as successfully completed. Use this command to quickly restart\\n\\n       Unison on just the set of paths still needing attention after a\\n\\n       previous run.\\n\\n     * Made the ignorecase preference user-visible, and changed the\\n\\n       initialization code so that it can be manually set to true, even\\n\\n       if neither host is running Windows. (This may be useful, e.g.,\\n\\n       when using Unison running on a Unix system with a FAT volume\\n\\n       mounted.)\\n\\n     * Small improvements and bug fixes:\\n\\n          + Errors in preference files now generate fatal errors rather\\n\\n            than warnings at startup time. (I.e., you can\\'t go on from\\n\\n            them.) Also, we fixed a bug that was preventing these\\n\\n            warnings from appearing in the text UI, so some users who\\n\\n            have been running (unsuspectingly) with garbage in their\\n\\n            prefs files may now get error reports.\\n\\n          + Error reporting for preference files now provides file name\\n\\n            and line number.\\n\\n          + More intelligible message in the case of identical change to\\n\\n            the same files: ``Nothing to do: replicas have been changed\\n\\n            only in identical ways since last sync.\\'\\'\\n\\n          + Files with prefix \\'.#\\' excluded when scanning for preference\\n\\n            files.\\n\\n          + Rsync instructions are send directly instead of first\\n\\n            marshaled.\\n\\n          + Won\\'t try forever to get the fingerprint of a continuously\\n\\n            changing file: unison will give up after certain number of\\n\\n            retries.\\n\\n          + Other bug fixes, including the one reported by Peter Selinger\\n\\n            (force=older preference not working).\\n\\n     * Compilation:\\n\\n          + Upgraded to the new OCaml 3.04 compiler, with the LablGtk\\n\\n            1.2.3 library (patched version used for compiling under\\n\\n            Windows).\\n\\n          + Added the option to compile unison on the Windows platform\\n\\n            with Cygwin GNU C compiler. This option only supports\\n\\n            building dynamically linked unison executables.\\n\\n       \\n\\n   Changes since 2.7.4:\\n\\n     * Fixed a silly (but debilitating) bug in the client startup\\n\\n       sequence.\\n\\n       \\n\\n   Changes since 2.7.1:\\n\\n     * Added addprefsto preference, which (when set) controls which\\n\\n       preference file new preferences (e.g. new ignore patterns) are\\n\\n       added to.\\n\\n     * Bug fix: read the initial connection header one byte at a time, so\\n\\n       that we don\\'t block if the header is shorter than expected. (This\\n\\n       bug did not affect normal operation --- it just made it hard to\\n\\n       tell when you were trying to use Unison incorrectly with an old\\n\\n       version of the server, since it would hang instead of giving an\\n\\n       error message.)\\n\\n       \\n\\n   Changes since 2.6.59:\\n\\n     * Changed fastcheck from a boolean to a string preference. Its legal\\n\\n       values are yes (for a fast check), no (for a safe check), or\\n\\n       default (for a fast check---which also happens to be safe---when\\n\\n       running on Unix and a safe check when on Windows). The default is\\n\\n       default.\\n\\n     * Several preferences have been renamed for consistency. All\\n\\n       preference names are now spelled out in lowercase. For backward\\n\\n       compatibility, the old names still work, but they are not\\n\\n       mentioned in the manual any more.\\n\\n     * The temp files created by the \\'diff\\' and \\'merge\\' commands are now\\n\\n       named by prepending a new prefix to the file name, rather than\\n\\n       appending a suffix. This should avoid confusing diff/merge\\n\\n       programs that depend on the suffix to guess the type of the file\\n\\n       contents.\\n\\n     * We now set the keepalive option on the server socket, to make sure\\n\\n       that the server times out if the communication link is\\n\\n       unexpectedly broken.\\n\\n     * Bug fixes:\\n\\n          + When updating small files, Unison now closes the destination\\n\\n            file.\\n\\n          + File permissions are properly updated when the file is behind\\n\\n            a followed link.\\n\\n          + Several other small fixes.\\n\\n       \\n\\n   Changes since 2.6.38:\\n\\n     * Major Windows performance improvement!\\n\\n       We\\'ve added a preference fastcheck that makes Unison look only at\\n\\n       a file\\'s creation time and last-modified time to check whether it\\n\\n       has changed. This should result in a huge speedup when checking\\n\\n       for updates in large replicas.\\n\\n       When this switch is set, Unison will use file creation times as\\n\\n       \\'pseudo inode numbers\\' when scanning Windows replicas for updates,\\n\\n       instead of reading the full contents of every file. This may cause\\n\\n       Unison to miss propagating an update if the create time,\\n\\n       modification time, and length of the file are all unchanged by the\\n\\n       update (this is not easy to achieve, but it can be done). However,\\n\\n       Unison will never overwrite such an update with a change from the\\n\\n       other replica, since it always does a safe check for updates just\\n\\n       before propagating a change. Thus, it is reasonable to use this\\n\\n       switch most of the time and occasionally run Unison once with\\n\\n       fastcheck set to false, if you are worried that Unison may have\\n\\n       overlooked an update.\\n\\n       Warning: This change is has not yet been thoroughly field-tested.\\n\\n       If you set the fastcheck preference, pay careful attention to what\\n\\n       Unison is doing.\\n\\n     * New functionality: centralized backups and merging\\n\\n          + This version incorporates two pieces of major new\\n\\n            functionality, implemented by Sylvain Roy during a summer\\n\\n            internship at Penn: a centralized backup facility that keeps\\n\\n            a full backup of (selected files in) each replica, and a\\n\\n            merging feature that allows Unison to invoke an external\\n\\n            file-merging tool to resolve conflicting changes to\\n\\n            individual files.\\n\\n          + Centralized backups:\\n\\n               o Unison now maintains full backups of the\\n\\n                 last-synchronized versions of (some of) the files in\\n\\n                 each replica; these function both as backups in the\\n\\n                 usual sense and as the ``common version\\'\\' when invoking\\n\\n                 external merge programs.\\n\\n               o The backed up files are stored in a directory\\n\\n                 /.unison/backup on each host. (The name of this\\n\\n                 directory can be changed by setting the environment\\n\\n                 variable UNISONBACKUPDIR.)\\n\\n               o The predicate backup controls which files are actually\\n\\n                 backed up: giving the preference \\'backup = Path *\\'\\n\\n                 causes backing up of all files.\\n\\n               o Files are added to the backup directory whenever unison\\n\\n                 updates its archive. This means that\\n\\n                    # When unison reconstructs its archive from scratch\\n\\n                      (e.g., because of an upgrade, or because the\\n\\n                      archive files have been manually deleted), all\\n\\n                      files will be backed up.\\n\\n                    # Otherwise, each file will be backed up the first\\n\\n                      time unison propagates an update for it.\\n\\n               o The preference backupversions controls how many previous\\n\\n                 versions of each file are kept. The default is 2 (i.e.,\\n\\n                 the last synchronized version plus one backup).\\n\\n               o For backward compatibility, the backups preference is\\n\\n                 also still supported, but backup is now preferred.\\n\\n               o It is OK to manually delete files from the backup\\n\\n                 directory (or to throw away the directory itself).\\n\\n                 Before unison uses any of these files for anything\\n\\n                 important, it checks that its fingerprint matches the\\n\\n                 one that it expects.\\n\\n          + Merging:\\n\\n               o Both user interfaces offer a new \\'merge\\' command,\\n\\n                 invoked by pressing \\'m\\' (with a changed file selected).\\n\\n               o The actual merging is performed by an external program.\\n\\n                 The preferences merge and merge2 control how this\\n\\n                 program is invoked. If a backup exists for this file\\n\\n                 (see the backup preference), then the merge preference\\n\\n                 is used for this purpose; otherwise merge2 is used. In\\n\\n                 both cases, the value of the preference should be a\\n\\n                 string representing the command that should be passed to\\n\\n                 a shell to invoke the merge program. Within this string,\\n\\n                 the special substrings CURRENT1, CURRENT2, NEW, and OLD\\n\\n                 may appear at any point. Unison will substitute these as\\n\\n                 follows before invoking the command:\\n\\n                    # CURRENT1 is replaced by the name of the local copy\\n\\n                      of the file;\\n\\n                    # CURRENT2 is replaced by the name of a temporary\\n\\n                      file, into which the contents of the remote copy of\\n\\n                      the file have been transferred by Unison prior to\\n\\n                      performing the merge;\\n\\n                    # NEW is replaced by the name of a temporary file\\n\\n                      that Unison expects to be written by the merge\\n\\n                      program when it finishes, giving the desired new\\n\\n                      contents of the file; and\\n\\n                    # OLD is replaced by the name of the backed up copy\\n\\n                      of the original version of the file (i.e., its\\n\\n                      state at the end of the last successful run of\\n\\n                      Unison), if one exists (applies only to merge, not\\n\\n                      merge2).\\n\\n                 For example, on Unix systems setting the merge\\n\\n                 preference to\\n\\n\\n\\n   merge = diff3 -m CURRENT1 OLD CURRENT2 > NEW\\n\\n                 will tell Unison to use the external diff3 program for\\n\\n                 merging.\\n\\n                 A large number of external merging programs are\\n\\n                 available. For example, emacs users may find the\\n\\n                 following convenient:\\n\\n\\n\\n    merge2 = emacs -q --eval \\'(ediff-merge-files \"CURRENT1\" \"CURRENT2\"\\n\\n               nil \"NEW\")\\'\\n\\n    merge = emacs -q --eval \\'(ediff-merge-files-with-ancestor\\n\\n               \"CURRENT1\" \"CURRENT2\" \"OLD\" nil \"NEW\")\\'\\n\\n                 (These commands are displayed here on two lines to avoid\\n\\n                 running off the edge of the page. In your preference\\n\\n                 file, each should be written on a single line.)\\n\\n               o If the external program exits without leaving any file\\n\\n                 at the path NEW, Unison considers the merge to have\\n\\n                 failed. If the merge program writes a file called NEW\\n\\n                 but exits with a non-zero status code, then Unison\\n\\n                 considers the merge to have succeeded but to have\\n\\n                 generated conflicts. In this case, it attempts to invoke\\n\\n                 an external editor so that the user can resolve the\\n\\n                 conflicts. The value of the editor preference controls\\n\\n                 what editor is invoked by Unison. The default is emacs.\\n\\n               o Please send us suggestions for other useful values of\\n\\n                 the merge2 and merge preferences -- we\\'d like to give\\n\\n                 several examples in the manual.\\n\\n     * Smaller changes:\\n\\n          + When one preference file includes another, unison no longer\\n\\n            adds the suffix \\'.prf\\' to the included file by default. If a\\n\\n            file with precisely the given name exists in the .unison\\n\\n            directory, it will be used; otherwise Unison will add .prf,\\n\\n            as it did before. (This change means that included preference\\n\\n            files can be named blah.include instead of blah.prf, so that\\n\\n            unison will not offer them in its \\'choose a preference file\\'\\n\\n            dialog.)\\n\\n          + For Linux systems, we now offer both a statically linked and\\n\\n            a dynamically linked executable. The static one is larger,\\n\\n            but will probably run on more systems, since it doesn\\'t\\n\\n            depend on the same versions of dynamically linked library\\n\\n            modules being available.\\n\\n          + Fixed the force and prefer preferences, which were getting\\n\\n            the propagation direction exactly backwards.\\n\\n          + Fixed a bug in the startup code that would cause unison to\\n\\n            crash when the default profile (~/.unison/default.prf) does\\n\\n            not exist.\\n\\n          + Fixed a bug where, on the run when a profile is first\\n\\n            created, Unison would confusingly display the roots in\\n\\n            reverse order in the user interface.\\n\\n     * For developers:\\n\\n          + We\\'ve added a module dependency diagram to the source\\n\\n            distribution, in src/DEPENDENCIES.ps, to help new prospective\\n\\n            developers with navigating the code.\\n\\n       \\n\\n   Changes since 2.6.11:\\n\\n     * INCOMPATIBLE CHANGE: Archive format has changed.\\n\\n     * INCOMPATIBLE CHANGE: The startup sequence has been completely\\n\\n       rewritten and greatly simplified. The main user-visible change is\\n\\n       that the defaultpath preference has been removed. Its effect can\\n\\n       be approximated by using multiple profiles, with include\\n\\n       directives to incorporate common settings. All uses of defaultpath\\n\\n       in existing profiles should be changed to path.\\n\\n       Another change in startup behavior that will affect some users is\\n\\n       that it is no longer possible to specify roots both in the profile\\n\\n       and on the command line.\\n\\n       You can achieve a similar effect, though, by breaking your profile\\n\\n       into two:\\n\\n\\n\\n\\n\\n  default.prf =\\n\\n      root = blah\\n\\n      root = foo\\n\\n      include common\\n\\n\\n\\n  common.prf =\\n\\n      <everything else>\\n\\n       Now do\\n\\n\\n\\n  unison common root1 root2\\n\\n       when you want to specify roots explicitly.\\n\\n     * The -prefer and -force options have been extended to allow users\\n\\n       to specify that files with more recent modtimes should be\\n\\n       propagated, writing either -prefer newer or -force newer. (For\\n\\n       symmetry, Unison will also accept -prefer older or -force older.)\\n\\n       The -force older/newer options can only be used when -times is\\n\\n       also set.\\n\\n       The graphical user interface provides access to these facilities\\n\\n       on a one-off basis via the Actions menu.\\n\\n     * Names of roots can now be ``aliased\\'\\' to allow replicas to be\\n\\n       relocated without changing the name of the archive file where\\n\\n       Unison stores information between runs. (This feature is for\\n\\n       experts only. See the ``Archive Files\\'\\' section of the manual for\\n\\n       more information.)\\n\\n     * Graphical user-interface:\\n\\n          + A new command is provided in the Synchronization menu for\\n\\n            switching to a new profile without restarting Unison from\\n\\n            scratch.\\n\\n          + The GUI also supports one-key shortcuts for commonly used\\n\\n            profiles. If a profile contains a preference of the form \\'key\\n\\n            = n\\', where n is a single digit, then pressing this key will\\n\\n            cause Unison to immediately switch to this profile and begin\\n\\n            synchronization again from scratch. (Any actions that may\\n\\n            have been selected for a set of changes currently being\\n\\n            displayed will be discarded.)\\n\\n          + Each profile may include a preference \\'label = <string>\\'\\n\\n            giving a descriptive string that described the options\\n\\n            selected in this profile. The string is listed along with the\\n\\n            profile name in the profile selection dialog, and displayed\\n\\n            in the top-right corner of the main Unison window.\\n\\n     * Minor:\\n\\n          + Fixed a bug that would sometimes cause the \\'diff\\' display to\\n\\n            order the files backwards relative to the main user\\n\\n            interface. (Thanks to Pascal Brisset for this fix.)\\n\\n          + On Unix systems, the graphical version of Unison will check\\n\\n            the DISPLAY variable and, if it is not set, automatically\\n\\n            fall back to the textual user interface.\\n\\n          + Synchronization paths (path preferences) are now matched\\n\\n            against the ignore preferences. So if a path is both\\n\\n            specified in a path preference and ignored, it will be\\n\\n            skipped.\\n\\n          + Numerous other bugfixes and small improvements.\\n\\n       \\n\\n   Changes since 2.6.1:\\n\\n     * The synchronization of modification times has been disabled for\\n\\n       directories.\\n\\n     * Preference files may now include lines of the form include <name>,\\n\\n       which will cause name.prf to be read at that point.\\n\\n     * The synchronization of permission between Windows and Unix now\\n\\n       works properly.\\n\\n     * A binding CYGWIN=binmode in now added to the environment so that\\n\\n       the Cygwin port of OpenSSH works properly in a non-Cygwin context.\\n\\n     * The servercmd and addversionno preferences can now be used\\n\\n       together: -addversionno appends an appropriate -NNN to the server\\n\\n       command, which is found by using the value of the -servercmd\\n\\n       preference if there is one, or else just unison.\\n\\n     * Both \\'-pref=val\\' and \\'-pref val\\' are now allowed for boolean\\n\\n       values. (The former can be used to set a preference to false.)\\n\\n     * Lot of small bugs fixed.\\n\\n       \\n\\n   Changes since 2.5.31:\\n\\n     * The log preference is now set to true by default, since the log\\n\\n       file seems useful for most users.\\n\\n     * Several miscellaneous bugfixes (most involving symlinks).\\n\\n       \\n\\n   Changes since 2.5.25:\\n\\n     * INCOMPATIBLE CHANGE: Archive format has changed (again).\\n\\n     * Several significant bugs introduced in 2.5.25 have been fixed.\\n\\n       \\n\\n   Changes since 2.5.1:\\n\\n     * INCOMPATIBLE CHANGE: Archive format has changed. Make sure you\\n\\n       synchronize your replicas before upgrading, to avoid spurious\\n\\n       conflicts. The first sync after upgrading will be slow.\\n\\n     * New functionality:\\n\\n          + Unison now synchronizes file modtimes, user-ids, and\\n\\n            group-ids.\\n\\n            These new features are controlled by a set of new\\n\\n            preferences, all of which are currently false by default.\\n\\n               o When the times preference is set to true, file\\n\\n                 modification times are propaged. (Because the\\n\\n                 representations of time may not have the same\\n\\n                 granularity on both replicas, Unison may not always be\\n\\n                 able to make the modtimes precisely equal, but it will\\n\\n                 get them as close as the operating systems involved\\n\\n                 allow.)\\n\\n               o When the owner preference is set to true, file ownership\\n\\n                 information is synchronized.\\n\\n               o When the group preference is set to true, group\\n\\n                 information is synchronized.\\n\\n               o When the numericIds preference is set to true, owner and\\n\\n                 group information is synchronized numerically. By\\n\\n                 default, owner and group numbers are converted to names\\n\\n                 on each replica and these names are synchronized. (The\\n\\n                 special user id 0 and the special group 0 are never\\n\\n                 mapped via user/group names even if this preference is\\n\\n                 not set.)\\n\\n          + Added an integer-valued preference perms that can be used to\\n\\n            control the propagation of permission bits. The value of this\\n\\n            preference is a mask indicating which permission bits should\\n\\n            be synchronized. It is set by default to 0o1777: all bits but\\n\\n            the set-uid and set-gid bits are synchronised (synchronizing\\n\\n            theses latter bits can be a security hazard). If you want to\\n\\n            synchronize all bits, you can set the value of this\\n\\n            preference to -1.\\n\\n          + Added a log preference (default false), which makes Unison\\n\\n            keep a complete record of the changes it makes to the\\n\\n            replicas. By default, this record is written to a file called\\n\\n            unison.log in the user\\'s home directory (the value of the\\n\\n            HOME environment variable). If you want it someplace else,\\n\\n            set the logfile preference to the full pathname you want\\n\\n            Unison to use.\\n\\n          + Added an ignorenot preference that maintains a set of\\n\\n            patterns for paths that should definitely not be ignored,\\n\\n            whether or not they match an ignore pattern. (That is, a path\\n\\n            will now be ignored iff it matches an ignore pattern and does\\n\\n            not match any ignorenot patterns.)\\n\\n     * User-interface improvements:\\n\\n          + Roots are now displayed in the user interface in the same\\n\\n            order as they were given on the command line or in the\\n\\n            preferences file.\\n\\n          + When the batch preference is set, the graphical user\\n\\n            interface no longer waits for user confirmation when it\\n\\n            displays a warning message: it simply pops up an advisory\\n\\n            window with a Dismiss button at the bottom and keeps on\\n\\n            going.\\n\\n          + Added a new preference for controlling how many status\\n\\n            messages are printed during update detection: statusdepth\\n\\n            controls the maximum depth for paths on the local machine\\n\\n            (longer paths are not displayed, nor are non-directory\\n\\n            paths). The value should be an integer; default is 1.\\n\\n          + Removed the trace and silent preferences. They did not seem\\n\\n            very useful, and there were too many preferences for\\n\\n            controlling output in various ways.\\n\\n          + The text UI now displays just the default command (the one\\n\\n            that will be used if the user just types <return>) instead of\\n\\n            all available commands. Typing ? will print the full list of\\n\\n            possibilities.\\n\\n          + The function that finds the canonical hostname of the local\\n\\n            host (which is used, for example, in calculating the name of\\n\\n            the archive file used to remember which files have been\\n\\n            synchronized) normally uses the gethostname operating system\\n\\n            call. However, if the environment variable\\n\\n            UNISONLOCALHOSTNAME is set, its value will now be used\\n\\n            instead. This makes it easier to use Unison in situations\\n\\n            where a machine\\'s name changes frequently (e.g., because it\\n\\n            is a laptop and gets moved around a lot).\\n\\n          + File owner and group are now displayed in the ``detail\\n\\n            window\\'\\' at the bottom of the screen, when unison is\\n\\n            configured to synchronize them.\\n\\n     * For hackers:\\n\\n          + Updated to Jacques Garrigue\\'s new version of lablgtk, which\\n\\n            means we can throw away our local patched version.\\n\\n            If you\\'re compiling the GTK version of unison from sources,\\n\\n            you\\'ll need to update your copy of lablgtk to the developers\\n\\n            release, available from\\n\\n            http://wwwfun.kurims.kyoto-u.ac.jp/soft/olabl/lablgtk.html\\n\\n            (Warning: installing lablgtk under Windows is currently a bit\\n\\n            challenging.)\\n\\n          + The TODO.txt file (in the source distribution) has been\\n\\n            cleaned up and reorganized. The list of pending tasks should\\n\\n            be much easier to make sense of, for people that may want to\\n\\n            contribute their programming energies. There is also a\\n\\n            separate file BUGS.txt for open bugs.\\n\\n          + The Tk user interface has been removed (it was not being\\n\\n            maintained and no longer compiles).\\n\\n          + The debug preference now prints quite a bit of additional\\n\\n            information that should be useful for identifying sources of\\n\\n            problems.\\n\\n          + The version number of the remote server is now checked right\\n\\n            away during the connection setup handshake, rather than\\n\\n            later. (Somebody sent a bug report of a server crash that\\n\\n            turned out to come from using inconsistent versions: better\\n\\n            to check this earlier and in a way that can\\'t crash either\\n\\n            client or server.)\\n\\n          + Unison now runs correctly on 64-bit architectures (e.g. Alpha\\n\\n            linux). We will not be distributing binaries for these\\n\\n            architectures ourselves (at least for a while) but if someone\\n\\n            would like to make them available, we\\'ll be glad to provide a\\n\\n            link to them.\\n\\n     * Bug fixes:\\n\\n          + Pattern matching (e.g. for ignore) is now case-insensitive\\n\\n            when Unison is in case-insensitive mode (i.e., when one of\\n\\n            the replicas is on a windows machine).\\n\\n          + Some people had trouble with mysterious failures during\\n\\n            propagation of updates, where files would be falsely reported\\n\\n            as having changed during synchronization. This should be\\n\\n            fixed.\\n\\n          + Numerous smaller fixes.\\n\\n       \\n\\n   Changes since 2.4.1:\\n\\n     * Added a number of \\'sorting modes\\' for the user interface. By\\n\\n       default, conflicting changes are displayed at the top, and the\\n\\n       rest of the entries are sorted in alphabetical order. This\\n\\n       behavior can be changed in the following ways:\\n\\n          + Setting the sortnewfirst preference to true causes newly\\n\\n            created files to be displayed before changed files.\\n\\n          + Setting sortbysize causes files to be displayed in increasing\\n\\n            order of size.\\n\\n          + Giving the preference sortfirst=<pattern> (where <pattern> is\\n\\n            a path descriptor in the same format as \\'ignore\\' and \\'follow\\'\\n\\n            patterns, causes paths matching this pattern to be displayed\\n\\n            first.\\n\\n          + Similarly, giving the preference sortlast=<pattern> causes\\n\\n            paths matching this pattern to be displayed last.\\n\\n       The sorting preferences are described in more detail in the user\\n\\n       manual. The sortnewfirst and sortbysize flags can also be accessed\\n\\n       from the \\'Sort\\' menu in the grpahical user interface.\\n\\n     * Added two new preferences that can be used to change unison\\'s\\n\\n       fundamental behavior to make it more like a mirroring tool instead\\n\\n       of a synchronizer.\\n\\n          + Giving the preference prefer with argument <root> (by adding\\n\\n            -prefer <root> to the command line or prefer=<root>) to your\\n\\n            profile) means that, if there is a conflict, the contents of\\n\\n            <root> should be propagated to the other replica (with no\\n\\n            questions asked). Non-conflicting changes are treated as\\n\\n            usual.\\n\\n          + Giving the preference force with argument <root> will make\\n\\n            unison resolve all differences in favor of the given root,\\n\\n            even if it was the other replica that was changed.\\n\\n       These options should be used with care! (More information is\\n\\n       available in the manual.)\\n\\n     * Small changes:\\n\\n          + Changed default answer to \\'Yes\\' in all two-button dialogs in\\n\\n            the graphical interface (this seems more intuitive).\\n\\n          + The rsync preference has been removed (it was used to\\n\\n            activate rsync compression for file transfers, but rsync\\n\\n            compression is now enabled by default).\\n\\n          + In the text user interface, the arrows indicating which\\n\\n            direction changes are being propagated are printed\\n\\n            differently when the user has overridded Unison\\'s default\\n\\n            recommendation (====> instead of ---->). This matches the\\n\\n            behavior of the graphical interface, which displays such\\n\\n            arrows in a different color.\\n\\n          + Carriage returns (Control-M\\'s) are ignored at the ends of\\n\\n            lines in profiles, for Windows compatibility.\\n\\n          + All preferences are now fully documented in the user manual.\\n\\n       \\n\\n   Changes since 2.3.12:\\n\\n     * INCOMPATIBLE CHANGE: Archive format has changed. Make sure you\\n\\n       synchronize your replicas before upgrading, to avoid spurious\\n\\n       conflicts. The first sync after upgrading will be slow.\\n\\n     * New/improved functionality:\\n\\n          + A new preference -sortbysize controls the order in which\\n\\n            changes are displayed to the user: when it is set to true,\\n\\n            the smallest changed files are displayed first. (The default\\n\\n            setting is false.)\\n\\n          + A new preference -sortnewfirst causes newly created files to\\n\\n            be listed before other updates in the user interface.\\n\\n          + We now allow the ssh protocol to specify a port.\\n\\n          + Incompatible change: The unison: protocol is deprecated, and\\n\\n            we added file: and socket:. You may have to modify your\\n\\n            profiles in the .unison directory. If a replica is specified\\n\\n            without an explicit protocol, we now assume it refers to a\\n\\n            file. (Previously \"//saul/foo\" meant to use SSH to connect to\\n\\n            saul, then access the foo directory. Now it means to access\\n\\n            saul via a remote file mechanism such as samba; the old\\n\\n            effect is now achieved by writing ssh://saul/foo.)\\n\\n          + Changed the startup sequence for the case where roots are\\n\\n            given but no profile is given on the command line. The new\\n\\n            behavior is to use the default profile (creating it if it\\n\\n            does not exist), and temporarily override its roots. The\\n\\n            manual claimed that this case would work by reading no\\n\\n            profile at all, but AFAIK this was never true.\\n\\n          + In all user interfaces, files with conflicts are always\\n\\n            listed first\\n\\n          + A new preference \\'sshversion\\' can be used to control which\\n\\n            version of ssh should be used to connect to the server. Legal\\n\\n            values are 1 and 2. (Default is empty, which will make unison\\n\\n            use whatever version of ssh is installed as the default \\'ssh\\'\\n\\n            command.)\\n\\n          + The situation when the permissions of a file was updated the\\n\\n            same on both side is now handled correctly (we used to report\\n\\n            a spurious conflict)\\n\\n     * Improvements for the Windows version:\\n\\n          + The fact that filenames are treated case-insensitively under\\n\\n            Windows should now be handled correctly. The exact behavior\\n\\n            is described in the cross-platform section of the manual.\\n\\n          + It should be possible to synchronize with Windows shares,\\n\\n            e.g., //host/drive/path.\\n\\n          + Workarounds to the bug in syncing root directories in\\n\\n            Windows. The most difficult thing to fix is an ocaml bug:\\n\\n            Unix.opendir fails on c: in some versions of Windows.\\n\\n     * Improvements to the GTK user interface (the Tk interface is no\\n\\n       longer being maintained):\\n\\n          + The UI now displays actions differently (in blue) when they\\n\\n            have been explicitly changed by the user from Unison\\'s\\n\\n            default recommendation.\\n\\n          + More colorful appearance.\\n\\n          + The initial profile selection window works better.\\n\\n          + If any transfers failed, a message to this effect is\\n\\n            displayed along with \\'Synchronization complete\\' at the end of\\n\\n            the transfer phase (in case they may have scrolled off the\\n\\n            top).\\n\\n          + Added a global progress meter, displaying the percentage of\\n\\n            total bytes that have been transferred so far.\\n\\n     * Improvements to the text user interface:\\n\\n          + The file details will be displayed automatically when a\\n\\n            conflict is been detected.\\n\\n          + when a warning is generated (e.g. for a temporary file left\\n\\n            over from a previous run of unison) Unison will no longer\\n\\n            wait for a response if it is running in -batch mode.\\n\\n          + The UI now displays a short list of possible inputs each time\\n\\n            it waits for user interaction.\\n\\n          + The UI now quits immediately (rather than looping back and\\n\\n            starting the interaction again) if the user presses \\'q\\' when\\n\\n            asked whether to propagate changes.\\n\\n          + Pressing \\'g\\' in the text user interface will proceed\\n\\n            immediately with propagating updates, without asking any more\\n\\n            questions.\\n\\n     * Documentation and installation changes:\\n\\n          + The manual now includes a FAQ, plus sections on common\\n\\n            problems and on tricks contributed by users.\\n\\n          + Both the download page and the download directory explicitly\\n\\n            say what are the current stable and beta-test version\\n\\n            numbers.\\n\\n          + The OCaml sources for the up-to-the-minute developers\\'\\n\\n            version (not guaranteed to be stable, or even to compile, at\\n\\n            any given time!) are now available from the download page.\\n\\n          + Added a subsection to the manual describing cross-platform\\n\\n            issues (case conflicts, illegal filenames)\\n\\n     * Many small bug fixes and random improvements.\\n\\n       \\n\\n   Changes since 2.3.1:\\n\\n     * Several bug fixes. The most important is a bug in the rsync module\\n\\n       that would occasionally cause change propagation to fail with a\\n\\n       \\'rename\\' error.\\n\\n       \\n\\n   Changes since 2.2:\\n\\n     * The multi-threaded transport system is now disabled by default.\\n\\n       (It is not stable enough yet.)\\n\\n     * Various bug fixes.\\n\\n     * A new experimental feature:\\n\\n       The final component of a -path argument may now be the wildcard\\n\\n       specifier *. When Unison sees such a path, it expands this path on\\n\\n       the client into into the corresponding list of paths by listing\\n\\n       the contents of that directory.\\n\\n       Note that if you use wildcard paths from the command line, you\\n\\n       will probably need to use quotes or a backslash to prevent the *\\n\\n       from being interpreted by your shell.\\n\\n       If both roots are local, the contents of the first one will be\\n\\n       used for expanding wildcard paths. (Nb: this is the first one\\n\\n       after the canonization step -- i.e., the one that is listed first\\n\\n       in the user interface -- not the one listed first on the command\\n\\n       line or in the preferences file.)\\n\\n       \\n\\n   Changes since 2.1:\\n\\n     * The transport subsystem now includes an implementation by Sylvain\\n\\n       Gommier and Norman Ramsey of Tridgell and Mackerras\\'s rsync\\n\\n       protocol. This protocol achieves much faster transfers when only a\\n\\n       small part of a large file has been changed by sending just diffs.\\n\\n       This feature is mainly helpful for transfers over slow links---on\\n\\n       fast local area networks it can actually degrade performance---so\\n\\n       we have left it off by default. Start unison with the -rsync\\n\\n       option (or put rsync=true in your preferences file) to turn it on.\\n\\n     * ``Progress bars\\'\\' are now diplayed during remote file transfers,\\n\\n       showing what percentage of each file has been transferred so far.\\n\\n     * The version numbering scheme has changed. New releases will now be\\n\\n       have numbers like 2.2.30, where the second component is\\n\\n       incremented on every significant public release and the third\\n\\n       component is the ``patch level.\\'\\'\\n\\n     * Miscellaneous improvements to the GTK-based user interface.\\n\\n     * The manual is now available in PDF format.\\n\\n     * We are experimenting with using a multi-threaded transport\\n\\n       subsystem to transfer several files at the same time, making much\\n\\n       more effective use of available network bandwidth. This feature is\\n\\n       not completely stable yet, so by default it is disabled in the\\n\\n       release version of Unison.\\n\\n       If you want to play with the multi-threaded version, you\\'ll need\\n\\n       to recompile Unison from sources (as described in the\\n\\n       documentation), setting the THREADS flag in Makefile.OCaml to\\n\\n       true. Make sure that your OCaml compiler has been installed with\\n\\n       the -with-pthreads configuration option. (You can verify this by\\n\\n       checking whether the file threads/threads.cma in the OCaml\\n\\n       standard library directory contains the string -lpthread near the\\n\\n       end.)\\n\\n       \\n\\n   Changes since 1.292:\\n\\n     * Reduced memory footprint (this is especially important during the\\n\\n       first run of unison, where it has to gather information about all\\n\\n       the files in both repositories).\\n\\n     * Fixed a bug that would cause the socket server under NT to fail\\n\\n       after the client exits.\\n\\n     * Added a SHIFT modifier to the Ignore menu shortcut keys in GTK\\n\\n       interface (to avoid hitting them accidentally).\\n\\n       \\n\\n   Changes since 1.231:\\n\\n     * Tunneling over ssh is now supported in the Windows version. See\\n\\n       the installation section of the manual for detailed instructions.\\n\\n     * The transport subsystem now includes an implementation of the\\n\\n       rsync protocol, built by Sylvain Gommier and Norman Ramsey. This\\n\\n       protocol achieves much faster transfers when only a small part of\\n\\n       a large file has been changed by sending just diffs. The rsync\\n\\n       feature is off by default in the current version. Use the -rsync\\n\\n       switch to turn it on. (Nb. We still have a lot of tuning to do:\\n\\n       you may not notice much speedup yet.)\\n\\n     * We\\'re experimenting with a multi-threaded transport subsystem,\\n\\n       written by Jerome Vouillon. The downloadable binaries are still\\n\\n       single-threaded: if you want to try the multi-threaded version,\\n\\n       you\\'ll need to recompile from sources. (Say make THREADS=true.)\\n\\n       Native thread support from the compiler is required. Use the\\n\\n       option -threads N to select the maximal number of concurrent\\n\\n       threads (default is 5). Multi-threaded and single-threaded\\n\\n       clients/servers can interoperate.\\n\\n     * A new GTK-based user interface is now available, thanks to Jacques\\n\\n       Garrigue. The Tk user interface still works, but we\\'ll be shifting\\n\\n       development effort to the GTK interface from now on.\\n\\n     * OCaml 3.00 is now required for compiling Unison from sources. The\\n\\n       modules uitk and myfileselect have been changed to use labltk\\n\\n       instead of camltk. To compile the Tk interface in Windows, you\\n\\n       must have ocaml-3.00 and tk8.3. When installing tk8.3, put it in\\n\\n       c:\\\\Tcl rather than the suggested c:\\\\Program Files\\\\Tcl, and be sure\\n\\n       to install the headers and libraries (which are not installed by\\n\\n       default).\\n\\n     * Added a new -addversionno switch, which causes unison to use\\n\\n       unison-<currentversionnumber> instead of just unison as the remote\\n\\n       server command. This allows multiple versions of unison to coexist\\n\\n       conveniently on the same server: whichever version is run on the\\n\\n       client, the same version will be selected on the server.\\n\\n       \\n\\n   Changes since 1.219:\\n\\n     * INCOMPATIBLE CHANGE: Archive format has changed. Make sure you\\n\\n       synchronize your replicas before upgrading, to avoid spurious\\n\\n       conflicts. The first sync after upgrading will be slow.\\n\\n     * This version fixes several annoying bugs, including:\\n\\n          + Some cases where propagation of file permissions was not\\n\\n            working.\\n\\n          + umask is now ignored when creating directories\\n\\n          + directories are create writable, so that a read-only\\n\\n            directory and its contents can be propagated.\\n\\n          + Handling of warnings generated by the server.\\n\\n          + Synchronizing a path whose parent is not a directory on both\\n\\n            sides is now flagged as erroneous.\\n\\n          + Fixed some bugs related to symnbolic links and nonexistant\\n\\n            roots.\\n\\n               o When a change (deletion or new contents) is propagated\\n\\n                 onto a \\'follow\\'ed symlink, the file pointed to by the\\n\\n                 link is now changed. (We used to change the link itself,\\n\\n                 which doesn\\'t fit our assertion that \\'follow\\' means the\\n\\n                 link is completely invisible)\\n\\n               o When one root did not exist, propagating the other root\\n\\n                 on top of it used to fail, becuase unison could not\\n\\n                 calculate the working directory into which to write\\n\\n                 changes. This should be fixed.\\n\\n     * A human-readable timestamp has been added to Unison\\'s archive\\n\\n       files.\\n\\n     * The semantics of Path and Name regular expressions now correspond\\n\\n       better.\\n\\n     * Some minor improvements to the text UI (e.g. a command for going\\n\\n       back to previous items)\\n\\n     * The organization of the export directory has changed --- should be\\n\\n       easier to find / download things now.\\n\\n       \\n\\n   Changes since 1.200:\\n\\n     * INCOMPATIBLE CHANGE: Archive format has changed. Make sure you\\n\\n       synchronize your replicas before upgrading, to avoid spurious\\n\\n       conflicts. The first sync after upgrading will be slow.\\n\\n     * This version has not been tested extensively on Windows.\\n\\n     * Major internal changes designed to make unison safer to run at the\\n\\n       same time as the replicas are being changed by the user.\\n\\n     * Internal performance improvements.\\n\\n       \\n\\n   Changes since 1.190:\\n\\n     * INCOMPATIBLE CHANGE: Archive format has changed. Make sure you\\n\\n       synchronize your replicas before upgrading, to avoid spurious\\n\\n       conflicts. The first sync after upgrading will be slow.\\n\\n     * A number of internal functions have been changed to reduce the\\n\\n       amount of memory allocation, especially during the first\\n\\n       synchronization. This should help power users with very big\\n\\n       replicas.\\n\\n     * Reimplementation of low-level remote procedure call stuff, in\\n\\n       preparation for adding rsync-like smart file transfer in a later\\n\\n       release.\\n\\n     * Miscellaneous bug fixes.\\n\\n       \\n\\n   Changes since 1.180:\\n\\n     * INCOMPATIBLE CHANGE: Archive format has changed. Make sure you\\n\\n       synchronize your replicas before upgrading, to avoid spurious\\n\\n       conflicts. The first sync after upgrading will be slow.\\n\\n     * Fixed some small bugs in the interpretation of ignore patterns.\\n\\n     * Fixed some problems that were preventing the Windows version from\\n\\n       working correctly when click-started.\\n\\n     * Fixes to treatment of file permissions under Windows, which were\\n\\n       causing spurious reports of different permissions when\\n\\n       synchronizing between windows and unix systems.\\n\\n     * Fixed one more non-tail-recursive list processing function, which\\n\\n       was causing stack overflows when synchronizing very large\\n\\n       replicas.\\n\\n       \\n\\n   Changes since 1.169:\\n\\n     * The text user interface now provides commands for ignoring files.\\n\\n     * We found and fixed some more non-tail-recursive list processing\\n\\n       functions. Some power users have reported success with very large\\n\\n       replicas.\\n\\n     * INCOMPATIBLE CHANGE: Files ending in .tmp are no longer ignored\\n\\n       automatically. If you want to ignore such files, put an\\n\\n       appropriate ignore pattern in your profile.\\n\\n     * INCOMPATIBLE CHANGE: The syntax of ignore and follow patterns has\\n\\n       changed. Instead of putting a line of the form\\n\\n\\n\\n                 ignore = <regexp>\\n\\n       in your profile (.unison/default.prf), you should put:\\n\\n\\n\\n                 ignore = Regexp <regexp>\\n\\n       Moreover, two other styles of pattern are also recognized:\\n\\n\\n\\n                 ignore = Name <name>\\n\\n       matches any path in which one component matches <name>, while\\n\\n\\n\\n                 ignore = Path <path>\\n\\n       matches exactly the path <path>.\\n\\n       Standard ``globbing\\'\\' conventions can be used in <name> and\\n\\n       <path>:\\n\\n          + a ? matches any single character except /\\n\\n          + a * matches any sequence of characters not including /\\n\\n          + [xyz] matches any character from the set {x, y, z }\\n\\n          + {a,bb,ccc} matches any one of a, bb, or ccc.\\n\\n       See the user manual for some examples.\\n\\n       \\n\\n   Changes since 1.146:\\n\\n     * Some users were reporting stack overflows when synchronizing huge\\n\\n       directories. We found and fixed some non-tail-recursive list\\n\\n       processing functions, which we hope will solve the problem. Please\\n\\n       give it a try and let us know.\\n\\n     * Major additions to the documentation.\\n\\n       \\n\\n   Changes since 1.142:\\n\\n     * Major internal tidying and many small bugfixes.\\n\\n     * Major additions to the user manual.\\n\\n     * Unison can now be started with no arguments -- it will prompt\\n\\n       automatically for the name of a profile file containing the roots\\n\\n       to be synchronized. This makes it possible to start the graphical\\n\\n       UI from a desktop icon.\\n\\n     * Fixed a small bug where the text UI on NT was raising a \\'no such\\n\\n       signal\\' exception.\\n\\n       \\n\\n   Changes since 1.139:\\n\\n     * The precompiled windows binary in the last release was compiled\\n\\n       with an old OCaml compiler, causing propagation of permissions not\\n\\n       to work (and perhaps leading to some other strange behaviors we\\'ve\\n\\n       heard reports about). This has been corrected. If you\\'re using\\n\\n       precompiled binaries on Windows, please upgrade.\\n\\n     * Added a -debug command line flag, which controls debugging of\\n\\n       various modules. Say -debug XXX to enable debug tracing for module\\n\\n       XXX, or -debug all to turn on absolutely everything.\\n\\n     * Fixed a small bug where the text UI on NT was raising a \\'no such\\n\\n       signal\\' exception.\\n\\n       \\n\\n   Changes since 1.111:\\n\\n     * INCOMPATIBLE CHANGE: The names and formats of the preference files\\n\\n       in the .unison directory have changed. In particular:\\n\\n          + the file ``prefs\\'\\' should be renamed to default.prf\\n\\n          + the contents of the file ``ignore\\'\\' should be merged into\\n\\n            default.prf. Each line of the form REGEXP in ignore should\\n\\n            become a line of the form ignore = REGEXP in default.prf.\\n\\n     * Unison now handles permission bits and symbolic links. See the\\n\\n       manual for details.\\n\\n     * You can now have different preference files in your .unison\\n\\n       directory. If you start unison like this\\n\\n\\n\\n             unison profilename\\n\\n       (i.e. with just one ``anonymous\\'\\' command-line argument), then the\\n\\n       file ~/.unison/profilename.prf will be loaded instead of\\n\\n       default.prf.\\n\\n     * Some improvements to terminal handling in the text user interface\\n\\n     * Added a switch -killServer that terminates the remote server\\n\\n       process when the unison client is shutting down, even when using\\n\\n       sockets for communication. (By default, a remote server created\\n\\n       using ssh/rsh is terminated automatically, while a socket server\\n\\n       is left running.)\\n\\n     * When started in \\'socket server\\' mode, unison prints \\'server\\n\\n       started\\' on stderr when it is ready to accept connections. (This\\n\\n       may be useful for scripts that want to tell when a socket-mode\\n\\n       server has finished initalization.)\\n\\n     * We now make a nightly mirror of our current internal development\\n\\n       tree, in case anyone wants an up-to-the-minute version to hack\\n\\n       around with.\\n\\n     * Added a file CONTRIB with some suggestions for how to help us make\\n\\n       Unison better.\\n\\n       \\n\\n\\n\\n\\n\\nChanges in Version 2.9.20\\n\\n\\n\\n   Changes since 2.9.1:\\n\\n     * Added a preference maxthreads that can be used to limit the number\\n\\n       of simultaneous file transfers.\\n\\n     * Added a backupdir preference, which controls where backup files\\n\\n       are stored.\\n\\n     * Basic support added for OSX. In particular, Unison now recognizes\\n\\n       when one of the hosts being synchronized is running OSX and\\n\\n       switches to a case-insensitive treatment of filenames (i.e., \\'foo\\'\\n\\n       and \\'FOO\\' are considered to be the same file). (OSX is not yet\\n\\n       fully working, however: in particular, files with resource forks\\n\\n       will not be synchronized correctly.)\\n\\n     * The same hash used to form the archive name is now also added to\\n\\n       the names of the temp files created during file transfer. The\\n\\n       reason for this is that, during update detection, we are going to\\n\\n       silently delete any old temp files that we find along the way, and\\n\\n       we want to prevent ourselves from deleting temp files belonging to\\n\\n       other instances of Unison that may be running in parallel, e.g.\\n\\n       synchronizing with a different host. Thanks to Ruslan Ermilov for\\n\\n       this suggestion.\\n\\n     * Several small user interface improvements\\n\\n     * Documentation\\n\\n          + FAQ and bug reporting instructions have been split out as\\n\\n            separate HTML pages, accessible directly from the unison web\\n\\n            page.\\n\\n          + Additions to FAQ, in particular suggestions about performance\\n\\n            tuning.\\n\\n     * Makefile\\n\\n          + Makefile.OCaml now sets UISTYLE=text or UISTYLE=gtk\\n\\n            automatically, depending on whether it finds lablgtk\\n\\n            installed\\n\\n          + Unison should now compile ``out of the box\\'\\' under OSX\\n\\n       \\n\\n   Changes since 2.8.1:\\n\\n     * Changing profile works again under Windows\\n\\n     * File movement optimization: Unison now tries to use local copy\\n\\n       instead of transfer for moved or copied files. It is controled by\\n\\n       a boolean option ``xferbycopying\\'\\'.\\n\\n     * Network statistics window (transfer rate, amount of data\\n\\n       transferred). [NB: not available in Windows-Cygwin version.]\\n\\n     * symlinks work under the cygwin version (which is dynamically\\n\\n       linked).\\n\\n     * Fixed potential deadlock when synchronizing between Windows and\\n\\n       Unix\\n\\n     * Small improvements:\\n\\n          + If neither the\\n\\n            tt USERPROFILE nor the\\n\\n            tt HOME environment variables are set, then Unison will put\\n\\n            its temporary commit log (called\\n\\n            tt DANGER.README) into the directory named by the\\n\\n            tt UNISON environment variable, if any; otherwise it will use\\n\\n            tt C:.\\n\\n          + alternative set of values for fastcheck: yes = true; no =\\n\\n            false; default = auto.\\n\\n          + -silent implies -contactquietly\\n\\n     * Source code:\\n\\n          + Code reorganization and tidying. (Started breaking up some of\\n\\n            the basic utility modules so that the non-unison-specific\\n\\n            stuff can be made available for other projects.)\\n\\n          + several Makefile and docs changes (for release);\\n\\n          + further comments in ``update.ml\\'\\';\\n\\n          + connection information is not stored in global variables\\n\\n            anymore.\\n\\n       \\n\\n   Changes since 2.7.78:\\n\\n     * Small bugfix to textual user interface under Unix (to avoid\\n\\n       leaving the terminal in a bad state where it would not echo inputs\\n\\n       after Unison exited).\\n\\n       \\n\\n   Changes since 2.7.39:\\n\\n     * Improvements to the main web page (stable and beta version docs\\n\\n       are now both accessible).\\n\\n     * User manual revised.\\n\\n     * Added some new preferences:\\n\\n          + ``sshcmd\\'\\' and ``rshcmd\\'\\' for specifying paths to ssh and rsh\\n\\n            programs.\\n\\n          + ``contactquietly\\'\\' for suppressing the ``contacting server\\'\\'\\n\\n            message during Unison startup (under the graphical UI).\\n\\n     * Bug fixes:\\n\\n          + Fixed small bug in UI that neglected to change the displayed\\n\\n            column headers if loading a new profile caused the roots to\\n\\n            change.\\n\\n          + Fixed a bug that would put the text UI into an infinite loop\\n\\n            if it encountered a conflict when run in batch mode.\\n\\n          + Added some code to try to fix the display of non-Ascii\\n\\n            characters in filenames on Windows systems in the GTK UI.\\n\\n            (This code is currently untested---if you\\'re one of the\\n\\n            people that had reported problems with display of non-ascii\\n\\n            filenames, we\\'d appreciate knowing if this actually fixes\\n\\n            things.)\\n\\n          + `-prefer/-force newer\\' works properly now. (The bug was\\n\\n            reported by Sebastian Urbaniak and Sean Fulton.)\\n\\n     * User interface and Unison behavior:\\n\\n          + Renamed `Proceed\\' to `Go\\' in the graphical UI.\\n\\n          + Added exit status for the textual user interface.\\n\\n          + Paths that are not synchronized because of conflicts or\\n\\n            errors during update detection are now noted in the log file.\\n\\n          + [END] messages in log now use a briefer format\\n\\n          + Changed the text UI startup sequence so that\\n\\n            tt ./unison -ui text will use the default profile instead of\\n\\n            failing.\\n\\n          + Made some improvements to the error messages.\\n\\n          + Added some debugging messages to remote.ml.\\n\\n       \\n\\n   Changes since 2.7.7:\\n\\n     * Incorporated, once again, a multi-threaded transport sub-system.\\n\\n       It transfers several files at the same time, thereby making much\\n\\n       more effective use of available network bandwidth. Unlike the\\n\\n       earlier attempt, this time we do not rely on the native thread\\n\\n       library of OCaml. Instead, we implement a light-weight,\\n\\n       non-preemptive multi-thread library in OCaml directly. This\\n\\n       version appears stable.\\n\\n       Some adjustments to unison are made to accommodate the\\n\\n       multi-threaded version. These include, in particular, changes to\\n\\n       the user interface and logging, for example:\\n\\n          + Two log entries for each transferring task, one for the\\n\\n            beginning, one for the end.\\n\\n          + Suppressed warning messages against removing temp files left\\n\\n            by a previous unison run, because warning does not work\\n\\n            nicely under multi-threading. The temp file names are made\\n\\n            less likely to coincide with the name of a file created by\\n\\n            the user. They take the form\\n\\n            .#<filename>.<serial>.unison.tmp.\\n\\n     * Added a new command to the GTK user interface: pressing \\'f\\' causes\\n\\n       Unison to start a new update detection phase, using as paths just\\n\\n       those paths that have been detected as changed and not yet marked\\n\\n       as successfully completed. Use this command to quickly restart\\n\\n       Unison on just the set of paths still needing attention after a\\n\\n       previous run.\\n\\n     * Made the ignorecase preference user-visible, and changed the\\n\\n       initialization code so that it can be manually set to true, even\\n\\n       if neither host is running Windows. (This may be useful, e.g.,\\n\\n       when using Unison running on a Unix system with a FAT volume\\n\\n       mounted.)\\n\\n     * Small improvements and bug fixes:\\n\\n          + Errors in preference files now generate fatal errors rather\\n\\n            than warnings at startup time. (I.e., you can\\'t go on from\\n\\n            them.) Also, we fixed a bug that was preventing these\\n\\n            warnings from appearing in the text UI, so some users who\\n\\n            have been running (unsuspectingly) with garbage in their\\n\\n            prefs files may now get error reports.\\n\\n          + Error reporting for preference files now provides file name\\n\\n            and line number.\\n\\n          + More intelligible message in the case of identical change to\\n\\n            the same files: ``Nothing to do: replicas have been changed\\n\\n            only in identical ways since last sync.\\'\\'\\n\\n          + Files with prefix \\'.#\\' excluded when scanning for preference\\n\\n            files.\\n\\n          + Rsync instructions are send directly instead of first\\n\\n            marshaled.\\n\\n          + Won\\'t try forever to get the fingerprint of a continuously\\n\\n            changing file: unison will give up after certain number of\\n\\n            retries.\\n\\n          + Other bug fixes, including the one reported by Peter Selinger\\n\\n            (force=older preference not working).\\n\\n     * Compilation:\\n\\n          + Upgraded to the new OCaml 3.04 compiler, with the LablGtk\\n\\n            1.2.3 library (patched version used for compiling under\\n\\n            Windows).\\n\\n          + Added the option to compile unison on the Windows platform\\n\\n            with Cygwin GNU C compiler. This option only supports\\n\\n            building dynamically linked unison executables.\\n\\n       \\n\\n   Changes since 2.7.4:\\n\\n     * Fixed a silly (but debilitating) bug in the client startup\\n\\n       sequence.\\n\\n       \\n\\n   Changes since 2.7.1:\\n\\n     * Added addprefsto preference, which (when set) controls which\\n\\n       preference file new preferences (e.g. new ignore patterns) are\\n\\n       added to.\\n\\n     * Bug fix: read the initial connection header one byte at a time, so\\n\\n       that we don\\'t block if the header is shorter than expected. (This\\n\\n       bug did not affect normal operation --- it just made it hard to\\n\\n       tell when you were trying to use Unison incorrectly with an old\\n\\n       version of the server, since it would hang instead of giving an\\n\\n       error message.)\\n\\n       \\n\\n   Changes since 2.6.59:\\n\\n     * Changed fastcheck from a boolean to a string preference. Its legal\\n\\n       values are yes (for a fast check), no (for a safe check), or\\n\\n       default (for a fast check---which also happens to be safe---when\\n\\n       running on Unix and a safe check when on Windows). The default is\\n\\n       default.\\n\\n     * Several preferences have been renamed for consistency. All\\n\\n       preference names are now spelled out in lowercase. For backward\\n\\n       compatibility, the old names still work, but they are not\\n\\n       mentioned in the manual any more.\\n\\n     * The temp files created by the \\'diff\\' and \\'merge\\' commands are now\\n\\n       named by prepending a new prefix to the file name, rather than\\n\\n       appending a suffix. This should avoid confusing diff/merge\\n\\n       programs that depend on the suffix to guess the type of the file\\n\\n       contents.\\n\\n     * We now set the keepalive option on the server socket, to make sure\\n\\n       that the server times out if the communication link is\\n\\n       unexpectedly broken.\\n\\n     * Bug fixes:\\n\\n          + When updating small files, Unison now closes the destination\\n\\n            file.\\n\\n          + File permissions are properly updated when the file is behind\\n\\n            a followed link.\\n\\n          + Several other small fixes.\\n\\n       \\n\\n   Changes since 2.6.38:\\n\\n     * Major Windows performance improvement!\\n\\n       We\\'ve added a preference fastcheck that makes Unison look only at\\n\\n       a file\\'s creation time and last-modified time to check whether it\\n\\n       has changed. This should result in a huge speedup when checking\\n\\n       for updates in large replicas.\\n\\n       When this switch is set, Unison will use file creation times as\\n\\n       \\'pseudo inode numbers\\' when scanning Windows replicas for updates,\\n\\n       instead of reading the full contents of every file. This may cause\\n\\n       Unison to miss propagating an update if the create time,\\n\\n       modification time, and length of the file are all unchanged by the\\n\\n       update (this is not easy to achieve, but it can be done). However,\\n\\n       Unison will never overwrite such an update with a change from the\\n\\n       other replica, since it always does a safe check for updates just\\n\\n       before propagating a change. Thus, it is reasonable to use this\\n\\n       switch most of the time and occasionally run Unison once with\\n\\n       fastcheck set to false, if you are worried that Unison may have\\n\\n       overlooked an update.\\n\\n       Warning: This change is has not yet been thoroughly field-tested.\\n\\n       If you set the fastcheck preference, pay careful attention to what\\n\\n       Unison is doing.\\n\\n     * New functionality: centralized backups and merging\\n\\n          + This version incorporates two pieces of major new\\n\\n            functionality, implemented by Sylvain Roy during a summer\\n\\n            internship at Penn: a centralized backup facility that keeps\\n\\n            a full backup of (selected files in) each replica, and a\\n\\n            merging feature that allows Unison to invoke an external\\n\\n            file-merging tool to resolve conflicting changes to\\n\\n            individual files.\\n\\n          + Centralized backups:\\n\\n               o Unison now maintains full backups of the\\n\\n                 last-synchronized versions of (some of) the files in\\n\\n                 each replica; these function both as backups in the\\n\\n                 usual sense and as the ``common version\\'\\' when invoking\\n\\n                 external merge programs.\\n\\n               o The backed up files are stored in a directory\\n\\n                 /.unison/backup on each host. (The name of this\\n\\n                 directory can be changed by setting the environment\\n\\n                 variable UNISONBACKUPDIR.)\\n\\n               o The predicate backup controls which files are actually\\n\\n                 backed up: giving the preference \\'backup = Path *\\'\\n\\n                 causes backing up of all files.\\n\\n               o Files are added to the backup directory whenever unison\\n\\n                 updates its archive. This means that\\n\\n                    # When unison reconstructs its archive from scratch\\n\\n                      (e.g., because of an upgrade, or because the\\n\\n                      archive files have been manually deleted), all\\n\\n                      files will be backed up.\\n\\n                    # Otherwise, each file will be backed up the first\\n\\n                      time unison propagates an update for it.\\n\\n               o The preference backupversions controls how many previous\\n\\n                 versions of each file are kept. The default is 2 (i.e.,\\n\\n                 the last synchronized version plus one backup).\\n\\n               o For backward compatibility, the backups preference is\\n\\n                 also still supported, but backup is now preferred.\\n\\n               o It is OK to manually delete files from the backup\\n\\n                 directory (or to throw away the directory itself).\\n\\n                 Before unison uses any of these files for anything\\n\\n                 important, it checks that its fingerprint matches the\\n\\n                 one that it expects.\\n\\n          + Merging:\\n\\n               o Both user interfaces offer a new \\'merge\\' command,\\n\\n                 invoked by pressing \\'m\\' (with a changed file selected).\\n\\n               o The actual merging is performed by an external program.\\n\\n                 The preferences merge and merge2 control how this\\n\\n                 program is invoked. If a backup exists for this file\\n\\n                 (see the backup preference), then the merge preference\\n\\n                 is used for this purpose; otherwise merge2 is used. In\\n\\n                 both cases, the value of the preference should be a\\n\\n                 string representing the command that should be passed to\\n\\n                 a shell to invoke the merge program. Within this string,\\n\\n                 the special substrings CURRENT1, CURRENT2, NEW, and OLD\\n\\n                 may appear at any point. Unison will substitute these as\\n\\n                 follows before invoking the command:\\n\\n                    # CURRENT1 is replaced by the name of the local copy\\n\\n                      of the file;\\n\\n                    # CURRENT2 is replaced by the name of a temporary\\n\\n                      file, into which the contents of the remote copy of\\n\\n                      the file have been transferred by Unison prior to\\n\\n                      performing the merge;\\n\\n                    # NEW is replaced by the name of a temporary file\\n\\n                      that Unison expects to be written by the merge\\n\\n                      program when it finishes, giving the desired new\\n\\n                      contents of the file; and\\n\\n                    # OLD is replaced by the name of the backed up copy\\n\\n                      of the original version of the file (i.e., its\\n\\n                      state at the end of the last successful run of\\n\\n                      Unison), if one exists (applies only to merge, not\\n\\n                      merge2).\\n\\n                 For example, on Unix systems setting the merge\\n\\n                 preference to\\n\\n\\n\\n   merge = diff3 -m CURRENT1 OLD CURRENT2 > NEW\\n\\n                 will tell Unison to use the external diff3 program for\\n\\n                 merging.\\n\\n                 A large number of external merging programs are\\n\\n                 available. For example, emacs users may find the\\n\\n                 following convenient:\\n\\n\\n\\n    merge2 = emacs -q --eval \\'(ediff-merge-files \"CURRENT1\" \"CURRENT2\"\\n\\n               nil \"NEW\")\\'\\n\\n    merge = emacs -q --eval \\'(ediff-merge-files-with-ancestor\\n\\n               \"CURRENT1\" \"CURRENT2\" \"OLD\" nil \"NEW\")\\'\\n\\n                 (These commands are displayed here on two lines to avoid\\n\\n                 running off the edge of the page. In your preference\\n\\n                 file, each should be written on a single line.)\\n\\n               o If the external program exits without leaving any file\\n\\n                 at the path NEW, Unison considers the merge to have\\n\\n                 failed. If the merge program writes a file called NEW\\n\\n                 but exits with a non-zero status code, then Unison\\n\\n                 considers the merge to have succeeded but to have\\n\\n                 generated conflicts. In this case, it attempts to invoke\\n\\n                 an external editor so that the user can resolve the\\n\\n                 conflicts. The value of the editor preference controls\\n\\n                 what editor is invoked by Unison. The default is emacs.\\n\\n               o Please send us suggestions for other useful values of\\n\\n                 the merge2 and merge preferences -- we\\'d like to give\\n\\n                 several examples in the manual.\\n\\n     * Smaller changes:\\n\\n          + When one preference file includes another, unison no longer\\n\\n            adds the suffix \\'.prf\\' to the included file by default. If a\\n\\n            file with precisely the given name exists in the .unison\\n\\n            directory, it will be used; otherwise Unison will add .prf,\\n\\n            as it did before. (This change means that included preference\\n\\n            files can be named blah.include instead of blah.prf, so that\\n\\n            unison will not offer them in its \\'choose a preference file\\'\\n\\n            dialog.)\\n\\n          + For Linux systems, we now offer both a statically linked and\\n\\n            a dynamically linked executable. The static one is larger,\\n\\n            but will probably run on more systems, since it doesn\\'t\\n\\n            depend on the same versions of dynamically linked library\\n\\n            modules being available.\\n\\n          + Fixed the force and prefer preferences, which were getting\\n\\n            the propagation direction exactly backwards.\\n\\n          + Fixed a bug in the startup code that would cause unison to\\n\\n            crash when the default profile (~/.unison/default.prf) does\\n\\n            not exist.\\n\\n          + Fixed a bug where, on the run when a profile is first\\n\\n            created, Unison would confusingly display the roots in\\n\\n            reverse order in the user interface.\\n\\n     * For developers:\\n\\n          + We\\'ve added a module dependency diagram to the source\\n\\n            distribution, in src/DEPENDENCIES.ps, to help new prospective\\n\\n            developers with navigating the code.\\n\\n       \\n\\n   Changes since 2.6.11:\\n\\n     * INCOMPATIBLE CHANGE: Archive format has changed.\\n\\n     * INCOMPATIBLE CHANGE: The startup sequence has been completely\\n\\n       rewritten and greatly simplified. The main user-visible change is\\n\\n       that the defaultpath preference has been removed. Its effect can\\n\\n       be approximated by using multiple profiles, with include\\n\\n       directives to incorporate common settings. All uses of defaultpath\\n\\n       in existing profiles should be changed to path.\\n\\n       Another change in startup behavior that will affect some users is\\n\\n       that it is no longer possible to specify roots both in the profile\\n\\n       and on the command line.\\n\\n       You can achieve a similar effect, though, by breaking your profile\\n\\n       into two:\\n\\n\\n\\n\\n\\n  default.prf =\\n\\n      root = blah\\n\\n      root = foo\\n\\n      include common\\n\\n\\n\\n  common.prf =\\n\\n      <everything else>\\n\\n       Now do\\n\\n\\n\\n  unison common root1 root2\\n\\n       when you want to specify roots explicitly.\\n\\n     * The -prefer and -force options have been extended to allow users\\n\\n       to specify that files with more recent modtimes should be\\n\\n       propagated, writing either -prefer newer or -force newer. (For\\n\\n       symmetry, Unison will also accept -prefer older or -force older.)\\n\\n       The -force older/newer options can only be used when -times is\\n\\n       also set.\\n\\n       The graphical user interface provides access to these facilities\\n\\n       on a one-off basis via the Actions menu.\\n\\n     * Names of roots can now be ``aliased\\'\\' to allow replicas to be\\n\\n       relocated without changing the name of the archive file where\\n\\n       Unison stores information between runs. (This feature is for\\n\\n       experts only. See the ``Archive Files\\'\\' section of the manual for\\n\\n       more information.)\\n\\n     * Graphical user-interface:\\n\\n          + A new command is provided in the Synchronization menu for\\n\\n            switching to a new profile without restarting Unison from\\n\\n            scratch.\\n\\n          + The GUI also supports one-key shortcuts for commonly used\\n\\n            profiles. If a profile contains a preference of the form \\'key\\n\\n            = n\\', where n is a single digit, then pressing this key will\\n\\n            cause Unison to immediately switch to this profile and begin\\n\\n            synchronization again from scratch. (Any actions that may\\n\\n            have been selected for a set of changes currently being\\n\\n            displayed will be discarded.)\\n\\n          + Each profile may include a preference \\'label = <string>\\'\\n\\n            giving a descriptive string that described the options\\n\\n            selected in this profile. The string is listed along with the\\n\\n            profile name in the profile selection dialog, and displayed\\n\\n            in the top-right corner of the main Unison window.\\n\\n     * Minor:\\n\\n          + Fixed a bug that would sometimes cause the \\'diff\\' display to\\n\\n            order the files backwards relative to the main user\\n\\n            interface. (Thanks to Pascal Brisset for this fix.)\\n\\n          + On Unix systems, the graphical version of Unison will check\\n\\n            the DISPLAY variable and, if it is not set, automatically\\n\\n            fall back to the textual user interface.\\n\\n          + Synchronization paths (path preferences) are now matched\\n\\n            against the ignore preferences. So if a path is both\\n\\n            specified in a path preference and ignored, it will be\\n\\n            skipped.\\n\\n          + Numerous other bugfixes and small improvements.\\n\\n       \\n\\n   Changes since 2.6.1:\\n\\n     * The synchronization of modification times has been disabled for\\n\\n       directories.\\n\\n     * Preference files may now include lines of the form include <name>,\\n\\n       which will cause name.prf to be read at that point.\\n\\n     * The synchronization of permission between Windows and Unix now\\n\\n       works properly.\\n\\n     * A binding CYGWIN=binmode in now added to the environment so that\\n\\n       the Cygwin port of OpenSSH works properly in a non-Cygwin context.\\n\\n     * The servercmd and addversionno preferences can now be used\\n\\n       together: -addversionno appends an appropriate -NNN to the server\\n\\n       command, which is found by using the value of the -servercmd\\n\\n       preference if there is one, or else just unison.\\n\\n     * Both \\'-pref=val\\' and \\'-pref val\\' are now allowed for boolean\\n\\n       values. (The former can be used to set a preference to false.)\\n\\n     * Lot of small bugs fixed.\\n\\n       \\n\\n   Changes since 2.5.31:\\n\\n     * The log preference is now set to true by default, since the log\\n\\n       file seems useful for most users.\\n\\n     * Several miscellaneous bugfixes (most involving symlinks).\\n\\n       \\n\\n   Changes since 2.5.25:\\n\\n     * INCOMPATIBLE CHANGE: Archive format has changed (again).\\n\\n     * Several significant bugs introduced in 2.5.25 have been fixed.\\n\\n       \\n\\n   Changes since 2.5.1:\\n\\n     * INCOMPATIBLE CHANGE: Archive format has changed. Make sure you\\n\\n       synchronize your replicas before upgrading, to avoid spurious\\n\\n       conflicts. The first sync after upgrading will be slow.\\n\\n     * New functionality:\\n\\n          + Unison now synchronizes file modtimes, user-ids, and\\n\\n            group-ids.\\n\\n            These new features are controlled by a set of new\\n\\n            preferences, all of which are currently false by default.\\n\\n               o When the times preference is set to true, file\\n\\n                 modification times are propaged. (Because the\\n\\n                 representations of time may not have the same\\n\\n                 granularity on both replicas, Unison may not always be\\n\\n                 able to make the modtimes precisely equal, but it will\\n\\n                 get them as close as the operating systems involved\\n\\n                 allow.)\\n\\n               o When the owner preference is set to true, file ownership\\n\\n                 information is synchronized.\\n\\n               o When the group preference is set to true, group\\n\\n                 information is synchronized.\\n\\n               o When the numericIds preference is set to true, owner and\\n\\n                 group information is synchronized numerically. By\\n\\n                 default, owner and group numbers are converted to names\\n\\n                 on each replica and these names are synchronized. (The\\n\\n                 special user id 0 and the special group 0 are never\\n\\n                 mapped via user/group names even if this preference is\\n\\n                 not set.)\\n\\n          + Added an integer-valued preference perms that can be used to\\n\\n            control the propagation of permission bits. The value of this\\n\\n            preference is a mask indicating which permission bits should\\n\\n            be synchronized. It is set by default to 0o1777: all bits but\\n\\n            the set-uid and set-gid bits are synchronised (synchronizing\\n\\n            theses latter bits can be a security hazard). If you want to\\n\\n            synchronize all bits, you can set the value of this\\n\\n            preference to -1.\\n\\n          + Added a log preference (default false), which makes Unison\\n\\n            keep a complete record of the changes it makes to the\\n\\n            replicas. By default, this record is written to a file called\\n\\n            unison.log in the user\\'s home directory (the value of the\\n\\n            HOME environment variable). If you want it someplace else,\\n\\n            set the logfile preference to the full pathname you want\\n\\n            Unison to use.\\n\\n          + Added an ignorenot preference that maintains a set of\\n\\n            patterns for paths that should definitely not be ignored,\\n\\n            whether or not they match an ignore pattern. (That is, a path\\n\\n            will now be ignored iff it matches an ignore pattern and does\\n\\n            not match any ignorenot patterns.)\\n\\n     * User-interface improvements:\\n\\n          + Roots are now displayed in the user interface in the same\\n\\n            order as they were given on the command line or in the\\n\\n            preferences file.\\n\\n          + When the batch preference is set, the graphical user\\n\\n            interface no longer waits for user confirmation when it\\n\\n            displays a warning message: it simply pops up an advisory\\n\\n            window with a Dismiss button at the bottom and keeps on\\n\\n            going.\\n\\n          + Added a new preference for controlling how many status\\n\\n            messages are printed during update detection: statusdepth\\n\\n            controls the maximum depth for paths on the local machine\\n\\n            (longer paths are not displayed, nor are non-directory\\n\\n            paths). The value should be an integer; default is 1.\\n\\n          + Removed the trace and silent preferences. They did not seem\\n\\n            very useful, and there were too many preferences for\\n\\n            controlling output in various ways.\\n\\n          + The text UI now displays just the default command (the one\\n\\n            that will be used if the user just types <return>) instead of\\n\\n            all available commands. Typing ? will print the full list of\\n\\n            possibilities.\\n\\n          + The function that finds the canonical hostname of the local\\n\\n            host (which is used, for example, in calculating the name of\\n\\n            the archive file used to remember which files have been\\n\\n            synchronized) normally uses the gethostname operating system\\n\\n            call. However, if the environment variable\\n\\n            UNISONLOCALHOSTNAME is set, its value will now be used\\n\\n            instead. This makes it easier to use Unison in situations\\n\\n            where a machine\\'s name changes frequently (e.g., because it\\n\\n            is a laptop and gets moved around a lot).\\n\\n          + File owner and group are now displayed in the ``detail\\n\\n            window\\'\\' at the bottom of the screen, when unison is\\n\\n            configured to synchronize them.\\n\\n     * For hackers:\\n\\n          + Updated to Jacques Garrigue\\'s new version of lablgtk, which\\n\\n            means we can throw away our local patched version.\\n\\n            If you\\'re compiling the GTK version of unison from sources,\\n\\n            you\\'ll need to update your copy of lablgtk to the developers\\n\\n            release, available from\\n\\n            http://wwwfun.kurims.kyoto-u.ac.jp/soft/olabl/lablgtk.html\\n\\n            (Warning: installing lablgtk under Windows is currently a bit\\n\\n            challenging.)\\n\\n          + The TODO.txt file (in the source distribution) has been\\n\\n            cleaned up and reorganized. The list of pending tasks should\\n\\n            be much easier to make sense of, for people that may want to\\n\\n            contribute their programming energies. There is also a\\n\\n            separate file BUGS.txt for open bugs.\\n\\n          + The Tk user interface has been removed (it was not being\\n\\n            maintained and no longer compiles).\\n\\n          + The debug preference now prints quite a bit of additional\\n\\n            information that should be useful for identifying sources of\\n\\n            problems.\\n\\n          + The version number of the remote server is now checked right\\n\\n            away during the connection setup handshake, rather than\\n\\n            later. (Somebody sent a bug report of a server crash that\\n\\n            turned out to come from using inconsistent versions: better\\n\\n            to check this earlier and in a way that can\\'t crash either\\n\\n            client or server.)\\n\\n          + Unison now runs correctly on 64-bit architectures (e.g. Alpha\\n\\n            linux). We will not be distributing binaries for these\\n\\n            architectures ourselves (at least for a while) but if someone\\n\\n            would like to make them available, we\\'ll be glad to provide a\\n\\n            link to them.\\n\\n     * Bug fixes:\\n\\n          + Pattern matching (e.g. for ignore) is now case-insensitive\\n\\n            when Unison is in case-insensitive mode (i.e., when one of\\n\\n            the replicas is on a windows machine).\\n\\n          + Some people had trouble with mysterious failures during\\n\\n            propagation of updates, where files would be falsely reported\\n\\n            as having changed during synchronization. This should be\\n\\n            fixed.\\n\\n          + Numerous smaller fixes.\\n\\n       \\n\\n   Changes since 2.4.1:\\n\\n     * Added a number of \\'sorting modes\\' for the user interface. By\\n\\n       default, conflicting changes are displayed at the top, and the\\n\\n       rest of the entries are sorted in alphabetical order. This\\n\\n       behavior can be changed in the following ways:\\n\\n          + Setting the sortnewfirst preference to true causes newly\\n\\n            created files to be displayed before changed files.\\n\\n          + Setting sortbysize causes files to be displayed in increasing\\n\\n            order of size.\\n\\n          + Giving the preference sortfirst=<pattern> (where <pattern> is\\n\\n            a path descriptor in the same format as \\'ignore\\' and \\'follow\\'\\n\\n            patterns, causes paths matching this pattern to be displayed\\n\\n            first.\\n\\n          + Similarly, giving the preference sortlast=<pattern> causes\\n\\n            paths matching this pattern to be displayed last.\\n\\n       The sorting preferences are described in more detail in the user\\n\\n       manual. The sortnewfirst and sortbysize flags can also be accessed\\n\\n       from the \\'Sort\\' menu in the grpahical user interface.\\n\\n     * Added two new preferences that can be used to change unison\\'s\\n\\n       fundamental behavior to make it more like a mirroring tool instead\\n\\n       of a synchronizer.\\n\\n          + Giving the preference prefer with argument <root> (by adding\\n\\n            -prefer <root> to the command line or prefer=<root>) to your\\n\\n            profile) means that, if there is a conflict, the contents of\\n\\n            <root> should be propagated to the other replica (with no\\n\\n            questions asked). Non-conflicting changes are treated as\\n\\n            usual.\\n\\n          + Giving the preference force with argument <root> will make\\n\\n            unison resolve all differences in favor of the given root,\\n\\n            even if it was the other replica that was changed.\\n\\n       These options should be used with care! (More information is\\n\\n       available in the manual.)\\n\\n     * Small changes:\\n\\n          + Changed default answer to \\'Yes\\' in all two-button dialogs in\\n\\n            the graphical interface (this seems more intuitive).\\n\\n          + The rsync preference has been removed (it was used to\\n\\n            activate rsync compression for file transfers, but rsync\\n\\n            compression is now enabled by default).\\n\\n          + In the text user interface, the arrows indicating which\\n\\n            direction changes are being propagated are printed\\n\\n            differently when the user has overridded Unison\\'s default\\n\\n            recommendation (====> instead of ---->). This matches the\\n\\n            behavior of the graphical interface, which displays such\\n\\n            arrows in a different color.\\n\\n          + Carriage returns (Control-M\\'s) are ignored at the ends of\\n\\n            lines in profiles, for Windows compatibility.\\n\\n          + All preferences are now fully documented in the user manual.\\n\\n       \\n\\n   Changes since 2.3.12:\\n\\n     * INCOMPATIBLE CHANGE: Archive format has changed. Make sure you\\n\\n       synchronize your replicas before upgrading, to avoid spurious\\n\\n       conflicts. The first sync after upgrading will be slow.\\n\\n     * New/improved functionality:\\n\\n          + A new preference -sortbysize controls the order in which\\n\\n            changes are displayed to the user: when it is set to true,\\n\\n            the smallest changed files are displayed first. (The default\\n\\n            setting is false.)\\n\\n          + A new preference -sortnewfirst causes newly created files to\\n\\n            be listed before other updates in the user interface.\\n\\n          + We now allow the ssh protocol to specify a port.\\n\\n          + Incompatible change: The unison: protocol is deprecated, and\\n\\n            we added file: and socket:. You may have to modify your\\n\\n            profiles in the .unison directory. If a replica is specified\\n\\n            without an explicit protocol, we now assume it refers to a\\n\\n            file. (Previously \"//saul/foo\" meant to use SSH to connect to\\n\\n            saul, then access the foo directory. Now it means to access\\n\\n            saul via a remote file mechanism such as samba; the old\\n\\n            effect is now achieved by writing ssh://saul/foo.)\\n\\n          + Changed the startup sequence for the case where roots are\\n\\n            given but no profile is given on the command line. The new\\n\\n            behavior is to use the default profile (creating it if it\\n\\n            does not exist), and temporarily override its roots. The\\n\\n            manual claimed that this case would work by reading no\\n\\n            profile at all, but AFAIK this was never true.\\n\\n          + In all user interfaces, files with conflicts are always\\n\\n            listed first\\n\\n          + A new preference \\'sshversion\\' can be used to control which\\n\\n            version of ssh should be used to connect to the server. Legal\\n\\n            values are 1 and 2. (Default is empty, which will make unison\\n\\n            use whatever version of ssh is installed as the default \\'ssh\\'\\n\\n            command.)\\n\\n          + The situation when the permissions of a file was updated the\\n\\n            same on both side is now handled correctly (we used to report\\n\\n            a spurious conflict)\\n\\n     * Improvements for the Windows version:\\n\\n          + The fact that filenames are treated case-insensitively under\\n\\n            Windows should now be handled correctly. The exact behavior\\n\\n            is described in the cross-platform section of the manual.\\n\\n          + It should be possible to synchronize with Windows shares,\\n\\n            e.g., //host/drive/path.\\n\\n          + Workarounds to the bug in syncing root directories in\\n\\n            Windows. The most difficult thing to fix is an ocaml bug:\\n\\n            Unix.opendir fails on c: in some versions of Windows.\\n\\n     * Improvements to the GTK user interface (the Tk interface is no\\n\\n       longer being maintained):\\n\\n          + The UI now displays actions differently (in blue) when they\\n\\n            have been explicitly changed by the user from Unison\\'s\\n\\n            default recommendation.\\n\\n          + More colorful appearance.\\n\\n          + The initial profile selection window works better.\\n\\n          + If any transfers failed, a message to this effect is\\n\\n            displayed along with \\'Synchronization complete\\' at the end of\\n\\n            the transfer phase (in case they may have scrolled off the\\n\\n            top).\\n\\n          + Added a global progress meter, displaying the percentage of\\n\\n            total bytes that have been transferred so far.\\n\\n     * Improvements to the text user interface:\\n\\n          + The file details will be displayed automatically when a\\n\\n            conflict is been detected.\\n\\n          + when a warning is generated (e.g. for a temporary file left\\n\\n            over from a previous run of unison) Unison will no longer\\n\\n            wait for a response if it is running in -batch mode.\\n\\n          + The UI now displays a short list of possible inputs each time\\n\\n            it waits for user interaction.\\n\\n          + The UI now quits immediately (rather than looping back and\\n\\n            starting the interaction again) if the user presses \\'q\\' when\\n\\n            asked whether to propagate changes.\\n\\n          + Pressing \\'g\\' in the text user interface will proceed\\n\\n            immediately with propagating updates, without asking any more\\n\\n            questions.\\n\\n     * Documentation and installation changes:\\n\\n          + The manual now includes a FAQ, plus sections on common\\n\\n            problems and on tricks contributed by users.\\n\\n          + Both the download page and the download directory explicitly\\n\\n            say what are the current stable and beta-test version\\n\\n            numbers.\\n\\n          + The OCaml sources for the up-to-the-minute developers\\'\\n\\n            version (not guaranteed to be stable, or even to compile, at\\n\\n            any given time!) are now available from the download page.\\n\\n          + Added a subsection to the manual describing cross-platform\\n\\n            issues (case conflicts, illegal filenames)\\n\\n     * Many small bug fixes and random improvements.\\n\\n       \\n\\n   Changes since 2.3.1:\\n\\n     * Several bug fixes. The most important is a bug in the rsync module\\n\\n       that would occasionally cause change propagation to fail with a\\n\\n       \\'rename\\' error.\\n\\n       \\n\\n   Changes since 2.2:\\n\\n     * The multi-threaded transport system is now disabled by default.\\n\\n       (It is not stable enough yet.)\\n\\n     * Various bug fixes.\\n\\n     * A new experimental feature:\\n\\n       The final component of a -path argument may now be the wildcard\\n\\n       specifier *. When Unison sees such a path, it expands this path on\\n\\n       the client into into the corresponding list of paths by listing\\n\\n       the contents of that directory.\\n\\n       Note that if you use wildcard paths from the command line, you\\n\\n       will probably need to use quotes or a backslash to prevent the *\\n\\n       from being interpreted by your shell.\\n\\n       If both roots are local, the contents of the first one will be\\n\\n       used for expanding wildcard paths. (Nb: this is the first one\\n\\n       after the canonization step -- i.e., the one that is listed first\\n\\n       in the user interface -- not the one listed first on the command\\n\\n       line or in the preferences file.)\\n\\n       \\n\\n   Changes since 2.1:\\n\\n     * The transport subsystem now includes an implementation by Sylvain\\n\\n       Gommier and Norman Ramsey of Tridgell and Mackerras\\'s rsync\\n\\n       protocol. This protocol achieves much faster transfers when only a\\n\\n       small part of a large file has been changed by sending just diffs.\\n\\n       This feature is mainly helpful for transfers over slow links---on\\n\\n       fast local area networks it can actually degrade performance---so\\n\\n       we have left it off by default. Start unison with the -rsync\\n\\n       option (or put rsync=true in your preferences file) to turn it on.\\n\\n     * ``Progress bars\\'\\' are now diplayed during remote file transfers,\\n\\n       showing what percentage of each file has been transferred so far.\\n\\n     * The version numbering scheme has changed. New releases will now be\\n\\n       have numbers like 2.2.30, where the second component is\\n\\n       incremented on every significant public release and the third\\n\\n       component is the ``patch level.\\'\\'\\n\\n     * Miscellaneous improvements to the GTK-based user interface.\\n\\n     * The manual is now available in PDF format.\\n\\n     * We are experimenting with using a multi-threaded transport\\n\\n       subsystem to transfer several files at the same time, making much\\n\\n       more effective use of available network bandwidth. This feature is\\n\\n       not completely stable yet, so by default it is disabled in the\\n\\n       release version of Unison.\\n\\n       If you want to play with the multi-threaded version, you\\'ll need\\n\\n       to recompile Unison from sources (as described in the\\n\\n       documentation), setting the THREADS flag in Makefile.OCaml to\\n\\n       true. Make sure that your OCaml compiler has been installed with\\n\\n       the -with-pthreads configuration option. (You can verify this by\\n\\n       checking whether the file threads/threads.cma in the OCaml\\n\\n       standard library directory contains the string -lpthread near the\\n\\n       end.)\\n\\n       \\n\\n   Changes since 1.292:\\n\\n     * Reduced memory footprint (this is especially important during the\\n\\n       first run of unison, where it has to gather information about all\\n\\n       the files in both repositories).\\n\\n     * Fixed a bug that would cause the socket server under NT to fail\\n\\n       after the client exits.\\n\\n     * Added a SHIFT modifier to the Ignore menu shortcut keys in GTK\\n\\n       interface (to avoid hitting them accidentally).\\n\\n       \\n\\n   Changes since 1.231:\\n\\n     * Tunneling over ssh is now supported in the Windows version. See\\n\\n       the installation section of the manual for detailed instructions.\\n\\n     * The transport subsystem now includes an implementation of the\\n\\n       rsync protocol, built by Sylvain Gommier and Norman Ramsey. This\\n\\n       protocol achieves much faster transfers when only a small part of\\n\\n       a large file has been changed by sending just diffs. The rsync\\n\\n       feature is off by default in the current version. Use the -rsync\\n\\n       switch to turn it on. (Nb. We still have a lot of tuning to do:\\n\\n       you may not notice much speedup yet.)\\n\\n     * We\\'re experimenting with a multi-threaded transport subsystem,\\n\\n       written by Jerome Vouillon. The downloadable binaries are still\\n\\n       single-threaded: if you want to try the multi-threaded version,\\n\\n       you\\'ll need to recompile from sources. (Say make THREADS=true.)\\n\\n       Native thread support from the compiler is required. Use the\\n\\n       option -threads N to select the maximal number of concurrent\\n\\n       threads (default is 5). Multi-threaded and single-threaded\\n\\n       clients/servers can interoperate.\\n\\n     * A new GTK-based user interface is now available, thanks to Jacques\\n\\n       Garrigue. The Tk user interface still works, but we\\'ll be shifting\\n\\n       development effort to the GTK interface from now on.\\n\\n     * OCaml 3.00 is now required for compiling Unison from sources. The\\n\\n       modules uitk and myfileselect have been changed to use labltk\\n\\n       instead of camltk. To compile the Tk interface in Windows, you\\n\\n       must have ocaml-3.00 and tk8.3. When installing tk8.3, put it in\\n\\n       c:\\\\Tcl rather than the suggested c:\\\\Program Files\\\\Tcl, and be sure\\n\\n       to install the headers and libraries (which are not installed by\\n\\n       default).\\n\\n     * Added a new -addversionno switch, which causes unison to use\\n\\n       unison-<currentversionnumber> instead of just unison as the remote\\n\\n       server command. This allows multiple versions of unison to coexist\\n\\n       conveniently on the same server: whichever version is run on the\\n\\n       client, the same version will be selected on the server.\\n\\n       \\n\\n   Changes since 1.219:\\n\\n     * INCOMPATIBLE CHANGE: Archive format has changed. Make sure you\\n\\n       synchronize your replicas before upgrading, to avoid spurious\\n\\n       conflicts. The first sync after upgrading will be slow.\\n\\n     * This version fixes several annoying bugs, including:\\n\\n          + Some cases where propagation of file permissions was not\\n\\n            working.\\n\\n          + umask is now ignored when creating directories\\n\\n          + directories are create writable, so that a read-only\\n\\n            directory and its contents can be propagated.\\n\\n          + Handling of warnings generated by the server.\\n\\n          + Synchronizing a path whose parent is not a directory on both\\n\\n            sides is now flagged as erroneous.\\n\\n          + Fixed some bugs related to symnbolic links and nonexistant\\n\\n            roots.\\n\\n               o When a change (deletion or new contents) is propagated\\n\\n                 onto a \\'follow\\'ed symlink, the file pointed to by the\\n\\n                 link is now changed. (We used to change the link itself,\\n\\n                 which doesn\\'t fit our assertion that \\'follow\\' means the\\n\\n                 link is completely invisible)\\n\\n               o When one root did not exist, propagating the other root\\n\\n                 on top of it used to fail, becuase unison could not\\n\\n                 calculate the working directory into which to write\\n\\n                 changes. This should be fixed.\\n\\n     * A human-readable timestamp has been added to Unison\\'s archive\\n\\n       files.\\n\\n     * The semantics of Path and Name regular expressions now correspond\\n\\n       better.\\n\\n     * Some minor improvements to the text UI (e.g. a command for going\\n\\n       back to previous items)\\n\\n     * The organization of the export directory has changed --- should be\\n\\n       easier to find / download things now.\\n\\n       \\n\\n   Changes since 1.200:\\n\\n     * INCOMPATIBLE CHANGE: Archive format has changed. Make sure you\\n\\n       synchronize your replicas before upgrading, to avoid spurious\\n\\n       conflicts. The first sync after upgrading will be slow.\\n\\n     * This version has not been tested extensively on Windows.\\n\\n     * Major internal changes designed to make unison safer to run at the\\n\\n       same time as the replicas are being changed by the user.\\n\\n     * Internal performance improvements.\\n\\n       \\n\\n   Changes since 1.190:\\n\\n     * INCOMPATIBLE CHANGE: Archive format has changed. Make sure you\\n\\n       synchronize your replicas before upgrading, to avoid spurious\\n\\n       conflicts. The first sync after upgrading will be slow.\\n\\n     * A number of internal functions have been changed to reduce the\\n\\n       amount of memory allocation, especially during the first\\n\\n       synchronization. This should help power users with very big\\n\\n       replicas.\\n\\n     * Reimplementation of low-level remote procedure call stuff, in\\n\\n       preparation for adding rsync-like smart file transfer in a later\\n\\n       release.\\n\\n     * Miscellaneous bug fixes.\\n\\n       \\n\\n   Changes since 1.180:\\n\\n     * INCOMPATIBLE CHANGE: Archive format has changed. Make sure you\\n\\n       synchronize your replicas before upgrading, to avoid spurious\\n\\n       conflicts. The first sync after upgrading will be slow.\\n\\n     * Fixed some small bugs in the interpretation of ignore patterns.\\n\\n     * Fixed some problems that were preventing the Windows version from\\n\\n       working correctly when click-started.\\n\\n     * Fixes to treatment of file permissions under Windows, which were\\n\\n       causing spurious reports of different permissions when\\n\\n       synchronizing between windows and unix systems.\\n\\n     * Fixed one more non-tail-recursive list processing function, which\\n\\n       was causing stack overflows when synchronizing very large\\n\\n       replicas.\\n\\n       \\n\\n   Changes since 1.169:\\n\\n     * The text user interface now provides commands for ignoring files.\\n\\n     * We found and fixed some more non-tail-recursive list processing\\n\\n       functions. Some power users have reported success with very large\\n\\n       replicas.\\n\\n     * INCOMPATIBLE CHANGE: Files ending in .tmp are no longer ignored\\n\\n       automatically. If you want to ignore such files, put an\\n\\n       appropriate ignore pattern in your profile.\\n\\n     * INCOMPATIBLE CHANGE: The syntax of ignore and follow patterns has\\n\\n       changed. Instead of putting a line of the form\\n\\n\\n\\n                 ignore = <regexp>\\n\\n       in your profile (.unison/default.prf), you should put:\\n\\n\\n\\n                 ignore = Regexp <regexp>\\n\\n       Moreover, two other styles of pattern are also recognized:\\n\\n\\n\\n                 ignore = Name <name>\\n\\n       matches any path in which one component matches <name>, while\\n\\n\\n\\n                 ignore = Path <path>\\n\\n       matches exactly the path <path>.\\n\\n       Standard ``globbing\\'\\' conventions can be used in <name> and\\n\\n       <path>:\\n\\n          + a ? matches any single character except /\\n\\n          + a * matches any sequence of characters not including /\\n\\n          + [xyz] matches any character from the set {x, y, z }\\n\\n          + {a,bb,ccc} matches any one of a, bb, or ccc.\\n\\n       See the user manual for some examples.\\n\\n       \\n\\n   Changes since 1.146:\\n\\n     * Some users were reporting stack overflows when synchronizing huge\\n\\n       directories. We found and fixed some non-tail-recursive list\\n\\n       processing functions, which we hope will solve the problem. Please\\n\\n       give it a try and let us know.\\n\\n     * Major additions to the documentation.\\n\\n       \\n\\n   Changes since 1.142:\\n\\n     * Major internal tidying and many small bugfixes.\\n\\n     * Major additions to the user manual.\\n\\n     * Unison can now be started with no arguments -- it will prompt\\n\\n       automatically for the name of a profile file containing the roots\\n\\n       to be synchronized. This makes it possible to start the graphical\\n\\n       UI from a desktop icon.\\n\\n     * Fixed a small bug where the text UI on NT was raising a \\'no such\\n\\n       signal\\' exception.\\n\\n       \\n\\n   Changes since 1.139:\\n\\n     * The precompiled windows binary in the last release was compiled\\n\\n       with an old OCaml compiler, causing propagation of permissions not\\n\\n       to work (and perhaps leading to some other strange behaviors we\\'ve\\n\\n       heard reports about). This has been corrected. If you\\'re using\\n\\n       precompiled binaries on Windows, please upgrade.\\n\\n     * Added a -debug command line flag, which controls debugging of\\n\\n       various modules. Say -debug XXX to enable debug tracing for module\\n\\n       XXX, or -debug all to turn on absolutely everything.\\n\\n     * Fixed a small bug where the text UI on NT was raising a \\'no such\\n\\n       signal\\' exception.\\n\\n       \\n\\n   Changes since 1.111:\\n\\n     * INCOMPATIBLE CHANGE: The names and formats of the preference files\\n\\n       in the .unison directory have changed. In particular:\\n\\n          + the file ``prefs\\'\\' should be renamed to default.prf\\n\\n          + the contents of the file ``ignore\\'\\' should be merged into\\n\\n            default.prf. Each line of the form REGEXP in ignore should\\n\\n            become a line of the form ignore = REGEXP in default.prf.\\n\\n     * Unison now handles permission bits and symbolic links. See the\\n\\n       manual for details.\\n\\n     * You can now have different preference files in your .unison\\n\\n       directory. If you start unison like this\\n\\n\\n\\n             unison profilename\\n\\n       (i.e. with just one ``anonymous\\'\\' command-line argument), then the\\n\\n       file ~/.unison/profilename.prf will be loaded instead of\\n\\n       default.prf.\\n\\n     * Some improvements to terminal handling in the text user interface\\n\\n     * Added a switch -killServer that terminates the remote server\\n\\n       process when the unison client is shutting down, even when using\\n\\n       sockets for communication. (By default, a remote server created\\n\\n       using ssh/rsh is terminated automatically, while a socket server\\n\\n       is left running.)\\n\\n     * When started in \\'socket server\\' mode, unison prints \\'server\\n\\n       started\\' on stderr when it is ready to accept connections. (This\\n\\n       may be useful for scripts that want to tell when a socket-mode\\n\\n       server has finished initalization.)\\n\\n     * We now make a nightly mirror of our current internal development\\n\\n       tree, in case anyone wants an up-to-the-minute version to hack\\n\\n       around with.\\n\\n     * Added a file CONTRIB with some suggestions for how to help us make\\n\\n       Unison better.\\n\\n       \\n\\n\\n\\n\\n\\nTo unsubscribe from this group, send an email to:\\n\\nunison-announce-unsubscribe@egroups.com\\n\\n\\n\\n \\n\\n\\n\\nYour use of Yahoo! Groups is subject to http://docs.yahoo.com/info/terms/ \\n\\n\\n\\n\\n\\n\\n'"
            ]
          },
          "execution_count": 49,
          "metadata": {},
          "output_type": "execute_result"
        }
      ],
      "source": [
        "# The longest clean email\n",
        "data.at[np.argmax(clean_email_lengths), 'Message']"
      ]
    },
    {
      "cell_type": "markdown",
      "metadata": {
        "id": "Oi8IyN7gtKL_"
      },
      "source": [
        "# Generating Features and Sparse Matrix"
      ]
    },
    {
      "cell_type": "code",
      "execution_count": null,
      "metadata": {
        "id": "mEcyR4Q7tKL_",
        "outputId": "6c1daaee-ebfb-4ae3-adab-b639f5b078bc"
      },
      "outputs": [
        {
          "data": {
            "text/html": [
              "<div>\n",
              "<style scoped>\n",
              "    .dataframe tbody tr th:only-of-type {\n",
              "        vertical-align: middle;\n",
              "    }\n",
              "\n",
              "    .dataframe tbody tr th {\n",
              "        vertical-align: top;\n",
              "    }\n",
              "\n",
              "    .dataframe thead th {\n",
              "        text-align: right;\n",
              "    }\n",
              "</style>\n",
              "<table border=\"1\" class=\"dataframe\">\n",
              "  <thead>\n",
              "    <tr style=\"text-align: right;\">\n",
              "      <th></th>\n",
              "      <th>0</th>\n",
              "      <th>1</th>\n",
              "      <th>2</th>\n",
              "      <th>3</th>\n",
              "      <th>4</th>\n",
              "      <th>5</th>\n",
              "      <th>6</th>\n",
              "      <th>7</th>\n",
              "      <th>8</th>\n",
              "      <th>9</th>\n",
              "      <th>...</th>\n",
              "      <th>7661</th>\n",
              "      <th>7662</th>\n",
              "      <th>7663</th>\n",
              "      <th>7664</th>\n",
              "      <th>7665</th>\n",
              "      <th>7666</th>\n",
              "      <th>7667</th>\n",
              "      <th>7668</th>\n",
              "      <th>7669</th>\n",
              "      <th>7670</th>\n",
              "    </tr>\n",
              "  </thead>\n",
              "  <tbody>\n",
              "    <tr>\n",
              "      <th>0</th>\n",
              "      <td>save</td>\n",
              "      <td>life</td>\n",
              "      <td>insur</td>\n",
              "      <td>spend</td>\n",
              "      <td>life</td>\n",
              "      <td>quot</td>\n",
              "      <td>save</td>\n",
              "      <td>g</td>\n",
              "      <td>famili</td>\n",
              "      <td>financi</td>\n",
              "      <td>...</td>\n",
              "      <td>None</td>\n",
              "      <td>None</td>\n",
              "      <td>None</td>\n",
              "      <td>None</td>\n",
              "      <td>None</td>\n",
              "      <td>None</td>\n",
              "      <td>None</td>\n",
              "      <td>None</td>\n",
              "      <td>None</td>\n",
              "      <td>None</td>\n",
              "    </tr>\n",
              "    <tr>\n",
              "      <th>1</th>\n",
              "      <td>fight</td>\n",
              "      <td>risk</td>\n",
              "      <td>cancer</td>\n",
              "      <td>http</td>\n",
              "      <td>slim</td>\n",
              "      <td>guarante</td>\n",
              "      <td>lose</td>\n",
              "      <td>lb</td>\n",
              "      <td>day</td>\n",
              "      <td>http</td>\n",
              "      <td>...</td>\n",
              "      <td>None</td>\n",
              "      <td>None</td>\n",
              "      <td>None</td>\n",
              "      <td>None</td>\n",
              "      <td>None</td>\n",
              "      <td>None</td>\n",
              "      <td>None</td>\n",
              "      <td>None</td>\n",
              "      <td>None</td>\n",
              "      <td>None</td>\n",
              "    </tr>\n",
              "    <tr>\n",
              "      <th>2</th>\n",
              "      <td>fight</td>\n",
              "      <td>risk</td>\n",
              "      <td>cancer</td>\n",
              "      <td>http</td>\n",
              "      <td>slim</td>\n",
              "      <td>guarante</td>\n",
              "      <td>lose</td>\n",
              "      <td>lb</td>\n",
              "      <td>day</td>\n",
              "      <td>http</td>\n",
              "      <td>...</td>\n",
              "      <td>None</td>\n",
              "      <td>None</td>\n",
              "      <td>None</td>\n",
              "      <td>None</td>\n",
              "      <td>None</td>\n",
              "      <td>None</td>\n",
              "      <td>None</td>\n",
              "      <td>None</td>\n",
              "      <td>None</td>\n",
              "      <td>None</td>\n",
              "    </tr>\n",
              "    <tr>\n",
              "      <th>3</th>\n",
              "      <td>adult</td>\n",
              "      <td>club</td>\n",
              "      <td>offer</td>\n",
              "      <td>free</td>\n",
              "      <td>membership</td>\n",
              "      <td>instant</td>\n",
              "      <td>access</td>\n",
              "      <td>site</td>\n",
              "      <td>user</td>\n",
              "      <td>name</td>\n",
              "      <td>...</td>\n",
              "      <td>None</td>\n",
              "      <td>None</td>\n",
              "      <td>None</td>\n",
              "      <td>None</td>\n",
              "      <td>None</td>\n",
              "      <td>None</td>\n",
              "      <td>None</td>\n",
              "      <td>None</td>\n",
              "      <td>None</td>\n",
              "      <td>None</td>\n",
              "    </tr>\n",
              "    <tr>\n",
              "      <th>4</th>\n",
              "      <td>thought</td>\n",
              "      <td>might</td>\n",
              "      <td>like</td>\n",
              "      <td>slim</td>\n",
              "      <td>guarante</td>\n",
              "      <td>lose</td>\n",
              "      <td>lb</td>\n",
              "      <td>day</td>\n",
              "      <td>http</td>\n",
              "      <td>fight</td>\n",
              "      <td>...</td>\n",
              "      <td>None</td>\n",
              "      <td>None</td>\n",
              "      <td>None</td>\n",
              "      <td>None</td>\n",
              "      <td>None</td>\n",
              "      <td>None</td>\n",
              "      <td>None</td>\n",
              "      <td>None</td>\n",
              "      <td>None</td>\n",
              "      <td>None</td>\n",
              "    </tr>\n",
              "  </tbody>\n",
              "</table>\n",
              "<p>5 rows × 7671 columns</p>\n",
              "</div>"
            ],
            "text/plain": [
              "      0      1       2      3           4         5       6     7       8     \\\n",
              "0     save   life   insur  spend        life      quot    save     g  famili   \n",
              "1    fight   risk  cancer   http        slim  guarante    lose    lb     day   \n",
              "2    fight   risk  cancer   http        slim  guarante    lose    lb     day   \n",
              "3    adult   club   offer   free  membership   instant  access  site    user   \n",
              "4  thought  might    like   slim    guarante      lose      lb   day    http   \n",
              "\n",
              "      9     ...  7661  7662  7663  7664  7665  7666  7667  7668  7669  7670  \n",
              "0  financi  ...  None  None  None  None  None  None  None  None  None  None  \n",
              "1     http  ...  None  None  None  None  None  None  None  None  None  None  \n",
              "2     http  ...  None  None  None  None  None  None  None  None  None  None  \n",
              "3     name  ...  None  None  None  None  None  None  None  None  None  None  \n",
              "4    fight  ...  None  None  None  None  None  None  None  None  None  None  \n",
              "\n",
              "[5 rows x 7671 columns]"
            ]
          },
          "execution_count": 50,
          "metadata": {},
          "output_type": "execute_result"
        }
      ],
      "source": [
        "word_columns_df = pd.DataFrame.from_records(nested_list.tolist())\n",
        "word_columns_df.head()"
      ]
    },
    {
      "cell_type": "code",
      "execution_count": null,
      "metadata": {
        "id": "zqlScu1htKMA",
        "outputId": "25744999-d242-4033-afb7-87bb4b535353"
      },
      "outputs": [
        {
          "data": {
            "text/plain": [
              "(5796, 7671)"
            ]
          },
          "execution_count": 51,
          "metadata": {},
          "output_type": "execute_result"
        }
      ],
      "source": [
        "word_columns_df.shape"
      ]
    },
    {
      "cell_type": "markdown",
      "metadata": {
        "id": "RtV-Ehj1tKMA"
      },
      "source": [
        "**Note:** The shape of the above dataframe is (5796, 7671) because the dataframe consists of 5796 rows for the 5796 emails, and 7671 is the maximum number of unique stemmed words in any of the emails of our dataset as we discovered in the previous section."
      ]
    },
    {
      "cell_type": "markdown",
      "metadata": {
        "id": "VNX7kqcWtKMA"
      },
      "source": [
        "## Splitting training and testing data"
      ]
    },
    {
      "cell_type": "code",
      "execution_count": null,
      "metadata": {
        "id": "iRfwlZaItKMB"
      },
      "outputs": [],
      "source": [
        "X_train, X_test, y_train, y_test = train_test_split(word_columns_df, data.Category, test_size = 0.3, random_state = 42)"
      ]
    },
    {
      "cell_type": "code",
      "execution_count": null,
      "metadata": {
        "id": "zGhmAEJAtKMB",
        "outputId": "9af3fdef-64c1-4bab-d51e-8d2377631f1c"
      },
      "outputs": [
        {
          "data": {
            "text/plain": [
              "(4057, 7671)"
            ]
          },
          "execution_count": 53,
          "metadata": {},
          "output_type": "execute_result"
        }
      ],
      "source": [
        "X_train.shape"
      ]
    },
    {
      "cell_type": "code",
      "execution_count": null,
      "metadata": {
        "id": "2EeIXXZItKMC",
        "outputId": "4785561a-4a2a-405f-8b61-fedaf66f4361"
      },
      "outputs": [
        {
          "data": {
            "text/html": [
              "<div>\n",
              "<style scoped>\n",
              "    .dataframe tbody tr th:only-of-type {\n",
              "        vertical-align: middle;\n",
              "    }\n",
              "\n",
              "    .dataframe tbody tr th {\n",
              "        vertical-align: top;\n",
              "    }\n",
              "\n",
              "    .dataframe thead th {\n",
              "        text-align: right;\n",
              "    }\n",
              "</style>\n",
              "<table border=\"1\" class=\"dataframe\">\n",
              "  <thead>\n",
              "    <tr style=\"text-align: right;\">\n",
              "      <th></th>\n",
              "      <th>0</th>\n",
              "      <th>1</th>\n",
              "      <th>2</th>\n",
              "      <th>3</th>\n",
              "      <th>4</th>\n",
              "      <th>5</th>\n",
              "      <th>6</th>\n",
              "      <th>7</th>\n",
              "      <th>8</th>\n",
              "      <th>9</th>\n",
              "      <th>...</th>\n",
              "      <th>7661</th>\n",
              "      <th>7662</th>\n",
              "      <th>7663</th>\n",
              "      <th>7664</th>\n",
              "      <th>7665</th>\n",
              "      <th>7666</th>\n",
              "      <th>7667</th>\n",
              "      <th>7668</th>\n",
              "      <th>7669</th>\n",
              "      <th>7670</th>\n",
              "    </tr>\n",
              "    <tr>\n",
              "      <th>DOC_ID</th>\n",
              "      <th></th>\n",
              "      <th></th>\n",
              "      <th></th>\n",
              "      <th></th>\n",
              "      <th></th>\n",
              "      <th></th>\n",
              "      <th></th>\n",
              "      <th></th>\n",
              "      <th></th>\n",
              "      <th></th>\n",
              "      <th></th>\n",
              "      <th></th>\n",
              "      <th></th>\n",
              "      <th></th>\n",
              "      <th></th>\n",
              "      <th></th>\n",
              "      <th></th>\n",
              "      <th></th>\n",
              "      <th></th>\n",
              "      <th></th>\n",
              "      <th></th>\n",
              "    </tr>\n",
              "  </thead>\n",
              "  <tbody>\n",
              "    <tr>\n",
              "      <th>4844</th>\n",
              "      <td>ye</td>\n",
              "      <td>inde</td>\n",
              "      <td>agent</td>\n",
              "      <td>directori</td>\n",
              "      <td>verita</td>\n",
              "      <td>cd</td>\n",
              "      <td>unix</td>\n",
              "      <td>subdirectori</td>\n",
              "      <td>file</td>\n",
              "      <td>call</td>\n",
              "      <td>...</td>\n",
              "      <td>None</td>\n",
              "      <td>None</td>\n",
              "      <td>None</td>\n",
              "      <td>None</td>\n",
              "      <td>None</td>\n",
              "      <td>None</td>\n",
              "      <td>None</td>\n",
              "      <td>None</td>\n",
              "      <td>None</td>\n",
              "      <td>None</td>\n",
              "    </tr>\n",
              "    <tr>\n",
              "      <th>4727</th>\n",
              "      <td>problem</td>\n",
              "      <td>come</td>\n",
              "      <td>tri</td>\n",
              "      <td>instal</td>\n",
              "      <td>harddissssk</td>\n",
              "      <td>like</td>\n",
              "      <td>alreadi</td>\n",
              "      <td>mount</td>\n",
              "      <td>http</td>\n",
              "      <td>yahoo</td>\n",
              "      <td>...</td>\n",
              "      <td>None</td>\n",
              "      <td>None</td>\n",
              "      <td>None</td>\n",
              "      <td>None</td>\n",
              "      <td>None</td>\n",
              "      <td>None</td>\n",
              "      <td>None</td>\n",
              "      <td>None</td>\n",
              "      <td>None</td>\n",
              "      <td>None</td>\n",
              "    </tr>\n",
              "    <tr>\n",
              "      <th>5022</th>\n",
              "      <td>origin</td>\n",
              "      <td>messag</td>\n",
              "      <td>date</td>\n",
              "      <td>mon</td>\n",
              "      <td>aug</td>\n",
              "      <td>chad</td>\n",
              "      <td>norwood</td>\n",
              "      <td>sven</td>\n",
              "      <td>cc</td>\n",
              "      <td>subject</td>\n",
              "      <td>...</td>\n",
              "      <td>None</td>\n",
              "      <td>None</td>\n",
              "      <td>None</td>\n",
              "      <td>None</td>\n",
              "      <td>None</td>\n",
              "      <td>None</td>\n",
              "      <td>None</td>\n",
              "      <td>None</td>\n",
              "      <td>None</td>\n",
              "      <td>None</td>\n",
              "    </tr>\n",
              "    <tr>\n",
              "      <th>3504</th>\n",
              "      <td>inlin</td>\n",
              "      <td>folk</td>\n",
              "      <td>sever</td>\n",
              "      <td>major</td>\n",
              "      <td>internet</td>\n",
              "      <td>outag</td>\n",
              "      <td>morn</td>\n",
              "      <td>across</td>\n",
              "      <td>major</td>\n",
              "      <td>provid</td>\n",
              "      <td>...</td>\n",
              "      <td>None</td>\n",
              "      <td>None</td>\n",
              "      <td>None</td>\n",
              "      <td>None</td>\n",
              "      <td>None</td>\n",
              "      <td>None</td>\n",
              "      <td>None</td>\n",
              "      <td>None</td>\n",
              "      <td>None</td>\n",
              "      <td>None</td>\n",
              "    </tr>\n",
              "    <tr>\n",
              "      <th>3921</th>\n",
              "      <td>url</td>\n",
              "      <td>http</td>\n",
              "      <td>date</td>\n",
              "      <td>bath</td>\n",
              "      <td>chronicl</td>\n",
              "      <td>None</td>\n",
              "      <td>None</td>\n",
              "      <td>None</td>\n",
              "      <td>None</td>\n",
              "      <td>None</td>\n",
              "      <td>...</td>\n",
              "      <td>None</td>\n",
              "      <td>None</td>\n",
              "      <td>None</td>\n",
              "      <td>None</td>\n",
              "      <td>None</td>\n",
              "      <td>None</td>\n",
              "      <td>None</td>\n",
              "      <td>None</td>\n",
              "      <td>None</td>\n",
              "      <td>None</td>\n",
              "    </tr>\n",
              "  </tbody>\n",
              "</table>\n",
              "<p>5 rows × 7671 columns</p>\n",
              "</div>"
            ],
            "text/plain": [
              "           0       1      2          3            4      5        6     \\\n",
              "DOC_ID                                                                   \n",
              "4844         ye    inde  agent  directori       verita     cd     unix   \n",
              "4727    problem    come    tri     instal  harddissssk   like  alreadi   \n",
              "5022     origin  messag   date        mon          aug   chad  norwood   \n",
              "3504      inlin    folk  sever      major     internet  outag     morn   \n",
              "3921        url    http   date       bath     chronicl   None     None   \n",
              "\n",
              "                7      8        9     ...  7661  7662  7663  7664  7665  7666  \\\n",
              "DOC_ID                                ...                                       \n",
              "4844    subdirectori   file     call  ...  None  None  None  None  None  None   \n",
              "4727           mount   http    yahoo  ...  None  None  None  None  None  None   \n",
              "5022            sven     cc  subject  ...  None  None  None  None  None  None   \n",
              "3504          across  major   provid  ...  None  None  None  None  None  None   \n",
              "3921            None   None     None  ...  None  None  None  None  None  None   \n",
              "\n",
              "        7667  7668  7669  7670  \n",
              "DOC_ID                          \n",
              "4844    None  None  None  None  \n",
              "4727    None  None  None  None  \n",
              "5022    None  None  None  None  \n",
              "3504    None  None  None  None  \n",
              "3921    None  None  None  None  \n",
              "\n",
              "[5 rows x 7671 columns]"
            ]
          },
          "execution_count": 54,
          "metadata": {},
          "output_type": "execute_result"
        }
      ],
      "source": [
        "X_train.index.name = X_test.index.name = 'DOC_ID'\n",
        "X_train.head()"
      ]
    },
    {
      "cell_type": "code",
      "execution_count": null,
      "metadata": {
        "id": "kVzDeODAtKMC",
        "outputId": "23269240-530f-4b1b-d97a-7635977e322a"
      },
      "outputs": [
        {
          "data": {
            "text/plain": [
              "DOC_ID\n",
              "4844    0\n",
              "4727    0\n",
              "5022    0\n",
              "3504    0\n",
              "3921    0\n",
              "Name: Category, dtype: int64"
            ]
          },
          "execution_count": 55,
          "metadata": {},
          "output_type": "execute_result"
        }
      ],
      "source": [
        "y_train.head()"
      ]
    },
    {
      "cell_type": "markdown",
      "metadata": {
        "id": "9pP9s5pVtKMD"
      },
      "source": [
        "## Creating a Sparse Matrix for the training data\n",
        "\n",
        "Creating an 'index' datatype of all the words in the 'vocab' dataframe so we can use the get_loc function to directly access the position of the word in the vocab df.\n",
        "\n",
        "**Sparse Matrix:** My sparse matrix will contain a single entry for all the occurences of a frequent word (top 2500 most occuring words across all emails in this case) in every email. It will have the columns\n",
        "- DOC_ID representing a unique id for every single email\n",
        "- WORD_ID representing a unique id for every frequent word\n",
        "- OCCURENCES representing the total number of times a frequent word occured in an email\n",
        "- LABEL representing whether the email is spam or legit\n",
        "\n",
        "In simple terms, we can say that the combination of the WORD_ID and the DOC_ID can act as a key for the resultant matrix. \n",
        "\n",
        "Our matrix will be sparse, implying that it will not include an entry for a frequent word and an email, such that the frequent word did not occur even once in that email.\n"
      ]
    },
    {
      "cell_type": "code",
      "execution_count": null,
      "metadata": {
        "id": "XUTTL0JItKMD"
      },
      "outputs": [],
      "source": [
        "word_index = pd.Index(vocab.VOCAB_WORDS)"
      ]
    },
    {
      "cell_type": "code",
      "execution_count": null,
      "metadata": {
        "id": "cZ1lgIwEtKMD",
        "outputId": "abe18432-0a08-4ca6-fae1-e7cef79b6307"
      },
      "outputs": [
        {
          "data": {
            "text/plain": [
              "393"
            ]
          },
          "execution_count": 61,
          "metadata": {},
          "output_type": "execute_result"
        }
      ],
      "source": [
        "word_index.get_loc('thu')"
      ]
    },
    {
      "cell_type": "code",
      "execution_count": null,
      "metadata": {
        "id": "CJgnrVyDtKME"
      },
      "outputs": [],
      "source": [
        "def make_sparse_matrix(df, indexed_words, labels):\n",
        "\n",
        "    nr_rows = df.shape[0]             # number of documents\n",
        "    nr_cols = df.shape[1]             # maximum number of stemmed words in an email\n",
        "    word_set = set(indexed_words)     # using sets for membership checking\n",
        "    dict_list = []\n",
        "    \n",
        "    for i in range(nr_rows):\n",
        "        for j in range(nr_cols):\n",
        "            \n",
        "            word = df.iat[i, j]\n",
        "            if word in word_set:\n",
        "                doc_id = df.index[i]\n",
        "                word_id = indexed_words.get_loc(word)\n",
        "                category = labels.at[doc_id]\n",
        "                \n",
        "                item = {'LABEL': category, 'DOC_ID': doc_id, 'OCCURENCE': 1, 'WORD_ID': word_id}\n",
        "                \n",
        "                dict_list.append(item)\n",
        "    \n",
        "    return pd.DataFrame(dict_list)"
      ]
    },
    {
      "cell_type": "code",
      "execution_count": null,
      "metadata": {
        "id": "4OZX1MTvtKME",
        "outputId": "982895ed-aa3c-4e28-eb26-5b365a870f5f"
      },
      "outputs": [
        {
          "name": "stdout",
          "output_type": "stream",
          "text": [
            "Wall time: 34min 44s\n"
          ]
        }
      ],
      "source": [
        "%%time \n",
        "sparse_train_df = make_sparse_matrix(X_train, word_index, y_train)"
      ]
    },
    {
      "cell_type": "code",
      "execution_count": null,
      "metadata": {
        "id": "8XODzUeltKMF",
        "outputId": "485fa942-e850-425c-88f8-527ad15af6f0"
      },
      "outputs": [
        {
          "data": {
            "text/plain": [
              "(429246, 4)"
            ]
          },
          "execution_count": 64,
          "metadata": {},
          "output_type": "execute_result"
        }
      ],
      "source": [
        "sparse_train_df.shape"
      ]
    },
    {
      "cell_type": "code",
      "execution_count": null,
      "metadata": {
        "id": "HRGhn1F3tKMF",
        "outputId": "73fb6a03-15d3-48cc-a475-8fa2ca0e7adc"
      },
      "outputs": [
        {
          "data": {
            "text/html": [
              "<div>\n",
              "<style scoped>\n",
              "    .dataframe tbody tr th:only-of-type {\n",
              "        vertical-align: middle;\n",
              "    }\n",
              "\n",
              "    .dataframe tbody tr th {\n",
              "        vertical-align: top;\n",
              "    }\n",
              "\n",
              "    .dataframe thead th {\n",
              "        text-align: right;\n",
              "    }\n",
              "</style>\n",
              "<table border=\"1\" class=\"dataframe\">\n",
              "  <thead>\n",
              "    <tr style=\"text-align: right;\">\n",
              "      <th></th>\n",
              "      <th>LABEL</th>\n",
              "      <th>DOC_ID</th>\n",
              "      <th>OCCURENCE</th>\n",
              "      <th>WORD_ID</th>\n",
              "    </tr>\n",
              "  </thead>\n",
              "  <tbody>\n",
              "    <tr>\n",
              "      <th>0</th>\n",
              "      <td>0</td>\n",
              "      <td>4844</td>\n",
              "      <td>1</td>\n",
              "      <td>265</td>\n",
              "    </tr>\n",
              "    <tr>\n",
              "      <th>1</th>\n",
              "      <td>0</td>\n",
              "      <td>4844</td>\n",
              "      <td>1</td>\n",
              "      <td>1237</td>\n",
              "    </tr>\n",
              "    <tr>\n",
              "      <th>2</th>\n",
              "      <td>0</td>\n",
              "      <td>4844</td>\n",
              "      <td>1</td>\n",
              "      <td>503</td>\n",
              "    </tr>\n",
              "    <tr>\n",
              "      <th>3</th>\n",
              "      <td>0</td>\n",
              "      <td>4844</td>\n",
              "      <td>1</td>\n",
              "      <td>308</td>\n",
              "    </tr>\n",
              "    <tr>\n",
              "      <th>4</th>\n",
              "      <td>0</td>\n",
              "      <td>4844</td>\n",
              "      <td>1</td>\n",
              "      <td>254</td>\n",
              "    </tr>\n",
              "  </tbody>\n",
              "</table>\n",
              "</div>"
            ],
            "text/plain": [
              "   LABEL  DOC_ID  OCCURENCE  WORD_ID\n",
              "0      0    4844          1      265\n",
              "1      0    4844          1     1237\n",
              "2      0    4844          1      503\n",
              "3      0    4844          1      308\n",
              "4      0    4844          1      254"
            ]
          },
          "execution_count": 66,
          "metadata": {},
          "output_type": "execute_result"
        }
      ],
      "source": [
        "sparse_train_df[:5]"
      ]
    },
    {
      "cell_type": "code",
      "execution_count": null,
      "metadata": {
        "id": "HcI9FSKBtKMG",
        "outputId": "75cd8d73-8061-49aa-b9c7-a3e0ba85fd72"
      },
      "outputs": [
        {
          "data": {
            "text/html": [
              "<div>\n",
              "<style scoped>\n",
              "    .dataframe tbody tr th:only-of-type {\n",
              "        vertical-align: middle;\n",
              "    }\n",
              "\n",
              "    .dataframe tbody tr th {\n",
              "        vertical-align: top;\n",
              "    }\n",
              "\n",
              "    .dataframe thead th {\n",
              "        text-align: right;\n",
              "    }\n",
              "</style>\n",
              "<table border=\"1\" class=\"dataframe\">\n",
              "  <thead>\n",
              "    <tr style=\"text-align: right;\">\n",
              "      <th></th>\n",
              "      <th>LABEL</th>\n",
              "      <th>DOC_ID</th>\n",
              "      <th>OCCURENCE</th>\n",
              "      <th>WORD_ID</th>\n",
              "    </tr>\n",
              "  </thead>\n",
              "  <tbody>\n",
              "    <tr>\n",
              "      <th>429241</th>\n",
              "      <td>1</td>\n",
              "      <td>860</td>\n",
              "      <td>1</td>\n",
              "      <td>47</td>\n",
              "    </tr>\n",
              "    <tr>\n",
              "      <th>429242</th>\n",
              "      <td>1</td>\n",
              "      <td>860</td>\n",
              "      <td>1</td>\n",
              "      <td>1431</td>\n",
              "    </tr>\n",
              "    <tr>\n",
              "      <th>429243</th>\n",
              "      <td>1</td>\n",
              "      <td>860</td>\n",
              "      <td>1</td>\n",
              "      <td>26</td>\n",
              "    </tr>\n",
              "    <tr>\n",
              "      <th>429244</th>\n",
              "      <td>1</td>\n",
              "      <td>860</td>\n",
              "      <td>1</td>\n",
              "      <td>21</td>\n",
              "    </tr>\n",
              "    <tr>\n",
              "      <th>429245</th>\n",
              "      <td>1</td>\n",
              "      <td>860</td>\n",
              "      <td>1</td>\n",
              "      <td>126</td>\n",
              "    </tr>\n",
              "  </tbody>\n",
              "</table>\n",
              "</div>"
            ],
            "text/plain": [
              "        LABEL  DOC_ID  OCCURENCE  WORD_ID\n",
              "429241      1     860          1       47\n",
              "429242      1     860          1     1431\n",
              "429243      1     860          1       26\n",
              "429244      1     860          1       21\n",
              "429245      1     860          1      126"
            ]
          },
          "execution_count": 68,
          "metadata": {},
          "output_type": "execute_result"
        }
      ],
      "source": [
        "sparse_train_df[-5:]"
      ]
    },
    {
      "cell_type": "code",
      "execution_count": null,
      "metadata": {
        "id": "AWvSTupetKMG"
      },
      "outputs": [],
      "source": [
        "train_grouped = sparse_train_df.groupby(['DOC_ID', 'WORD_ID', 'LABEL']).sum()"
      ]
    },
    {
      "cell_type": "code",
      "execution_count": null,
      "metadata": {
        "id": "yemdQOEttKMH",
        "outputId": "a2dc5096-8914-4d76-f925-37b6372d6b2c"
      },
      "outputs": [
        {
          "data": {
            "text/html": [
              "<div>\n",
              "<style scoped>\n",
              "    .dataframe tbody tr th:only-of-type {\n",
              "        vertical-align: middle;\n",
              "    }\n",
              "\n",
              "    .dataframe tbody tr th {\n",
              "        vertical-align: top;\n",
              "    }\n",
              "\n",
              "    .dataframe thead th {\n",
              "        text-align: right;\n",
              "    }\n",
              "</style>\n",
              "<table border=\"1\" class=\"dataframe\">\n",
              "  <thead>\n",
              "    <tr style=\"text-align: right;\">\n",
              "      <th></th>\n",
              "      <th></th>\n",
              "      <th></th>\n",
              "      <th>OCCURENCE</th>\n",
              "    </tr>\n",
              "    <tr>\n",
              "      <th>DOC_ID</th>\n",
              "      <th>WORD_ID</th>\n",
              "      <th>LABEL</th>\n",
              "      <th></th>\n",
              "    </tr>\n",
              "  </thead>\n",
              "  <tbody>\n",
              "    <tr>\n",
              "      <th rowspan=\"5\" valign=\"top\">0</th>\n",
              "      <th>2</th>\n",
              "      <th>1</th>\n",
              "      <td>1</td>\n",
              "    </tr>\n",
              "    <tr>\n",
              "      <th>3</th>\n",
              "      <th>1</th>\n",
              "      <td>2</td>\n",
              "    </tr>\n",
              "    <tr>\n",
              "      <th>4</th>\n",
              "      <th>1</th>\n",
              "      <td>1</td>\n",
              "    </tr>\n",
              "    <tr>\n",
              "      <th>7</th>\n",
              "      <th>1</th>\n",
              "      <td>3</td>\n",
              "    </tr>\n",
              "    <tr>\n",
              "      <th>11</th>\n",
              "      <th>1</th>\n",
              "      <td>1</td>\n",
              "    </tr>\n",
              "  </tbody>\n",
              "</table>\n",
              "</div>"
            ],
            "text/plain": [
              "                      OCCURENCE\n",
              "DOC_ID WORD_ID LABEL           \n",
              "0      2       1              1\n",
              "       3       1              2\n",
              "       4       1              1\n",
              "       7       1              3\n",
              "       11      1              1"
            ]
          },
          "execution_count": 70,
          "metadata": {},
          "output_type": "execute_result"
        }
      ],
      "source": [
        "train_grouped.head()"
      ]
    },
    {
      "cell_type": "code",
      "execution_count": null,
      "metadata": {
        "id": "ocJ1dL8ptKMH",
        "outputId": "581f3cac-c61e-47d4-a3e0-9b925a6b2727"
      },
      "outputs": [
        {
          "data": {
            "text/html": [
              "<div>\n",
              "<style scoped>\n",
              "    .dataframe tbody tr th:only-of-type {\n",
              "        vertical-align: middle;\n",
              "    }\n",
              "\n",
              "    .dataframe tbody tr th {\n",
              "        vertical-align: top;\n",
              "    }\n",
              "\n",
              "    .dataframe thead th {\n",
              "        text-align: right;\n",
              "    }\n",
              "</style>\n",
              "<table border=\"1\" class=\"dataframe\">\n",
              "  <thead>\n",
              "    <tr style=\"text-align: right;\">\n",
              "      <th></th>\n",
              "      <th>DOC_ID</th>\n",
              "      <th>WORD_ID</th>\n",
              "      <th>LABEL</th>\n",
              "      <th>OCCURENCE</th>\n",
              "    </tr>\n",
              "  </thead>\n",
              "  <tbody>\n",
              "    <tr>\n",
              "      <th>0</th>\n",
              "      <td>0</td>\n",
              "      <td>2</td>\n",
              "      <td>1</td>\n",
              "      <td>1</td>\n",
              "    </tr>\n",
              "    <tr>\n",
              "      <th>1</th>\n",
              "      <td>0</td>\n",
              "      <td>3</td>\n",
              "      <td>1</td>\n",
              "      <td>2</td>\n",
              "    </tr>\n",
              "    <tr>\n",
              "      <th>2</th>\n",
              "      <td>0</td>\n",
              "      <td>4</td>\n",
              "      <td>1</td>\n",
              "      <td>1</td>\n",
              "    </tr>\n",
              "    <tr>\n",
              "      <th>3</th>\n",
              "      <td>0</td>\n",
              "      <td>7</td>\n",
              "      <td>1</td>\n",
              "      <td>3</td>\n",
              "    </tr>\n",
              "    <tr>\n",
              "      <th>4</th>\n",
              "      <td>0</td>\n",
              "      <td>11</td>\n",
              "      <td>1</td>\n",
              "      <td>1</td>\n",
              "    </tr>\n",
              "  </tbody>\n",
              "</table>\n",
              "</div>"
            ],
            "text/plain": [
              "   DOC_ID  WORD_ID  LABEL  OCCURENCE\n",
              "0       0        2      1          1\n",
              "1       0        3      1          2\n",
              "2       0        4      1          1\n",
              "3       0        7      1          3\n",
              "4       0       11      1          1"
            ]
          },
          "execution_count": 72,
          "metadata": {},
          "output_type": "execute_result"
        }
      ],
      "source": [
        "train_grouped = train_grouped.reset_index()\n",
        "train_grouped.head()"
      ]
    },
    {
      "cell_type": "markdown",
      "metadata": {
        "id": "7BYqMQn7tKMI"
      },
      "source": [
        "Below we verify that the word with id = 7, occurs exactly 3 times in the email with DOC_ID = 0"
      ]
    },
    {
      "cell_type": "code",
      "execution_count": null,
      "metadata": {
        "id": "y6YZ35pEtKMI",
        "outputId": "0988465e-c263-42a2-8264-736774c477a6"
      },
      "outputs": [
        {
          "data": {
            "text/plain": [
              "'free'"
            ]
          },
          "execution_count": 84,
          "metadata": {},
          "output_type": "execute_result"
        }
      ],
      "source": [
        "vocab.iat[7, 0]"
      ]
    },
    {
      "cell_type": "code",
      "execution_count": null,
      "metadata": {
        "id": "XAByFlXhtKMI",
        "outputId": "42b37156-26de-4c9a-f08a-48bb2031265a"
      },
      "outputs": [
        {
          "name": "stdout",
          "output_type": "stream",
          "text": [
            "3\n"
          ]
        }
      ],
      "source": [
        "vv = clean_msg(data.Message[0])\n",
        "count = 0\n",
        "for word in vv:\n",
        "    if word == 'free':\n",
        "        count += 1\n",
        "print(count)"
      ]
    },
    {
      "cell_type": "code",
      "execution_count": null,
      "metadata": {
        "id": "jQTMiU3mtKMJ",
        "outputId": "55addb01-e5c6-4ede-e3ef-55824ea13158"
      },
      "outputs": [
        {
          "data": {
            "text/plain": [
              "(258371, 4)"
            ]
          },
          "execution_count": 85,
          "metadata": {},
          "output_type": "execute_result"
        }
      ],
      "source": [
        "train_grouped.shape"
      ]
    },
    {
      "cell_type": "markdown",
      "metadata": {
        "id": "OeY30izhtKMJ"
      },
      "source": [
        "As evident above, by grouping up the many occurences of the same stemmed word in the same email, we significantly reduce the size of the sparse matrix."
      ]
    },
    {
      "cell_type": "markdown",
      "metadata": {
        "id": "W67kGeUBtKMK"
      },
      "source": [
        "## Saving the training data as a file"
      ]
    },
    {
      "cell_type": "code",
      "execution_count": null,
      "metadata": {
        "id": "qBkkWjoEtKMK"
      },
      "outputs": [],
      "source": [
        "np.savetxt(TRAINING_DATA_FILE, train_grouped, fmt = '%d') #fmt stands for format (of numbers)"
      ]
    },
    {
      "cell_type": "code",
      "execution_count": null,
      "metadata": {
        "id": "EHL6vVw2tKML"
      },
      "outputs": [],
      "source": [
        "train_grouped.to_csv(TRAINING_DATA_FILE_CSV, index_label = train_grouped.index.name, header = train_grouped.columns)"
      ]
    },
    {
      "cell_type": "markdown",
      "metadata": {
        "id": "qBjf_zoBtKML"
      },
      "source": [
        "## Creating and saving a sparse matrix for the test data"
      ]
    },
    {
      "cell_type": "code",
      "execution_count": null,
      "metadata": {
        "id": "5jVNfipDtKMM",
        "outputId": "8719a4d1-8845-44ed-a40a-a3b97b0f753b"
      },
      "outputs": [
        {
          "data": {
            "text/plain": [
              "(1739, 7671)"
            ]
          },
          "execution_count": 94,
          "metadata": {},
          "output_type": "execute_result"
        }
      ],
      "source": [
        "X_test.shape"
      ]
    },
    {
      "cell_type": "code",
      "execution_count": null,
      "metadata": {
        "id": "rr08PqVNtKMM",
        "outputId": "0d41bc24-e9e8-499c-c9f2-99a074798b4e"
      },
      "outputs": [
        {
          "data": {
            "text/html": [
              "<div>\n",
              "<style scoped>\n",
              "    .dataframe tbody tr th:only-of-type {\n",
              "        vertical-align: middle;\n",
              "    }\n",
              "\n",
              "    .dataframe tbody tr th {\n",
              "        vertical-align: top;\n",
              "    }\n",
              "\n",
              "    .dataframe thead th {\n",
              "        text-align: right;\n",
              "    }\n",
              "</style>\n",
              "<table border=\"1\" class=\"dataframe\">\n",
              "  <thead>\n",
              "    <tr style=\"text-align: right;\">\n",
              "      <th></th>\n",
              "      <th>0</th>\n",
              "      <th>1</th>\n",
              "      <th>2</th>\n",
              "      <th>3</th>\n",
              "      <th>4</th>\n",
              "      <th>5</th>\n",
              "      <th>6</th>\n",
              "      <th>7</th>\n",
              "      <th>8</th>\n",
              "      <th>9</th>\n",
              "      <th>...</th>\n",
              "      <th>7661</th>\n",
              "      <th>7662</th>\n",
              "      <th>7663</th>\n",
              "      <th>7664</th>\n",
              "      <th>7665</th>\n",
              "      <th>7666</th>\n",
              "      <th>7667</th>\n",
              "      <th>7668</th>\n",
              "      <th>7669</th>\n",
              "      <th>7670</th>\n",
              "    </tr>\n",
              "    <tr>\n",
              "      <th>DOC_ID</th>\n",
              "      <th></th>\n",
              "      <th></th>\n",
              "      <th></th>\n",
              "      <th></th>\n",
              "      <th></th>\n",
              "      <th></th>\n",
              "      <th></th>\n",
              "      <th></th>\n",
              "      <th></th>\n",
              "      <th></th>\n",
              "      <th></th>\n",
              "      <th></th>\n",
              "      <th></th>\n",
              "      <th></th>\n",
              "      <th></th>\n",
              "      <th></th>\n",
              "      <th></th>\n",
              "      <th></th>\n",
              "      <th></th>\n",
              "      <th></th>\n",
              "      <th></th>\n",
              "    </tr>\n",
              "  </thead>\n",
              "  <tbody>\n",
              "    <tr>\n",
              "      <th>4675</th>\n",
              "      <td>interest</td>\n",
              "      <td>alway</td>\n",
              "      <td>wonder</td>\n",
              "      <td>thing</td>\n",
              "      <td>bad</td>\n",
              "      <td>exampl</td>\n",
              "      <td>goto</td>\n",
              "      <td>languag</td>\n",
              "      <td>support</td>\n",
              "      <td>goto</td>\n",
              "      <td>...</td>\n",
              "      <td>None</td>\n",
              "      <td>None</td>\n",
              "      <td>None</td>\n",
              "      <td>None</td>\n",
              "      <td>None</td>\n",
              "      <td>None</td>\n",
              "      <td>None</td>\n",
              "      <td>None</td>\n",
              "      <td>None</td>\n",
              "      <td>None</td>\n",
              "    </tr>\n",
              "    <tr>\n",
              "      <th>4220</th>\n",
              "      <td>url</td>\n",
              "      <td>http</td>\n",
              "      <td>date</td>\n",
              "      <td>final</td>\n",
              "      <td>gdc</td>\n",
              "      <td>europ</td>\n",
              "      <td>review</td>\n",
              "      <td>confernec</td>\n",
              "      <td>session</td>\n",
              "      <td>ect</td>\n",
              "      <td>...</td>\n",
              "      <td>None</td>\n",
              "      <td>None</td>\n",
              "      <td>None</td>\n",
              "      <td>None</td>\n",
              "      <td>None</td>\n",
              "      <td>None</td>\n",
              "      <td>None</td>\n",
              "      <td>None</td>\n",
              "      <td>None</td>\n",
              "      <td>None</td>\n",
              "    </tr>\n",
              "    <tr>\n",
              "      <th>2484</th>\n",
              "      <td>stephen</td>\n",
              "      <td>william</td>\n",
              "      <td>mailto</td>\n",
              "      <td>swilliam</td>\n",
              "      <td>weaken</td>\n",
              "      <td>food</td>\n",
              "      <td>transact</td>\n",
              "      <td>argument</td>\n",
              "      <td>note</td>\n",
              "      <td>neighborhood</td>\n",
              "      <td>...</td>\n",
              "      <td>None</td>\n",
              "      <td>None</td>\n",
              "      <td>None</td>\n",
              "      <td>None</td>\n",
              "      <td>None</td>\n",
              "      <td>None</td>\n",
              "      <td>None</td>\n",
              "      <td>None</td>\n",
              "      <td>None</td>\n",
              "      <td>None</td>\n",
              "    </tr>\n",
              "    <tr>\n",
              "      <th>2418</th>\n",
              "      <td>el</td>\n",
              "      <td>mon</td>\n",
              "      <td>sep</td>\n",
              "      <td>bitbitch</td>\n",
              "      <td>wrote</td>\n",
              "      <td>eugen</td>\n",
              "      <td>mani</td>\n",
              "      <td>homo</td>\n",
              "      <td>friend</td>\n",
              "      <td>lover</td>\n",
              "      <td>...</td>\n",
              "      <td>None</td>\n",
              "      <td>None</td>\n",
              "      <td>None</td>\n",
              "      <td>None</td>\n",
              "      <td>None</td>\n",
              "      <td>None</td>\n",
              "      <td>None</td>\n",
              "      <td>None</td>\n",
              "      <td>None</td>\n",
              "      <td>None</td>\n",
              "    </tr>\n",
              "    <tr>\n",
              "      <th>5110</th>\n",
              "      <td>music</td>\n",
              "      <td>school</td>\n",
              "      <td>joke</td>\n",
              "      <td>american</td>\n",
              "      <td>conductor</td>\n",
              "      <td>european</td>\n",
              "      <td>conductor</td>\n",
              "      <td>talk</td>\n",
              "      <td>european</td>\n",
              "      <td>conductor</td>\n",
              "      <td>...</td>\n",
              "      <td>None</td>\n",
              "      <td>None</td>\n",
              "      <td>None</td>\n",
              "      <td>None</td>\n",
              "      <td>None</td>\n",
              "      <td>None</td>\n",
              "      <td>None</td>\n",
              "      <td>None</td>\n",
              "      <td>None</td>\n",
              "      <td>None</td>\n",
              "    </tr>\n",
              "  </tbody>\n",
              "</table>\n",
              "<p>5 rows × 7671 columns</p>\n",
              "</div>"
            ],
            "text/plain": [
              "            0        1       2         3          4         5          6     \\\n",
              "DOC_ID                                                                        \n",
              "4675    interest    alway  wonder     thing        bad    exampl       goto   \n",
              "4220         url     http    date     final        gdc     europ     review   \n",
              "2484     stephen  william  mailto  swilliam     weaken      food   transact   \n",
              "2418          el      mon     sep  bitbitch      wrote     eugen       mani   \n",
              "5110       music   school    joke  american  conductor  european  conductor   \n",
              "\n",
              "             7         8             9     ...  7661  7662  7663  7664  7665  \\\n",
              "DOC_ID                                     ...                                 \n",
              "4675      languag   support          goto  ...  None  None  None  None  None   \n",
              "4220    confernec   session           ect  ...  None  None  None  None  None   \n",
              "2484     argument      note  neighborhood  ...  None  None  None  None  None   \n",
              "2418         homo    friend         lover  ...  None  None  None  None  None   \n",
              "5110         talk  european     conductor  ...  None  None  None  None  None   \n",
              "\n",
              "        7666  7667  7668  7669  7670  \n",
              "DOC_ID                                \n",
              "4675    None  None  None  None  None  \n",
              "4220    None  None  None  None  None  \n",
              "2484    None  None  None  None  None  \n",
              "2418    None  None  None  None  None  \n",
              "5110    None  None  None  None  None  \n",
              "\n",
              "[5 rows x 7671 columns]"
            ]
          },
          "execution_count": 95,
          "metadata": {},
          "output_type": "execute_result"
        }
      ],
      "source": [
        "X_test.head()"
      ]
    },
    {
      "cell_type": "code",
      "execution_count": null,
      "metadata": {
        "id": "1gAYABNgtKMN",
        "outputId": "95edcf7a-4919-4266-9582-c7829fac793d"
      },
      "outputs": [
        {
          "name": "stdout",
          "output_type": "stream",
          "text": [
            "Wall time: 4min 14s\n",
            "Parser   : 211 ms\n"
          ]
        }
      ],
      "source": [
        "%%time\n",
        "sparse_test_df = make_sparse_matrix(X_test, word_index, y_test)"
      ]
    },
    {
      "cell_type": "code",
      "execution_count": null,
      "metadata": {
        "id": "FPlzu9h2tKMN",
        "outputId": "1d931015-e13f-44f9-ca9f-efa30dfe79c5"
      },
      "outputs": [
        {
          "data": {
            "text/plain": [
              "(203377, 4)"
            ]
          },
          "execution_count": 101,
          "metadata": {},
          "output_type": "execute_result"
        }
      ],
      "source": [
        "sparse_test_df.shape"
      ]
    },
    {
      "cell_type": "code",
      "execution_count": null,
      "metadata": {
        "id": "S4dSqYHXtKMN"
      },
      "outputs": [],
      "source": [
        "test_grouped = sparse_test_df.groupby(['DOC_ID', 'WORD_ID', 'LABEL']).sum().reset_index()"
      ]
    },
    {
      "cell_type": "code",
      "execution_count": null,
      "metadata": {
        "id": "GhmA0oe3tKMO",
        "outputId": "2e7ebfbb-2e36-4f2c-d3c7-b0bfb3361ac5"
      },
      "outputs": [
        {
          "data": {
            "text/html": [
              "<div>\n",
              "<style scoped>\n",
              "    .dataframe tbody tr th:only-of-type {\n",
              "        vertical-align: middle;\n",
              "    }\n",
              "\n",
              "    .dataframe tbody tr th {\n",
              "        vertical-align: top;\n",
              "    }\n",
              "\n",
              "    .dataframe thead th {\n",
              "        text-align: right;\n",
              "    }\n",
              "</style>\n",
              "<table border=\"1\" class=\"dataframe\">\n",
              "  <thead>\n",
              "    <tr style=\"text-align: right;\">\n",
              "      <th></th>\n",
              "      <th>DOC_ID</th>\n",
              "      <th>WORD_ID</th>\n",
              "      <th>LABEL</th>\n",
              "      <th>OCCURENCE</th>\n",
              "    </tr>\n",
              "  </thead>\n",
              "  <tbody>\n",
              "    <tr>\n",
              "      <th>0</th>\n",
              "      <td>8</td>\n",
              "      <td>2</td>\n",
              "      <td>1</td>\n",
              "      <td>1</td>\n",
              "    </tr>\n",
              "    <tr>\n",
              "      <th>1</th>\n",
              "      <td>8</td>\n",
              "      <td>3</td>\n",
              "      <td>1</td>\n",
              "      <td>4</td>\n",
              "    </tr>\n",
              "    <tr>\n",
              "      <th>2</th>\n",
              "      <td>8</td>\n",
              "      <td>4</td>\n",
              "      <td>1</td>\n",
              "      <td>2</td>\n",
              "    </tr>\n",
              "    <tr>\n",
              "      <th>3</th>\n",
              "      <td>8</td>\n",
              "      <td>5</td>\n",
              "      <td>1</td>\n",
              "      <td>1</td>\n",
              "    </tr>\n",
              "    <tr>\n",
              "      <th>4</th>\n",
              "      <td>8</td>\n",
              "      <td>6</td>\n",
              "      <td>1</td>\n",
              "      <td>2</td>\n",
              "    </tr>\n",
              "  </tbody>\n",
              "</table>\n",
              "</div>"
            ],
            "text/plain": [
              "   DOC_ID  WORD_ID  LABEL  OCCURENCE\n",
              "0       8        2      1          1\n",
              "1       8        3      1          4\n",
              "2       8        4      1          2\n",
              "3       8        5      1          1\n",
              "4       8        6      1          2"
            ]
          },
          "execution_count": 104,
          "metadata": {},
          "output_type": "execute_result"
        }
      ],
      "source": [
        "test_grouped.head()"
      ]
    },
    {
      "cell_type": "code",
      "execution_count": null,
      "metadata": {
        "id": "oDRw2_YctKMO",
        "outputId": "26c36525-dd58-4d1f-943b-d957ea4a2542"
      },
      "outputs": [
        {
          "data": {
            "text/plain": [
              "(117782, 4)"
            ]
          },
          "execution_count": 99,
          "metadata": {},
          "output_type": "execute_result"
        }
      ],
      "source": [
        "test_grouped.shape"
      ]
    },
    {
      "cell_type": "code",
      "execution_count": null,
      "metadata": {
        "id": "O2ARDJY_tKMP"
      },
      "outputs": [],
      "source": [
        "np.savetxt(TEST_DATA_FILE, test_grouped, fmt = '%d')"
      ]
    },
    {
      "cell_type": "code",
      "execution_count": null,
      "metadata": {
        "id": "Igs_kqVDtKMQ"
      },
      "outputs": [],
      "source": [
        "test_grouped.to_csv(TEST_DATA_FILE_CSV, index_label = test_grouped.index.name, header = test_grouped.columns)"
      ]
    },
    {
      "cell_type": "markdown",
      "metadata": {
        "id": "5gHJ02EWtKMQ"
      },
      "source": [
        "## Getting back our dataset from the saved files"
      ]
    },
    {
      "cell_type": "code",
      "execution_count": null,
      "metadata": {
        "id": "Dbd31ps5tKMR",
        "outputId": "4e1fcb18-3833-4104-f7e8-4e2cb61df186"
      },
      "outputs": [
        {
          "data": {
            "text/html": [
              "<div>\n",
              "<style scoped>\n",
              "    .dataframe tbody tr th:only-of-type {\n",
              "        vertical-align: middle;\n",
              "    }\n",
              "\n",
              "    .dataframe tbody tr th {\n",
              "        vertical-align: top;\n",
              "    }\n",
              "\n",
              "    .dataframe thead th {\n",
              "        text-align: right;\n",
              "    }\n",
              "</style>\n",
              "<table border=\"1\" class=\"dataframe\">\n",
              "  <thead>\n",
              "    <tr style=\"text-align: right;\">\n",
              "      <th></th>\n",
              "      <th>DOC_ID</th>\n",
              "      <th>WORD_ID</th>\n",
              "      <th>LABEL</th>\n",
              "      <th>OCCURENCE</th>\n",
              "    </tr>\n",
              "  </thead>\n",
              "  <tbody>\n",
              "    <tr>\n",
              "      <th>0</th>\n",
              "      <td>0</td>\n",
              "      <td>2</td>\n",
              "      <td>1</td>\n",
              "      <td>1</td>\n",
              "    </tr>\n",
              "    <tr>\n",
              "      <th>1</th>\n",
              "      <td>0</td>\n",
              "      <td>3</td>\n",
              "      <td>1</td>\n",
              "      <td>2</td>\n",
              "    </tr>\n",
              "    <tr>\n",
              "      <th>2</th>\n",
              "      <td>0</td>\n",
              "      <td>4</td>\n",
              "      <td>1</td>\n",
              "      <td>1</td>\n",
              "    </tr>\n",
              "    <tr>\n",
              "      <th>3</th>\n",
              "      <td>0</td>\n",
              "      <td>7</td>\n",
              "      <td>1</td>\n",
              "      <td>3</td>\n",
              "    </tr>\n",
              "    <tr>\n",
              "      <th>4</th>\n",
              "      <td>0</td>\n",
              "      <td>11</td>\n",
              "      <td>1</td>\n",
              "      <td>1</td>\n",
              "    </tr>\n",
              "  </tbody>\n",
              "</table>\n",
              "</div>"
            ],
            "text/plain": [
              "   DOC_ID  WORD_ID  LABEL  OCCURENCE\n",
              "0       0        2      1          1\n",
              "1       0        3      1          2\n",
              "2       0        4      1          1\n",
              "3       0        7      1          3\n",
              "4       0       11      1          1"
            ]
          },
          "execution_count": 9,
          "metadata": {},
          "output_type": "execute_result"
        }
      ],
      "source": [
        "train_grouped = pd.read_csv(TRAINING_DATA_FILE_CSV)\n",
        "train_grouped.drop(['Unnamed: 0'], axis = 1, inplace = True)\n",
        "train_grouped.head()"
      ]
    },
    {
      "cell_type": "code",
      "execution_count": null,
      "metadata": {
        "id": "NIs8Md74tKMR",
        "outputId": "f758edad-6394-42e1-ad4f-f8820cd36f74"
      },
      "outputs": [
        {
          "data": {
            "text/html": [
              "<div>\n",
              "<style scoped>\n",
              "    .dataframe tbody tr th:only-of-type {\n",
              "        vertical-align: middle;\n",
              "    }\n",
              "\n",
              "    .dataframe tbody tr th {\n",
              "        vertical-align: top;\n",
              "    }\n",
              "\n",
              "    .dataframe thead th {\n",
              "        text-align: right;\n",
              "    }\n",
              "</style>\n",
              "<table border=\"1\" class=\"dataframe\">\n",
              "  <thead>\n",
              "    <tr style=\"text-align: right;\">\n",
              "      <th></th>\n",
              "      <th>DOC_ID</th>\n",
              "      <th>WORD_ID</th>\n",
              "      <th>LABEL</th>\n",
              "      <th>OCCURENCE</th>\n",
              "    </tr>\n",
              "  </thead>\n",
              "  <tbody>\n",
              "    <tr>\n",
              "      <th>0</th>\n",
              "      <td>8</td>\n",
              "      <td>2</td>\n",
              "      <td>1</td>\n",
              "      <td>1</td>\n",
              "    </tr>\n",
              "    <tr>\n",
              "      <th>1</th>\n",
              "      <td>8</td>\n",
              "      <td>3</td>\n",
              "      <td>1</td>\n",
              "      <td>4</td>\n",
              "    </tr>\n",
              "    <tr>\n",
              "      <th>2</th>\n",
              "      <td>8</td>\n",
              "      <td>4</td>\n",
              "      <td>1</td>\n",
              "      <td>2</td>\n",
              "    </tr>\n",
              "    <tr>\n",
              "      <th>3</th>\n",
              "      <td>8</td>\n",
              "      <td>5</td>\n",
              "      <td>1</td>\n",
              "      <td>1</td>\n",
              "    </tr>\n",
              "    <tr>\n",
              "      <th>4</th>\n",
              "      <td>8</td>\n",
              "      <td>6</td>\n",
              "      <td>1</td>\n",
              "      <td>2</td>\n",
              "    </tr>\n",
              "  </tbody>\n",
              "</table>\n",
              "</div>"
            ],
            "text/plain": [
              "   DOC_ID  WORD_ID  LABEL  OCCURENCE\n",
              "0       8        2      1          1\n",
              "1       8        3      1          4\n",
              "2       8        4      1          2\n",
              "3       8        5      1          1\n",
              "4       8        6      1          2"
            ]
          },
          "execution_count": 10,
          "metadata": {},
          "output_type": "execute_result"
        }
      ],
      "source": [
        "test_grouped = pd.read_csv(TEST_DATA_FILE_CSV)\n",
        "test_grouped.drop(['Unnamed: 0'], axis = 1, inplace = True)\n",
        "test_grouped.head()"
      ]
    },
    {
      "cell_type": "markdown",
      "metadata": {
        "id": "JBMBUF-VtKMS"
      },
      "source": [
        "## Lost Emails"
      ]
    },
    {
      "cell_type": "code",
      "execution_count": null,
      "metadata": {
        "id": "JrOhtO9GtKMS"
      },
      "outputs": [],
      "source": [
        "train_doc_ids = set(train_grouped.DOC_ID)\n",
        "test_doc_ids = set(test_grouped.DOC_ID)"
      ]
    },
    {
      "cell_type": "code",
      "execution_count": null,
      "metadata": {
        "id": "QqJuO339tKMS",
        "outputId": "8b55e290-b8e3-457c-8c75-6a04098df55f"
      },
      "outputs": [
        {
          "data": {
            "text/plain": [
              "4013"
            ]
          },
          "execution_count": 13,
          "metadata": {},
          "output_type": "execute_result"
        }
      ],
      "source": [
        "len(train_doc_ids)"
      ]
    },
    {
      "cell_type": "code",
      "execution_count": null,
      "metadata": {
        "id": "isoX58L5tKMT",
        "outputId": "e14ec86b-6dd0-4c00-f155-40afaf09cbfd"
      },
      "outputs": [
        {
          "data": {
            "text/plain": [
              "1724"
            ]
          },
          "execution_count": 14,
          "metadata": {},
          "output_type": "execute_result"
        }
      ],
      "source": [
        "len(test_doc_ids)"
      ]
    },
    {
      "cell_type": "markdown",
      "metadata": {
        "id": "VfJo-5L1tKMY"
      },
      "source": [
        "**NOTE:** As opposed to the 4057 unique emails (DOC_ID) we had in our training dataset, we now have only 4013 unique emails in our sparse matrix. We did not include 44 emails at all in our training sparse matrix. Similarly, we do not include 15 unique emails in our test sparse matrix. So where did we lose these emails?\n",
        "\n",
        "The encrypted emails containing something like a public key (which is gibberish in terms of language) were the emails that were lost during the creation of our sparse matrix (because they did not contain even a single frequent word from the set of the 2500 most frequent words). The occurence of these encrypted emails was due to our selection of a decryption method (latin - 1 in our case) which was not able to decrypt a small subset of emails that ended up as encrypted messages in the end. \n",
        "\n",
        "Moreover, sometimes there's so much HTML in a document that while parsing through it, BeautifulSoup leaves nothing and returns an empty string. "
      ]
    },
    {
      "cell_type": "markdown",
      "metadata": {
        "id": "Yb7GCpVltKMZ"
      },
      "source": [
        "## OTHER TIPS:\n",
        "\n",
        "- Use **TAB** to complete words\n",
        "- Use **SHIFT + TAB** to get a quick documentation of any function"
      ]
    },
    {
      "cell_type": "markdown",
      "source": [
        "# Training\n"
      ],
      "metadata": {
        "id": "pk1wN0mstOYX"
      }
    },
    {
      "cell_type": "markdown",
      "metadata": {
        "id": "7-B5mhcptMp6"
      },
      "source": [
        "# Notebook Imports"
      ]
    },
    {
      "cell_type": "code",
      "execution_count": null,
      "metadata": {
        "id": "P_jeXO2TtMqW"
      },
      "outputs": [],
      "source": [
        "import numpy as np\n",
        "import pandas as pd"
      ]
    },
    {
      "cell_type": "markdown",
      "metadata": {
        "id": "hVc8M_yytMqg"
      },
      "source": [
        "# Constants"
      ]
    },
    {
      "cell_type": "code",
      "execution_count": null,
      "metadata": {
        "id": "MIuNOFintMqn"
      },
      "outputs": [],
      "source": [
        "TRAINING_DATA_FILE = 'SpamData/02_Training/train-data.txt'\n",
        "TEST_DATA_FILE = 'SpamData/02_Training/test-data.txt'\n",
        "\n",
        "TOKEN_SPAM_PROB_FILE = 'SpamData/03_Testing/prob-spam.txt'\n",
        "TOKEN_HAM_PROB_FILE = 'SpamData/03_Testing/prob-ham.txt'\n",
        "TOKEN_ALL_PROB_FILE = 'SpamData/03_Testing/prob-all.txt'\n",
        "\n",
        "TEST_FEATURE_MATRIX = 'SpamData/03_Testing/test-features.txt'\n",
        "TEST_TARGET_FILE =  'SpamData/03_Testing/test-target.txt'\n",
        "\n",
        "SPAM_CAT = 1\n",
        "HAM_CAT = 0\n",
        "VOCAB_SIZE = 2500"
      ]
    },
    {
      "cell_type": "markdown",
      "metadata": {
        "id": "xWvmxlMntMqt"
      },
      "source": [
        "# Loading the data into a NumPy array"
      ]
    },
    {
      "cell_type": "code",
      "execution_count": null,
      "metadata": {
        "id": "BdSmNT9ctMqw"
      },
      "outputs": [],
      "source": [
        "sparse_train_data = np.loadtxt(TRAINING_DATA_FILE, delimiter = ' ', dtype = int)\n",
        "sparse_test_data = np.loadtxt(TEST_DATA_FILE, delimiter = ' ', dtype = int)"
      ]
    },
    {
      "cell_type": "code",
      "execution_count": null,
      "metadata": {
        "id": "-T2mOc71tMq2",
        "outputId": "992afb2e-d3ef-48a3-9bd3-5d55b5e0787e"
      },
      "outputs": [
        {
          "data": {
            "text/plain": [
              "array([[   0,    2,    1,    1],\n",
              "       [   0,    3,    1,    2],\n",
              "       [   0,    4,    1,    1],\n",
              "       ...,\n",
              "       [5795, 2268,    0,    1],\n",
              "       [5795, 2342,    0,    1],\n",
              "       [5795, 2373,    0,    1]])"
            ]
          },
          "execution_count": 4,
          "metadata": {},
          "output_type": "execute_result"
        }
      ],
      "source": [
        "sparse_train_data"
      ]
    },
    {
      "cell_type": "code",
      "execution_count": null,
      "metadata": {
        "id": "qlRg-_MYtMrA",
        "outputId": "067b54ce-1588-4bf1-8314-d251a6a71b9b"
      },
      "outputs": [
        {
          "name": "stdout",
          "output_type": "stream",
          "text": [
            "Number of rows in training file:  258371\n",
            "Number of rows in test file:  117782\n"
          ]
        }
      ],
      "source": [
        "print('Number of rows in training file: ', sparse_train_data.shape[0])\n",
        "print('Number of rows in test file: ', sparse_test_data.shape[0])"
      ]
    },
    {
      "cell_type": "code",
      "execution_count": null,
      "metadata": {
        "id": "b7jAmiaQtMrG",
        "outputId": "2a0376b3-77d1-463e-835c-733bcac8e874"
      },
      "outputs": [
        {
          "name": "stdout",
          "output_type": "stream",
          "text": [
            "Number of unique emails in training data:  4013\n",
            "Number of unique emails in test data:  1724\n"
          ]
        }
      ],
      "source": [
        "print('Number of unique emails in training data: ', np.unique(sparse_train_data[:, 0]).size)\n",
        "print('Number of unique emails in test data: ', np.unique(sparse_test_data[:, 0]).size)"
      ]
    },
    {
      "cell_type": "markdown",
      "metadata": {
        "id": "s9P5W56_tMrN"
      },
      "source": [
        "## Creating the Dataframe"
      ]
    },
    {
      "cell_type": "code",
      "execution_count": null,
      "metadata": {
        "id": "85wghxBAtMrQ"
      },
      "outputs": [],
      "source": [
        "column_names = ['DOC_ID'] + ['CATEGORY'] + list(range(0, VOCAB_SIZE))"
      ]
    },
    {
      "cell_type": "code",
      "execution_count": null,
      "metadata": {
        "id": "0k8OsLTftMrT"
      },
      "outputs": [],
      "source": [
        "index_names = np.unique(sparse_train_data[:, 0])"
      ]
    },
    {
      "cell_type": "code",
      "execution_count": null,
      "metadata": {
        "id": "_DEXlUOttMrX",
        "outputId": "cda1a652-fa0b-4602-e6e2-d54972ea6653"
      },
      "outputs": [
        {
          "data": {
            "text/html": [
              "<div>\n",
              "<style scoped>\n",
              "    .dataframe tbody tr th:only-of-type {\n",
              "        vertical-align: middle;\n",
              "    }\n",
              "\n",
              "    .dataframe tbody tr th {\n",
              "        vertical-align: top;\n",
              "    }\n",
              "\n",
              "    .dataframe thead th {\n",
              "        text-align: right;\n",
              "    }\n",
              "</style>\n",
              "<table border=\"1\" class=\"dataframe\">\n",
              "  <thead>\n",
              "    <tr style=\"text-align: right;\">\n",
              "      <th></th>\n",
              "      <th>DOC_ID</th>\n",
              "      <th>CATEGORY</th>\n",
              "      <th>0</th>\n",
              "      <th>1</th>\n",
              "      <th>2</th>\n",
              "      <th>3</th>\n",
              "      <th>4</th>\n",
              "      <th>5</th>\n",
              "      <th>6</th>\n",
              "      <th>7</th>\n",
              "      <th>...</th>\n",
              "      <th>2490</th>\n",
              "      <th>2491</th>\n",
              "      <th>2492</th>\n",
              "      <th>2493</th>\n",
              "      <th>2494</th>\n",
              "      <th>2495</th>\n",
              "      <th>2496</th>\n",
              "      <th>2497</th>\n",
              "      <th>2498</th>\n",
              "      <th>2499</th>\n",
              "    </tr>\n",
              "  </thead>\n",
              "  <tbody>\n",
              "    <tr>\n",
              "      <th>0</th>\n",
              "      <td>NaN</td>\n",
              "      <td>NaN</td>\n",
              "      <td>NaN</td>\n",
              "      <td>NaN</td>\n",
              "      <td>NaN</td>\n",
              "      <td>NaN</td>\n",
              "      <td>NaN</td>\n",
              "      <td>NaN</td>\n",
              "      <td>NaN</td>\n",
              "      <td>NaN</td>\n",
              "      <td>...</td>\n",
              "      <td>NaN</td>\n",
              "      <td>NaN</td>\n",
              "      <td>NaN</td>\n",
              "      <td>NaN</td>\n",
              "      <td>NaN</td>\n",
              "      <td>NaN</td>\n",
              "      <td>NaN</td>\n",
              "      <td>NaN</td>\n",
              "      <td>NaN</td>\n",
              "      <td>NaN</td>\n",
              "    </tr>\n",
              "    <tr>\n",
              "      <th>1</th>\n",
              "      <td>NaN</td>\n",
              "      <td>NaN</td>\n",
              "      <td>NaN</td>\n",
              "      <td>NaN</td>\n",
              "      <td>NaN</td>\n",
              "      <td>NaN</td>\n",
              "      <td>NaN</td>\n",
              "      <td>NaN</td>\n",
              "      <td>NaN</td>\n",
              "      <td>NaN</td>\n",
              "      <td>...</td>\n",
              "      <td>NaN</td>\n",
              "      <td>NaN</td>\n",
              "      <td>NaN</td>\n",
              "      <td>NaN</td>\n",
              "      <td>NaN</td>\n",
              "      <td>NaN</td>\n",
              "      <td>NaN</td>\n",
              "      <td>NaN</td>\n",
              "      <td>NaN</td>\n",
              "      <td>NaN</td>\n",
              "    </tr>\n",
              "    <tr>\n",
              "      <th>2</th>\n",
              "      <td>NaN</td>\n",
              "      <td>NaN</td>\n",
              "      <td>NaN</td>\n",
              "      <td>NaN</td>\n",
              "      <td>NaN</td>\n",
              "      <td>NaN</td>\n",
              "      <td>NaN</td>\n",
              "      <td>NaN</td>\n",
              "      <td>NaN</td>\n",
              "      <td>NaN</td>\n",
              "      <td>...</td>\n",
              "      <td>NaN</td>\n",
              "      <td>NaN</td>\n",
              "      <td>NaN</td>\n",
              "      <td>NaN</td>\n",
              "      <td>NaN</td>\n",
              "      <td>NaN</td>\n",
              "      <td>NaN</td>\n",
              "      <td>NaN</td>\n",
              "      <td>NaN</td>\n",
              "      <td>NaN</td>\n",
              "    </tr>\n",
              "    <tr>\n",
              "      <th>3</th>\n",
              "      <td>NaN</td>\n",
              "      <td>NaN</td>\n",
              "      <td>NaN</td>\n",
              "      <td>NaN</td>\n",
              "      <td>NaN</td>\n",
              "      <td>NaN</td>\n",
              "      <td>NaN</td>\n",
              "      <td>NaN</td>\n",
              "      <td>NaN</td>\n",
              "      <td>NaN</td>\n",
              "      <td>...</td>\n",
              "      <td>NaN</td>\n",
              "      <td>NaN</td>\n",
              "      <td>NaN</td>\n",
              "      <td>NaN</td>\n",
              "      <td>NaN</td>\n",
              "      <td>NaN</td>\n",
              "      <td>NaN</td>\n",
              "      <td>NaN</td>\n",
              "      <td>NaN</td>\n",
              "      <td>NaN</td>\n",
              "    </tr>\n",
              "    <tr>\n",
              "      <th>4</th>\n",
              "      <td>NaN</td>\n",
              "      <td>NaN</td>\n",
              "      <td>NaN</td>\n",
              "      <td>NaN</td>\n",
              "      <td>NaN</td>\n",
              "      <td>NaN</td>\n",
              "      <td>NaN</td>\n",
              "      <td>NaN</td>\n",
              "      <td>NaN</td>\n",
              "      <td>NaN</td>\n",
              "      <td>...</td>\n",
              "      <td>NaN</td>\n",
              "      <td>NaN</td>\n",
              "      <td>NaN</td>\n",
              "      <td>NaN</td>\n",
              "      <td>NaN</td>\n",
              "      <td>NaN</td>\n",
              "      <td>NaN</td>\n",
              "      <td>NaN</td>\n",
              "      <td>NaN</td>\n",
              "      <td>NaN</td>\n",
              "    </tr>\n",
              "  </tbody>\n",
              "</table>\n",
              "<p>5 rows × 2502 columns</p>\n",
              "</div>"
            ],
            "text/plain": [
              "  DOC_ID CATEGORY    0    1    2    3    4    5    6    7  ... 2490 2491 2492  \\\n",
              "0    NaN      NaN  NaN  NaN  NaN  NaN  NaN  NaN  NaN  NaN  ...  NaN  NaN  NaN   \n",
              "1    NaN      NaN  NaN  NaN  NaN  NaN  NaN  NaN  NaN  NaN  ...  NaN  NaN  NaN   \n",
              "2    NaN      NaN  NaN  NaN  NaN  NaN  NaN  NaN  NaN  NaN  ...  NaN  NaN  NaN   \n",
              "3    NaN      NaN  NaN  NaN  NaN  NaN  NaN  NaN  NaN  NaN  ...  NaN  NaN  NaN   \n",
              "4    NaN      NaN  NaN  NaN  NaN  NaN  NaN  NaN  NaN  NaN  ...  NaN  NaN  NaN   \n",
              "\n",
              "  2493 2494 2495 2496 2497 2498 2499  \n",
              "0  NaN  NaN  NaN  NaN  NaN  NaN  NaN  \n",
              "1  NaN  NaN  NaN  NaN  NaN  NaN  NaN  \n",
              "2  NaN  NaN  NaN  NaN  NaN  NaN  NaN  \n",
              "3  NaN  NaN  NaN  NaN  NaN  NaN  NaN  \n",
              "4  NaN  NaN  NaN  NaN  NaN  NaN  NaN  \n",
              "\n",
              "[5 rows x 2502 columns]"
            ]
          },
          "execution_count": 9,
          "metadata": {},
          "output_type": "execute_result"
        }
      ],
      "source": [
        "full_train_data = pd.DataFrame(columns = column_names, index = index_names)\n",
        "full_train_data.head()"
      ]
    },
    {
      "cell_type": "code",
      "execution_count": null,
      "metadata": {
        "id": "iPsv1wdltMra",
        "outputId": "707215fe-2848-4717-bc59-c88f18ebe6ef"
      },
      "outputs": [
        {
          "data": {
            "text/html": [
              "<div>\n",
              "<style scoped>\n",
              "    .dataframe tbody tr th:only-of-type {\n",
              "        vertical-align: middle;\n",
              "    }\n",
              "\n",
              "    .dataframe tbody tr th {\n",
              "        vertical-align: top;\n",
              "    }\n",
              "\n",
              "    .dataframe thead th {\n",
              "        text-align: right;\n",
              "    }\n",
              "</style>\n",
              "<table border=\"1\" class=\"dataframe\">\n",
              "  <thead>\n",
              "    <tr style=\"text-align: right;\">\n",
              "      <th></th>\n",
              "      <th>DOC_ID</th>\n",
              "      <th>CATEGORY</th>\n",
              "      <th>0</th>\n",
              "      <th>1</th>\n",
              "      <th>2</th>\n",
              "      <th>3</th>\n",
              "      <th>4</th>\n",
              "      <th>5</th>\n",
              "      <th>6</th>\n",
              "      <th>7</th>\n",
              "      <th>...</th>\n",
              "      <th>2490</th>\n",
              "      <th>2491</th>\n",
              "      <th>2492</th>\n",
              "      <th>2493</th>\n",
              "      <th>2494</th>\n",
              "      <th>2495</th>\n",
              "      <th>2496</th>\n",
              "      <th>2497</th>\n",
              "      <th>2498</th>\n",
              "      <th>2499</th>\n",
              "    </tr>\n",
              "  </thead>\n",
              "  <tbody>\n",
              "    <tr>\n",
              "      <th>0</th>\n",
              "      <td>0</td>\n",
              "      <td>0</td>\n",
              "      <td>0</td>\n",
              "      <td>0</td>\n",
              "      <td>0</td>\n",
              "      <td>0</td>\n",
              "      <td>0</td>\n",
              "      <td>0</td>\n",
              "      <td>0</td>\n",
              "      <td>0</td>\n",
              "      <td>...</td>\n",
              "      <td>0</td>\n",
              "      <td>0</td>\n",
              "      <td>0</td>\n",
              "      <td>0</td>\n",
              "      <td>0</td>\n",
              "      <td>0</td>\n",
              "      <td>0</td>\n",
              "      <td>0</td>\n",
              "      <td>0</td>\n",
              "      <td>0</td>\n",
              "    </tr>\n",
              "    <tr>\n",
              "      <th>1</th>\n",
              "      <td>0</td>\n",
              "      <td>0</td>\n",
              "      <td>0</td>\n",
              "      <td>0</td>\n",
              "      <td>0</td>\n",
              "      <td>0</td>\n",
              "      <td>0</td>\n",
              "      <td>0</td>\n",
              "      <td>0</td>\n",
              "      <td>0</td>\n",
              "      <td>...</td>\n",
              "      <td>0</td>\n",
              "      <td>0</td>\n",
              "      <td>0</td>\n",
              "      <td>0</td>\n",
              "      <td>0</td>\n",
              "      <td>0</td>\n",
              "      <td>0</td>\n",
              "      <td>0</td>\n",
              "      <td>0</td>\n",
              "      <td>0</td>\n",
              "    </tr>\n",
              "    <tr>\n",
              "      <th>2</th>\n",
              "      <td>0</td>\n",
              "      <td>0</td>\n",
              "      <td>0</td>\n",
              "      <td>0</td>\n",
              "      <td>0</td>\n",
              "      <td>0</td>\n",
              "      <td>0</td>\n",
              "      <td>0</td>\n",
              "      <td>0</td>\n",
              "      <td>0</td>\n",
              "      <td>...</td>\n",
              "      <td>0</td>\n",
              "      <td>0</td>\n",
              "      <td>0</td>\n",
              "      <td>0</td>\n",
              "      <td>0</td>\n",
              "      <td>0</td>\n",
              "      <td>0</td>\n",
              "      <td>0</td>\n",
              "      <td>0</td>\n",
              "      <td>0</td>\n",
              "    </tr>\n",
              "    <tr>\n",
              "      <th>3</th>\n",
              "      <td>0</td>\n",
              "      <td>0</td>\n",
              "      <td>0</td>\n",
              "      <td>0</td>\n",
              "      <td>0</td>\n",
              "      <td>0</td>\n",
              "      <td>0</td>\n",
              "      <td>0</td>\n",
              "      <td>0</td>\n",
              "      <td>0</td>\n",
              "      <td>...</td>\n",
              "      <td>0</td>\n",
              "      <td>0</td>\n",
              "      <td>0</td>\n",
              "      <td>0</td>\n",
              "      <td>0</td>\n",
              "      <td>0</td>\n",
              "      <td>0</td>\n",
              "      <td>0</td>\n",
              "      <td>0</td>\n",
              "      <td>0</td>\n",
              "    </tr>\n",
              "    <tr>\n",
              "      <th>4</th>\n",
              "      <td>0</td>\n",
              "      <td>0</td>\n",
              "      <td>0</td>\n",
              "      <td>0</td>\n",
              "      <td>0</td>\n",
              "      <td>0</td>\n",
              "      <td>0</td>\n",
              "      <td>0</td>\n",
              "      <td>0</td>\n",
              "      <td>0</td>\n",
              "      <td>...</td>\n",
              "      <td>0</td>\n",
              "      <td>0</td>\n",
              "      <td>0</td>\n",
              "      <td>0</td>\n",
              "      <td>0</td>\n",
              "      <td>0</td>\n",
              "      <td>0</td>\n",
              "      <td>0</td>\n",
              "      <td>0</td>\n",
              "      <td>0</td>\n",
              "    </tr>\n",
              "    <tr>\n",
              "      <th>...</th>\n",
              "      <td>...</td>\n",
              "      <td>...</td>\n",
              "      <td>...</td>\n",
              "      <td>...</td>\n",
              "      <td>...</td>\n",
              "      <td>...</td>\n",
              "      <td>...</td>\n",
              "      <td>...</td>\n",
              "      <td>...</td>\n",
              "      <td>...</td>\n",
              "      <td>...</td>\n",
              "      <td>...</td>\n",
              "      <td>...</td>\n",
              "      <td>...</td>\n",
              "      <td>...</td>\n",
              "      <td>...</td>\n",
              "      <td>...</td>\n",
              "      <td>...</td>\n",
              "      <td>...</td>\n",
              "      <td>...</td>\n",
              "      <td>...</td>\n",
              "    </tr>\n",
              "    <tr>\n",
              "      <th>5789</th>\n",
              "      <td>0</td>\n",
              "      <td>0</td>\n",
              "      <td>0</td>\n",
              "      <td>0</td>\n",
              "      <td>0</td>\n",
              "      <td>0</td>\n",
              "      <td>0</td>\n",
              "      <td>0</td>\n",
              "      <td>0</td>\n",
              "      <td>0</td>\n",
              "      <td>...</td>\n",
              "      <td>0</td>\n",
              "      <td>0</td>\n",
              "      <td>0</td>\n",
              "      <td>0</td>\n",
              "      <td>0</td>\n",
              "      <td>0</td>\n",
              "      <td>0</td>\n",
              "      <td>0</td>\n",
              "      <td>0</td>\n",
              "      <td>0</td>\n",
              "    </tr>\n",
              "    <tr>\n",
              "      <th>5790</th>\n",
              "      <td>0</td>\n",
              "      <td>0</td>\n",
              "      <td>0</td>\n",
              "      <td>0</td>\n",
              "      <td>0</td>\n",
              "      <td>0</td>\n",
              "      <td>0</td>\n",
              "      <td>0</td>\n",
              "      <td>0</td>\n",
              "      <td>0</td>\n",
              "      <td>...</td>\n",
              "      <td>0</td>\n",
              "      <td>0</td>\n",
              "      <td>0</td>\n",
              "      <td>0</td>\n",
              "      <td>0</td>\n",
              "      <td>0</td>\n",
              "      <td>0</td>\n",
              "      <td>0</td>\n",
              "      <td>0</td>\n",
              "      <td>0</td>\n",
              "    </tr>\n",
              "    <tr>\n",
              "      <th>5791</th>\n",
              "      <td>0</td>\n",
              "      <td>0</td>\n",
              "      <td>0</td>\n",
              "      <td>0</td>\n",
              "      <td>0</td>\n",
              "      <td>0</td>\n",
              "      <td>0</td>\n",
              "      <td>0</td>\n",
              "      <td>0</td>\n",
              "      <td>0</td>\n",
              "      <td>...</td>\n",
              "      <td>0</td>\n",
              "      <td>0</td>\n",
              "      <td>0</td>\n",
              "      <td>0</td>\n",
              "      <td>0</td>\n",
              "      <td>0</td>\n",
              "      <td>0</td>\n",
              "      <td>0</td>\n",
              "      <td>0</td>\n",
              "      <td>0</td>\n",
              "    </tr>\n",
              "    <tr>\n",
              "      <th>5794</th>\n",
              "      <td>0</td>\n",
              "      <td>0</td>\n",
              "      <td>0</td>\n",
              "      <td>0</td>\n",
              "      <td>0</td>\n",
              "      <td>0</td>\n",
              "      <td>0</td>\n",
              "      <td>0</td>\n",
              "      <td>0</td>\n",
              "      <td>0</td>\n",
              "      <td>...</td>\n",
              "      <td>0</td>\n",
              "      <td>0</td>\n",
              "      <td>0</td>\n",
              "      <td>0</td>\n",
              "      <td>0</td>\n",
              "      <td>0</td>\n",
              "      <td>0</td>\n",
              "      <td>0</td>\n",
              "      <td>0</td>\n",
              "      <td>0</td>\n",
              "    </tr>\n",
              "    <tr>\n",
              "      <th>5795</th>\n",
              "      <td>0</td>\n",
              "      <td>0</td>\n",
              "      <td>0</td>\n",
              "      <td>0</td>\n",
              "      <td>0</td>\n",
              "      <td>0</td>\n",
              "      <td>0</td>\n",
              "      <td>0</td>\n",
              "      <td>0</td>\n",
              "      <td>0</td>\n",
              "      <td>...</td>\n",
              "      <td>0</td>\n",
              "      <td>0</td>\n",
              "      <td>0</td>\n",
              "      <td>0</td>\n",
              "      <td>0</td>\n",
              "      <td>0</td>\n",
              "      <td>0</td>\n",
              "      <td>0</td>\n",
              "      <td>0</td>\n",
              "      <td>0</td>\n",
              "    </tr>\n",
              "  </tbody>\n",
              "</table>\n",
              "<p>4013 rows × 2502 columns</p>\n",
              "</div>"
            ],
            "text/plain": [
              "      DOC_ID  CATEGORY  0  1  2  3  4  5  6  7  ...  2490  2491  2492  2493  \\\n",
              "0          0         0  0  0  0  0  0  0  0  0  ...     0     0     0     0   \n",
              "1          0         0  0  0  0  0  0  0  0  0  ...     0     0     0     0   \n",
              "2          0         0  0  0  0  0  0  0  0  0  ...     0     0     0     0   \n",
              "3          0         0  0  0  0  0  0  0  0  0  ...     0     0     0     0   \n",
              "4          0         0  0  0  0  0  0  0  0  0  ...     0     0     0     0   \n",
              "...      ...       ... .. .. .. .. .. .. .. ..  ...   ...   ...   ...   ...   \n",
              "5789       0         0  0  0  0  0  0  0  0  0  ...     0     0     0     0   \n",
              "5790       0         0  0  0  0  0  0  0  0  0  ...     0     0     0     0   \n",
              "5791       0         0  0  0  0  0  0  0  0  0  ...     0     0     0     0   \n",
              "5794       0         0  0  0  0  0  0  0  0  0  ...     0     0     0     0   \n",
              "5795       0         0  0  0  0  0  0  0  0  0  ...     0     0     0     0   \n",
              "\n",
              "      2494  2495  2496  2497  2498  2499  \n",
              "0        0     0     0     0     0     0  \n",
              "1        0     0     0     0     0     0  \n",
              "2        0     0     0     0     0     0  \n",
              "3        0     0     0     0     0     0  \n",
              "4        0     0     0     0     0     0  \n",
              "...    ...   ...   ...   ...   ...   ...  \n",
              "5789     0     0     0     0     0     0  \n",
              "5790     0     0     0     0     0     0  \n",
              "5791     0     0     0     0     0     0  \n",
              "5794     0     0     0     0     0     0  \n",
              "5795     0     0     0     0     0     0  \n",
              "\n",
              "[4013 rows x 2502 columns]"
            ]
          },
          "execution_count": 10,
          "metadata": {},
          "output_type": "execute_result"
        }
      ],
      "source": [
        "full_train_data.fillna(value = 0, inplace = True)\n",
        "full_train_data"
      ]
    },
    {
      "cell_type": "markdown",
      "metadata": {
        "id": "0fJj2ecKtMrc"
      },
      "source": [
        "## Creating a full matrix from a sparse matrix\n",
        "\n",
        "Our full matrix will have the columns doc_id, category, and a column for every different word_id (It will somewhat look like a one-hot encoded system that is not binary, but has the number of occurences of a particular word in an email displayed in each cell)."
      ]
    },
    {
      "cell_type": "code",
      "execution_count": null,
      "metadata": {
        "id": "BBLR4apZtMrd"
      },
      "outputs": [],
      "source": [
        "def make_full_matrix(sparse_matrix, nr_words, doc_idx = 0, word_idx = 1, cat_idx = 2, freq_idx = 3):\n",
        "    \"\"\"\n",
        "    Form a full matrix from a sparse matrix. Return a pandas dataframe. The full matrix will have the \n",
        "    columns doc_id, category, and a column for every different word_id (It will somewhat look like a \n",
        "    one-hot encoded system that is not binary, but has the number of occurences of a particular word in\n",
        "    an email displayed in each cell).\n",
        "    \n",
        "    Keyword arguments:\n",
        "    sparse_matrix (numpy array) -- 2D array where each cell is a stemmed word used in a particular email\n",
        "    nr_words (int) -- size of the vocabulary. Total number of tokens. \n",
        "    doc_idx (int) -- position of the document id in the sparse matrix. Default: 1st column\n",
        "    word_idx (int) -- position of the word id in the sparse matrix. Default: 2nd column\n",
        "    cat_idx (int) -- position of the label (spam is 1, nonspam is 0). Default: 3rd column\n",
        "    freq_idx (int) -- position of occurrence of word in sparse matrix. Default: 4th column\n",
        "\n",
        "    Returns:\n",
        "    full_matrix (numpy array) -- 2D array as described above\n",
        "    \"\"\"\n",
        "    \n",
        "    column_names = ['DOC_ID'] + ['CATEGORY'] + list(range(0, VOCAB_SIZE))\n",
        "    doc_id_names = np.unique(sparse_matrix[:, 0])\n",
        "    full_matrix = pd.DataFrame(columns = column_names, index = doc_id_names)\n",
        "    full_matrix.fillna(value = 0, inplace = True)\n",
        "    \n",
        "    for i in range(sparse_matrix.shape[0]):\n",
        "        doc_nr = sparse_matrix[i][doc_idx]\n",
        "        word_id = sparse_matrix[i][word_idx]\n",
        "        label = sparse_matrix[i][cat_idx]\n",
        "        occurence = sparse_matrix[i][freq_idx]\n",
        "        \n",
        "        full_matrix.at[doc_nr, 'DOC_ID'] = doc_nr\n",
        "        full_matrix.at[doc_nr, 'CATEGORY'] = label\n",
        "        full_matrix.at[doc_nr, word_id] = occurence\n",
        "    \n",
        "    full_matrix.set_index('DOC_ID', inplace = True)\n",
        "    return full_matrix"
      ]
    },
    {
      "cell_type": "code",
      "execution_count": null,
      "metadata": {
        "id": "VTB-RiIctMrj",
        "outputId": "77811c7b-d2ff-44db-c0e8-c43f2716b179"
      },
      "outputs": [
        {
          "name": "stdout",
          "output_type": "stream",
          "text": [
            "Wall time: 9.27 s\n"
          ]
        }
      ],
      "source": [
        "%%time\n",
        "full_train_data = make_full_matrix(sparse_train_data, VOCAB_SIZE)"
      ]
    },
    {
      "cell_type": "code",
      "execution_count": null,
      "metadata": {
        "id": "2JMLyH4mtMro",
        "outputId": "b429c2a8-eb43-4f50-87cc-ce731911fbce"
      },
      "outputs": [
        {
          "data": {
            "text/html": [
              "<div>\n",
              "<style scoped>\n",
              "    .dataframe tbody tr th:only-of-type {\n",
              "        vertical-align: middle;\n",
              "    }\n",
              "\n",
              "    .dataframe tbody tr th {\n",
              "        vertical-align: top;\n",
              "    }\n",
              "\n",
              "    .dataframe thead th {\n",
              "        text-align: right;\n",
              "    }\n",
              "</style>\n",
              "<table border=\"1\" class=\"dataframe\">\n",
              "  <thead>\n",
              "    <tr style=\"text-align: right;\">\n",
              "      <th></th>\n",
              "      <th>CATEGORY</th>\n",
              "      <th>0</th>\n",
              "      <th>1</th>\n",
              "      <th>2</th>\n",
              "      <th>3</th>\n",
              "      <th>4</th>\n",
              "      <th>5</th>\n",
              "      <th>6</th>\n",
              "      <th>7</th>\n",
              "      <th>8</th>\n",
              "      <th>...</th>\n",
              "      <th>2490</th>\n",
              "      <th>2491</th>\n",
              "      <th>2492</th>\n",
              "      <th>2493</th>\n",
              "      <th>2494</th>\n",
              "      <th>2495</th>\n",
              "      <th>2496</th>\n",
              "      <th>2497</th>\n",
              "      <th>2498</th>\n",
              "      <th>2499</th>\n",
              "    </tr>\n",
              "    <tr>\n",
              "      <th>DOC_ID</th>\n",
              "      <th></th>\n",
              "      <th></th>\n",
              "      <th></th>\n",
              "      <th></th>\n",
              "      <th></th>\n",
              "      <th></th>\n",
              "      <th></th>\n",
              "      <th></th>\n",
              "      <th></th>\n",
              "      <th></th>\n",
              "      <th></th>\n",
              "      <th></th>\n",
              "      <th></th>\n",
              "      <th></th>\n",
              "      <th></th>\n",
              "      <th></th>\n",
              "      <th></th>\n",
              "      <th></th>\n",
              "      <th></th>\n",
              "      <th></th>\n",
              "      <th></th>\n",
              "    </tr>\n",
              "  </thead>\n",
              "  <tbody>\n",
              "    <tr>\n",
              "      <th>0</th>\n",
              "      <td>1</td>\n",
              "      <td>0</td>\n",
              "      <td>0</td>\n",
              "      <td>1</td>\n",
              "      <td>2</td>\n",
              "      <td>1</td>\n",
              "      <td>0</td>\n",
              "      <td>0</td>\n",
              "      <td>3</td>\n",
              "      <td>0</td>\n",
              "      <td>...</td>\n",
              "      <td>0</td>\n",
              "      <td>0</td>\n",
              "      <td>0</td>\n",
              "      <td>0</td>\n",
              "      <td>0</td>\n",
              "      <td>0</td>\n",
              "      <td>0</td>\n",
              "      <td>0</td>\n",
              "      <td>0</td>\n",
              "      <td>0</td>\n",
              "    </tr>\n",
              "    <tr>\n",
              "      <th>1</th>\n",
              "      <td>1</td>\n",
              "      <td>7</td>\n",
              "      <td>1</td>\n",
              "      <td>2</td>\n",
              "      <td>0</td>\n",
              "      <td>1</td>\n",
              "      <td>0</td>\n",
              "      <td>0</td>\n",
              "      <td>1</td>\n",
              "      <td>0</td>\n",
              "      <td>...</td>\n",
              "      <td>0</td>\n",
              "      <td>0</td>\n",
              "      <td>0</td>\n",
              "      <td>0</td>\n",
              "      <td>0</td>\n",
              "      <td>0</td>\n",
              "      <td>0</td>\n",
              "      <td>0</td>\n",
              "      <td>0</td>\n",
              "      <td>0</td>\n",
              "    </tr>\n",
              "    <tr>\n",
              "      <th>2</th>\n",
              "      <td>1</td>\n",
              "      <td>6</td>\n",
              "      <td>1</td>\n",
              "      <td>1</td>\n",
              "      <td>0</td>\n",
              "      <td>1</td>\n",
              "      <td>0</td>\n",
              "      <td>0</td>\n",
              "      <td>1</td>\n",
              "      <td>0</td>\n",
              "      <td>...</td>\n",
              "      <td>0</td>\n",
              "      <td>0</td>\n",
              "      <td>0</td>\n",
              "      <td>0</td>\n",
              "      <td>0</td>\n",
              "      <td>0</td>\n",
              "      <td>0</td>\n",
              "      <td>0</td>\n",
              "      <td>0</td>\n",
              "      <td>0</td>\n",
              "    </tr>\n",
              "    <tr>\n",
              "      <th>3</th>\n",
              "      <td>1</td>\n",
              "      <td>6</td>\n",
              "      <td>0</td>\n",
              "      <td>0</td>\n",
              "      <td>2</td>\n",
              "      <td>4</td>\n",
              "      <td>0</td>\n",
              "      <td>3</td>\n",
              "      <td>14</td>\n",
              "      <td>0</td>\n",
              "      <td>...</td>\n",
              "      <td>0</td>\n",
              "      <td>0</td>\n",
              "      <td>0</td>\n",
              "      <td>0</td>\n",
              "      <td>0</td>\n",
              "      <td>0</td>\n",
              "      <td>0</td>\n",
              "      <td>0</td>\n",
              "      <td>0</td>\n",
              "      <td>0</td>\n",
              "    </tr>\n",
              "    <tr>\n",
              "      <th>4</th>\n",
              "      <td>1</td>\n",
              "      <td>5</td>\n",
              "      <td>1</td>\n",
              "      <td>2</td>\n",
              "      <td>0</td>\n",
              "      <td>1</td>\n",
              "      <td>0</td>\n",
              "      <td>0</td>\n",
              "      <td>1</td>\n",
              "      <td>0</td>\n",
              "      <td>...</td>\n",
              "      <td>0</td>\n",
              "      <td>0</td>\n",
              "      <td>0</td>\n",
              "      <td>0</td>\n",
              "      <td>0</td>\n",
              "      <td>0</td>\n",
              "      <td>0</td>\n",
              "      <td>0</td>\n",
              "      <td>0</td>\n",
              "      <td>0</td>\n",
              "    </tr>\n",
              "  </tbody>\n",
              "</table>\n",
              "<p>5 rows × 2501 columns</p>\n",
              "</div>"
            ],
            "text/plain": [
              "        CATEGORY  0  1  2  3  4  5  6   7  8  ...  2490  2491  2492  2493  \\\n",
              "DOC_ID                                        ...                           \n",
              "0              1  0  0  1  2  1  0  0   3  0  ...     0     0     0     0   \n",
              "1              1  7  1  2  0  1  0  0   1  0  ...     0     0     0     0   \n",
              "2              1  6  1  1  0  1  0  0   1  0  ...     0     0     0     0   \n",
              "3              1  6  0  0  2  4  0  3  14  0  ...     0     0     0     0   \n",
              "4              1  5  1  2  0  1  0  0   1  0  ...     0     0     0     0   \n",
              "\n",
              "        2494  2495  2496  2497  2498  2499  \n",
              "DOC_ID                                      \n",
              "0          0     0     0     0     0     0  \n",
              "1          0     0     0     0     0     0  \n",
              "2          0     0     0     0     0     0  \n",
              "3          0     0     0     0     0     0  \n",
              "4          0     0     0     0     0     0  \n",
              "\n",
              "[5 rows x 2501 columns]"
            ]
          },
          "execution_count": 13,
          "metadata": {},
          "output_type": "execute_result"
        }
      ],
      "source": [
        "full_train_data.head()"
      ]
    },
    {
      "cell_type": "code",
      "execution_count": null,
      "metadata": {
        "id": "Aqb5nSpgtMrq",
        "outputId": "52123539-0730-47b5-b4d7-5eca34e27d88"
      },
      "outputs": [
        {
          "data": {
            "text/html": [
              "<div>\n",
              "<style scoped>\n",
              "    .dataframe tbody tr th:only-of-type {\n",
              "        vertical-align: middle;\n",
              "    }\n",
              "\n",
              "    .dataframe tbody tr th {\n",
              "        vertical-align: top;\n",
              "    }\n",
              "\n",
              "    .dataframe thead th {\n",
              "        text-align: right;\n",
              "    }\n",
              "</style>\n",
              "<table border=\"1\" class=\"dataframe\">\n",
              "  <thead>\n",
              "    <tr style=\"text-align: right;\">\n",
              "      <th></th>\n",
              "      <th>CATEGORY</th>\n",
              "      <th>0</th>\n",
              "      <th>1</th>\n",
              "      <th>2</th>\n",
              "      <th>3</th>\n",
              "      <th>4</th>\n",
              "      <th>5</th>\n",
              "      <th>6</th>\n",
              "      <th>7</th>\n",
              "      <th>8</th>\n",
              "      <th>...</th>\n",
              "      <th>2490</th>\n",
              "      <th>2491</th>\n",
              "      <th>2492</th>\n",
              "      <th>2493</th>\n",
              "      <th>2494</th>\n",
              "      <th>2495</th>\n",
              "      <th>2496</th>\n",
              "      <th>2497</th>\n",
              "      <th>2498</th>\n",
              "      <th>2499</th>\n",
              "    </tr>\n",
              "    <tr>\n",
              "      <th>DOC_ID</th>\n",
              "      <th></th>\n",
              "      <th></th>\n",
              "      <th></th>\n",
              "      <th></th>\n",
              "      <th></th>\n",
              "      <th></th>\n",
              "      <th></th>\n",
              "      <th></th>\n",
              "      <th></th>\n",
              "      <th></th>\n",
              "      <th></th>\n",
              "      <th></th>\n",
              "      <th></th>\n",
              "      <th></th>\n",
              "      <th></th>\n",
              "      <th></th>\n",
              "      <th></th>\n",
              "      <th></th>\n",
              "      <th></th>\n",
              "      <th></th>\n",
              "      <th></th>\n",
              "    </tr>\n",
              "  </thead>\n",
              "  <tbody>\n",
              "    <tr>\n",
              "      <th>5789</th>\n",
              "      <td>0</td>\n",
              "      <td>3</td>\n",
              "      <td>1</td>\n",
              "      <td>0</td>\n",
              "      <td>1</td>\n",
              "      <td>0</td>\n",
              "      <td>0</td>\n",
              "      <td>0</td>\n",
              "      <td>1</td>\n",
              "      <td>0</td>\n",
              "      <td>...</td>\n",
              "      <td>0</td>\n",
              "      <td>0</td>\n",
              "      <td>0</td>\n",
              "      <td>0</td>\n",
              "      <td>0</td>\n",
              "      <td>0</td>\n",
              "      <td>0</td>\n",
              "      <td>0</td>\n",
              "      <td>0</td>\n",
              "      <td>0</td>\n",
              "    </tr>\n",
              "    <tr>\n",
              "      <th>5790</th>\n",
              "      <td>0</td>\n",
              "      <td>1</td>\n",
              "      <td>1</td>\n",
              "      <td>1</td>\n",
              "      <td>0</td>\n",
              "      <td>0</td>\n",
              "      <td>0</td>\n",
              "      <td>1</td>\n",
              "      <td>0</td>\n",
              "      <td>0</td>\n",
              "      <td>...</td>\n",
              "      <td>0</td>\n",
              "      <td>0</td>\n",
              "      <td>0</td>\n",
              "      <td>0</td>\n",
              "      <td>0</td>\n",
              "      <td>0</td>\n",
              "      <td>0</td>\n",
              "      <td>0</td>\n",
              "      <td>0</td>\n",
              "      <td>0</td>\n",
              "    </tr>\n",
              "    <tr>\n",
              "      <th>5791</th>\n",
              "      <td>0</td>\n",
              "      <td>3</td>\n",
              "      <td>1</td>\n",
              "      <td>0</td>\n",
              "      <td>1</td>\n",
              "      <td>1</td>\n",
              "      <td>0</td>\n",
              "      <td>0</td>\n",
              "      <td>0</td>\n",
              "      <td>1</td>\n",
              "      <td>...</td>\n",
              "      <td>0</td>\n",
              "      <td>0</td>\n",
              "      <td>0</td>\n",
              "      <td>0</td>\n",
              "      <td>0</td>\n",
              "      <td>0</td>\n",
              "      <td>0</td>\n",
              "      <td>0</td>\n",
              "      <td>0</td>\n",
              "      <td>0</td>\n",
              "    </tr>\n",
              "    <tr>\n",
              "      <th>5794</th>\n",
              "      <td>0</td>\n",
              "      <td>1</td>\n",
              "      <td>1</td>\n",
              "      <td>1</td>\n",
              "      <td>0</td>\n",
              "      <td>0</td>\n",
              "      <td>1</td>\n",
              "      <td>2</td>\n",
              "      <td>0</td>\n",
              "      <td>0</td>\n",
              "      <td>...</td>\n",
              "      <td>0</td>\n",
              "      <td>0</td>\n",
              "      <td>0</td>\n",
              "      <td>0</td>\n",
              "      <td>0</td>\n",
              "      <td>0</td>\n",
              "      <td>0</td>\n",
              "      <td>0</td>\n",
              "      <td>0</td>\n",
              "      <td>0</td>\n",
              "    </tr>\n",
              "    <tr>\n",
              "      <th>5795</th>\n",
              "      <td>0</td>\n",
              "      <td>3</td>\n",
              "      <td>4</td>\n",
              "      <td>2</td>\n",
              "      <td>0</td>\n",
              "      <td>5</td>\n",
              "      <td>0</td>\n",
              "      <td>3</td>\n",
              "      <td>0</td>\n",
              "      <td>0</td>\n",
              "      <td>...</td>\n",
              "      <td>0</td>\n",
              "      <td>0</td>\n",
              "      <td>0</td>\n",
              "      <td>0</td>\n",
              "      <td>0</td>\n",
              "      <td>0</td>\n",
              "      <td>0</td>\n",
              "      <td>0</td>\n",
              "      <td>0</td>\n",
              "      <td>0</td>\n",
              "    </tr>\n",
              "  </tbody>\n",
              "</table>\n",
              "<p>5 rows × 2501 columns</p>\n",
              "</div>"
            ],
            "text/plain": [
              "        CATEGORY  0  1  2  3  4  5  6  7  8  ...  2490  2491  2492  2493  \\\n",
              "DOC_ID                                       ...                           \n",
              "5789           0  3  1  0  1  0  0  0  1  0  ...     0     0     0     0   \n",
              "5790           0  1  1  1  0  0  0  1  0  0  ...     0     0     0     0   \n",
              "5791           0  3  1  0  1  1  0  0  0  1  ...     0     0     0     0   \n",
              "5794           0  1  1  1  0  0  1  2  0  0  ...     0     0     0     0   \n",
              "5795           0  3  4  2  0  5  0  3  0  0  ...     0     0     0     0   \n",
              "\n",
              "        2494  2495  2496  2497  2498  2499  \n",
              "DOC_ID                                      \n",
              "5789       0     0     0     0     0     0  \n",
              "5790       0     0     0     0     0     0  \n",
              "5791       0     0     0     0     0     0  \n",
              "5794       0     0     0     0     0     0  \n",
              "5795       0     0     0     0     0     0  \n",
              "\n",
              "[5 rows x 2501 columns]"
            ]
          },
          "execution_count": 14,
          "metadata": {},
          "output_type": "execute_result"
        }
      ],
      "source": [
        "full_train_data.tail()"
      ]
    },
    {
      "cell_type": "markdown",
      "metadata": {
        "id": "GEwGjAW_tMrt"
      },
      "source": [
        "# Calculating the probability of spam"
      ]
    },
    {
      "cell_type": "code",
      "execution_count": null,
      "metadata": {
        "id": "maiuivA4tMrv",
        "outputId": "132ecc56-27cf-4ad0-9447-1533c2ab1a4a"
      },
      "outputs": [
        {
          "data": {
            "text/plain": [
              "4013"
            ]
          },
          "execution_count": 15,
          "metadata": {},
          "output_type": "execute_result"
        }
      ],
      "source": [
        "full_train_data.CATEGORY.size"
      ]
    },
    {
      "cell_type": "code",
      "execution_count": null,
      "metadata": {
        "id": "-TTYnHKHtMry",
        "outputId": "ed1ea60c-025b-4cad-828f-a14bb3428c03"
      },
      "outputs": [
        {
          "data": {
            "text/plain": [
              "1248"
            ]
          },
          "execution_count": 16,
          "metadata": {},
          "output_type": "execute_result"
        }
      ],
      "source": [
        "full_train_data.CATEGORY.sum()   # Since we categorized all spam emails using 1 "
      ]
    },
    {
      "cell_type": "code",
      "execution_count": null,
      "metadata": {
        "id": "1R8OmUD7tMr0",
        "outputId": "ff342546-ceac-43fb-f64b-98e294ea9f76"
      },
      "outputs": [
        {
          "name": "stdout",
          "output_type": "stream",
          "text": [
            "The probability of an email being spam is:  0.310989284824321\n"
          ]
        }
      ],
      "source": [
        "prob_spam = full_train_data.CATEGORY.sum()/full_train_data.CATEGORY.size\n",
        "print(\"The probability of an email being spam is: \", prob_spam)"
      ]
    },
    {
      "cell_type": "markdown",
      "metadata": {
        "id": "q84wGzsmtMr5"
      },
      "source": [
        "# Total Number of Words/Tokens"
      ]
    },
    {
      "cell_type": "code",
      "execution_count": null,
      "metadata": {
        "id": "PjWyAJJ6tMr6",
        "outputId": "fefdef1d-6b56-41e7-b968-0dc44b985d62"
      },
      "outputs": [
        {
          "data": {
            "text/html": [
              "<div>\n",
              "<style scoped>\n",
              "    .dataframe tbody tr th:only-of-type {\n",
              "        vertical-align: middle;\n",
              "    }\n",
              "\n",
              "    .dataframe tbody tr th {\n",
              "        vertical-align: top;\n",
              "    }\n",
              "\n",
              "    .dataframe thead th {\n",
              "        text-align: right;\n",
              "    }\n",
              "</style>\n",
              "<table border=\"1\" class=\"dataframe\">\n",
              "  <thead>\n",
              "    <tr style=\"text-align: right;\">\n",
              "      <th></th>\n",
              "      <th>0</th>\n",
              "      <th>1</th>\n",
              "      <th>2</th>\n",
              "      <th>3</th>\n",
              "      <th>4</th>\n",
              "      <th>5</th>\n",
              "      <th>6</th>\n",
              "      <th>7</th>\n",
              "      <th>8</th>\n",
              "      <th>9</th>\n",
              "      <th>...</th>\n",
              "      <th>2490</th>\n",
              "      <th>2491</th>\n",
              "      <th>2492</th>\n",
              "      <th>2493</th>\n",
              "      <th>2494</th>\n",
              "      <th>2495</th>\n",
              "      <th>2496</th>\n",
              "      <th>2497</th>\n",
              "      <th>2498</th>\n",
              "      <th>2499</th>\n",
              "    </tr>\n",
              "    <tr>\n",
              "      <th>DOC_ID</th>\n",
              "      <th></th>\n",
              "      <th></th>\n",
              "      <th></th>\n",
              "      <th></th>\n",
              "      <th></th>\n",
              "      <th></th>\n",
              "      <th></th>\n",
              "      <th></th>\n",
              "      <th></th>\n",
              "      <th></th>\n",
              "      <th></th>\n",
              "      <th></th>\n",
              "      <th></th>\n",
              "      <th></th>\n",
              "      <th></th>\n",
              "      <th></th>\n",
              "      <th></th>\n",
              "      <th></th>\n",
              "      <th></th>\n",
              "      <th></th>\n",
              "      <th></th>\n",
              "    </tr>\n",
              "  </thead>\n",
              "  <tbody>\n",
              "    <tr>\n",
              "      <th>0</th>\n",
              "      <td>0</td>\n",
              "      <td>0</td>\n",
              "      <td>1</td>\n",
              "      <td>2</td>\n",
              "      <td>1</td>\n",
              "      <td>0</td>\n",
              "      <td>0</td>\n",
              "      <td>3</td>\n",
              "      <td>0</td>\n",
              "      <td>0</td>\n",
              "      <td>...</td>\n",
              "      <td>0</td>\n",
              "      <td>0</td>\n",
              "      <td>0</td>\n",
              "      <td>0</td>\n",
              "      <td>0</td>\n",
              "      <td>0</td>\n",
              "      <td>0</td>\n",
              "      <td>0</td>\n",
              "      <td>0</td>\n",
              "      <td>0</td>\n",
              "    </tr>\n",
              "    <tr>\n",
              "      <th>1</th>\n",
              "      <td>7</td>\n",
              "      <td>1</td>\n",
              "      <td>2</td>\n",
              "      <td>0</td>\n",
              "      <td>1</td>\n",
              "      <td>0</td>\n",
              "      <td>0</td>\n",
              "      <td>1</td>\n",
              "      <td>0</td>\n",
              "      <td>0</td>\n",
              "      <td>...</td>\n",
              "      <td>0</td>\n",
              "      <td>0</td>\n",
              "      <td>0</td>\n",
              "      <td>0</td>\n",
              "      <td>0</td>\n",
              "      <td>0</td>\n",
              "      <td>0</td>\n",
              "      <td>0</td>\n",
              "      <td>0</td>\n",
              "      <td>0</td>\n",
              "    </tr>\n",
              "    <tr>\n",
              "      <th>2</th>\n",
              "      <td>6</td>\n",
              "      <td>1</td>\n",
              "      <td>1</td>\n",
              "      <td>0</td>\n",
              "      <td>1</td>\n",
              "      <td>0</td>\n",
              "      <td>0</td>\n",
              "      <td>1</td>\n",
              "      <td>0</td>\n",
              "      <td>0</td>\n",
              "      <td>...</td>\n",
              "      <td>0</td>\n",
              "      <td>0</td>\n",
              "      <td>0</td>\n",
              "      <td>0</td>\n",
              "      <td>0</td>\n",
              "      <td>0</td>\n",
              "      <td>0</td>\n",
              "      <td>0</td>\n",
              "      <td>0</td>\n",
              "      <td>0</td>\n",
              "    </tr>\n",
              "    <tr>\n",
              "      <th>3</th>\n",
              "      <td>6</td>\n",
              "      <td>0</td>\n",
              "      <td>0</td>\n",
              "      <td>2</td>\n",
              "      <td>4</td>\n",
              "      <td>0</td>\n",
              "      <td>3</td>\n",
              "      <td>14</td>\n",
              "      <td>0</td>\n",
              "      <td>0</td>\n",
              "      <td>...</td>\n",
              "      <td>0</td>\n",
              "      <td>0</td>\n",
              "      <td>0</td>\n",
              "      <td>0</td>\n",
              "      <td>0</td>\n",
              "      <td>0</td>\n",
              "      <td>0</td>\n",
              "      <td>0</td>\n",
              "      <td>0</td>\n",
              "      <td>0</td>\n",
              "    </tr>\n",
              "    <tr>\n",
              "      <th>4</th>\n",
              "      <td>5</td>\n",
              "      <td>1</td>\n",
              "      <td>2</td>\n",
              "      <td>0</td>\n",
              "      <td>1</td>\n",
              "      <td>0</td>\n",
              "      <td>0</td>\n",
              "      <td>1</td>\n",
              "      <td>0</td>\n",
              "      <td>0</td>\n",
              "      <td>...</td>\n",
              "      <td>0</td>\n",
              "      <td>0</td>\n",
              "      <td>0</td>\n",
              "      <td>0</td>\n",
              "      <td>0</td>\n",
              "      <td>0</td>\n",
              "      <td>0</td>\n",
              "      <td>0</td>\n",
              "      <td>0</td>\n",
              "      <td>0</td>\n",
              "    </tr>\n",
              "  </tbody>\n",
              "</table>\n",
              "<p>5 rows × 2500 columns</p>\n",
              "</div>"
            ],
            "text/plain": [
              "        0     1     2     3     4     5     6     7     8     9     ...  2490  \\\n",
              "DOC_ID                                                              ...         \n",
              "0          0     0     1     2     1     0     0     3     0     0  ...     0   \n",
              "1          7     1     2     0     1     0     0     1     0     0  ...     0   \n",
              "2          6     1     1     0     1     0     0     1     0     0  ...     0   \n",
              "3          6     0     0     2     4     0     3    14     0     0  ...     0   \n",
              "4          5     1     2     0     1     0     0     1     0     0  ...     0   \n",
              "\n",
              "        2491  2492  2493  2494  2495  2496  2497  2498  2499  \n",
              "DOC_ID                                                        \n",
              "0          0     0     0     0     0     0     0     0     0  \n",
              "1          0     0     0     0     0     0     0     0     0  \n",
              "2          0     0     0     0     0     0     0     0     0  \n",
              "3          0     0     0     0     0     0     0     0     0  \n",
              "4          0     0     0     0     0     0     0     0     0  \n",
              "\n",
              "[5 rows x 2500 columns]"
            ]
          },
          "execution_count": 18,
          "metadata": {},
          "output_type": "execute_result"
        }
      ],
      "source": [
        "full_train_features = full_train_data.loc[:, full_train_data.columns != 'CATEGORY']\n",
        "full_train_features.head()"
      ]
    },
    {
      "cell_type": "code",
      "execution_count": null,
      "metadata": {
        "id": "IQWn9AbwtMr8",
        "outputId": "8745bb5f-59e8-45a0-daf6-aaf3475494f9"
      },
      "outputs": [
        {
          "data": {
            "text/plain": [
              "DOC_ID\n",
              "0     87\n",
              "1     53\n",
              "2     40\n",
              "3    183\n",
              "4     43\n",
              "dtype: int64"
            ]
          },
          "execution_count": 19,
          "metadata": {},
          "output_type": "execute_result"
        }
      ],
      "source": [
        "email_lengths = full_train_features.sum(axis = 1)\n",
        "email_lengths[:5]"
      ]
    },
    {
      "cell_type": "code",
      "execution_count": null,
      "metadata": {
        "id": "9O5Q63aBtMr-",
        "outputId": "eb6ce51e-b6be-45e5-fec8-6b9536de60d3"
      },
      "outputs": [
        {
          "data": {
            "text/plain": [
              "429246"
            ]
          },
          "execution_count": 20,
          "metadata": {},
          "output_type": "execute_result"
        }
      ],
      "source": [
        "total_wc = email_lengths.sum() \n",
        "total_wc"
      ]
    },
    {
      "cell_type": "markdown",
      "metadata": {
        "id": "Dw8W9b1UtMsA"
      },
      "source": [
        "# Number of Words/Tokens in spam and legit mails"
      ]
    },
    {
      "cell_type": "code",
      "execution_count": null,
      "metadata": {
        "id": "H_-NAdtDtMsB",
        "outputId": "637cfb61-a88b-4e5c-93f8-0f532d980c6a"
      },
      "outputs": [
        {
          "data": {
            "text/plain": [
              "(1248,)"
            ]
          },
          "execution_count": 21,
          "metadata": {},
          "output_type": "execute_result"
        }
      ],
      "source": [
        "spam_lengths = email_lengths[full_train_data.CATEGORY == 1]\n",
        "spam_lengths.shape"
      ]
    },
    {
      "cell_type": "code",
      "execution_count": null,
      "metadata": {
        "id": "I-TYNxortMsD",
        "outputId": "fe31ac01-226b-4971-d8b3-8f09ae2b0063"
      },
      "outputs": [
        {
          "data": {
            "text/plain": [
              "176336"
            ]
          },
          "execution_count": 22,
          "metadata": {},
          "output_type": "execute_result"
        }
      ],
      "source": [
        "spam_wc = spam_lengths.sum()\n",
        "spam_wc"
      ]
    },
    {
      "cell_type": "code",
      "execution_count": null,
      "metadata": {
        "id": "b3Yz1xVWtMsE",
        "outputId": "0164fbb0-f9f5-4d5c-e57f-41ec15a19433"
      },
      "outputs": [
        {
          "data": {
            "text/plain": [
              "(2765,)"
            ]
          },
          "execution_count": 23,
          "metadata": {},
          "output_type": "execute_result"
        }
      ],
      "source": [
        "ham_lengths = email_lengths[full_train_data.CATEGORY == 0]\n",
        "ham_lengths.shape"
      ]
    },
    {
      "cell_type": "code",
      "execution_count": null,
      "metadata": {
        "id": "IL4v32nZtMsH",
        "outputId": "ffa86f0c-8a5d-4626-de12-8d04d64c53f8"
      },
      "outputs": [
        {
          "data": {
            "text/plain": [
              "252910"
            ]
          },
          "execution_count": 24,
          "metadata": {},
          "output_type": "execute_result"
        }
      ],
      "source": [
        "ham_wc = ham_lengths.sum()\n",
        "ham_wc"
      ]
    },
    {
      "cell_type": "code",
      "execution_count": null,
      "metadata": {
        "id": "3NPZYOcCtMsK",
        "outputId": "989f5555-912a-45e2-c265-2898196dcda3"
      },
      "outputs": [
        {
          "data": {
            "text/plain": [
              "0"
            ]
          },
          "execution_count": 25,
          "metadata": {},
          "output_type": "execute_result"
        }
      ],
      "source": [
        "email_lengths.shape[0] - spam_lengths.shape[0] - ham_lengths.shape[0]"
      ]
    },
    {
      "cell_type": "code",
      "execution_count": null,
      "metadata": {
        "id": "97_ey0VStMsM",
        "outputId": "efab1622-c3d3-43bd-88ee-961aeb3f887f"
      },
      "outputs": [
        {
          "name": "stdout",
          "output_type": "stream",
          "text": [
            "Average number of words in our spam emails 141\n",
            "Average number of words in our non-spam emails: 91\n"
          ]
        }
      ],
      "source": [
        "print('Average number of words in our spam emails {:.0f}'.format(spam_wc / spam_lengths.shape[0]))\n",
        "print('Average number of words in our non-spam emails: {:.0f}'.format(ham_wc / ham_lengths.shape[0]))"
      ]
    },
    {
      "cell_type": "markdown",
      "metadata": {
        "id": "w5VIn0vBtMsO"
      },
      "source": [
        "As evident, spam emails tend to be longer than the rest."
      ]
    },
    {
      "cell_type": "markdown",
      "metadata": {
        "id": "NIBN69eitMsP"
      },
      "source": [
        "## Sum of tokens occuring in spam messages"
      ]
    },
    {
      "cell_type": "code",
      "execution_count": null,
      "metadata": {
        "id": "dbX9BqettMsQ",
        "outputId": "a3001997-8a48-463e-d118-fb1b60dd34fa"
      },
      "outputs": [
        {
          "data": {
            "text/plain": [
              "(4013, 2500)"
            ]
          },
          "execution_count": 27,
          "metadata": {},
          "output_type": "execute_result"
        }
      ],
      "source": [
        "full_train_features.shape"
      ]
    },
    {
      "cell_type": "code",
      "execution_count": null,
      "metadata": {
        "id": "8V3_g7LltMsS"
      },
      "outputs": [],
      "source": [
        "train_spam_tokens = full_train_features.loc[full_train_data.CATEGORY == 1]"
      ]
    },
    {
      "cell_type": "code",
      "execution_count": null,
      "metadata": {
        "id": "IV9VAs-vtMsT",
        "outputId": "ac1471ca-8ffc-4eb0-97d4-71de596bd13c"
      },
      "outputs": [
        {
          "data": {
            "text/html": [
              "<div>\n",
              "<style scoped>\n",
              "    .dataframe tbody tr th:only-of-type {\n",
              "        vertical-align: middle;\n",
              "    }\n",
              "\n",
              "    .dataframe tbody tr th {\n",
              "        vertical-align: top;\n",
              "    }\n",
              "\n",
              "    .dataframe thead th {\n",
              "        text-align: right;\n",
              "    }\n",
              "</style>\n",
              "<table border=\"1\" class=\"dataframe\">\n",
              "  <thead>\n",
              "    <tr style=\"text-align: right;\">\n",
              "      <th></th>\n",
              "      <th>0</th>\n",
              "      <th>1</th>\n",
              "      <th>2</th>\n",
              "      <th>3</th>\n",
              "      <th>4</th>\n",
              "      <th>5</th>\n",
              "      <th>6</th>\n",
              "      <th>7</th>\n",
              "      <th>8</th>\n",
              "      <th>9</th>\n",
              "      <th>...</th>\n",
              "      <th>2490</th>\n",
              "      <th>2491</th>\n",
              "      <th>2492</th>\n",
              "      <th>2493</th>\n",
              "      <th>2494</th>\n",
              "      <th>2495</th>\n",
              "      <th>2496</th>\n",
              "      <th>2497</th>\n",
              "      <th>2498</th>\n",
              "      <th>2499</th>\n",
              "    </tr>\n",
              "    <tr>\n",
              "      <th>DOC_ID</th>\n",
              "      <th></th>\n",
              "      <th></th>\n",
              "      <th></th>\n",
              "      <th></th>\n",
              "      <th></th>\n",
              "      <th></th>\n",
              "      <th></th>\n",
              "      <th></th>\n",
              "      <th></th>\n",
              "      <th></th>\n",
              "      <th></th>\n",
              "      <th></th>\n",
              "      <th></th>\n",
              "      <th></th>\n",
              "      <th></th>\n",
              "      <th></th>\n",
              "      <th></th>\n",
              "      <th></th>\n",
              "      <th></th>\n",
              "      <th></th>\n",
              "      <th></th>\n",
              "    </tr>\n",
              "  </thead>\n",
              "  <tbody>\n",
              "    <tr>\n",
              "      <th>0</th>\n",
              "      <td>0</td>\n",
              "      <td>0</td>\n",
              "      <td>1</td>\n",
              "      <td>2</td>\n",
              "      <td>1</td>\n",
              "      <td>0</td>\n",
              "      <td>0</td>\n",
              "      <td>3</td>\n",
              "      <td>0</td>\n",
              "      <td>0</td>\n",
              "      <td>...</td>\n",
              "      <td>0</td>\n",
              "      <td>0</td>\n",
              "      <td>0</td>\n",
              "      <td>0</td>\n",
              "      <td>0</td>\n",
              "      <td>0</td>\n",
              "      <td>0</td>\n",
              "      <td>0</td>\n",
              "      <td>0</td>\n",
              "      <td>0</td>\n",
              "    </tr>\n",
              "    <tr>\n",
              "      <th>1</th>\n",
              "      <td>7</td>\n",
              "      <td>1</td>\n",
              "      <td>2</td>\n",
              "      <td>0</td>\n",
              "      <td>1</td>\n",
              "      <td>0</td>\n",
              "      <td>0</td>\n",
              "      <td>1</td>\n",
              "      <td>0</td>\n",
              "      <td>0</td>\n",
              "      <td>...</td>\n",
              "      <td>0</td>\n",
              "      <td>0</td>\n",
              "      <td>0</td>\n",
              "      <td>0</td>\n",
              "      <td>0</td>\n",
              "      <td>0</td>\n",
              "      <td>0</td>\n",
              "      <td>0</td>\n",
              "      <td>0</td>\n",
              "      <td>0</td>\n",
              "    </tr>\n",
              "    <tr>\n",
              "      <th>2</th>\n",
              "      <td>6</td>\n",
              "      <td>1</td>\n",
              "      <td>1</td>\n",
              "      <td>0</td>\n",
              "      <td>1</td>\n",
              "      <td>0</td>\n",
              "      <td>0</td>\n",
              "      <td>1</td>\n",
              "      <td>0</td>\n",
              "      <td>0</td>\n",
              "      <td>...</td>\n",
              "      <td>0</td>\n",
              "      <td>0</td>\n",
              "      <td>0</td>\n",
              "      <td>0</td>\n",
              "      <td>0</td>\n",
              "      <td>0</td>\n",
              "      <td>0</td>\n",
              "      <td>0</td>\n",
              "      <td>0</td>\n",
              "      <td>0</td>\n",
              "    </tr>\n",
              "    <tr>\n",
              "      <th>3</th>\n",
              "      <td>6</td>\n",
              "      <td>0</td>\n",
              "      <td>0</td>\n",
              "      <td>2</td>\n",
              "      <td>4</td>\n",
              "      <td>0</td>\n",
              "      <td>3</td>\n",
              "      <td>14</td>\n",
              "      <td>0</td>\n",
              "      <td>0</td>\n",
              "      <td>...</td>\n",
              "      <td>0</td>\n",
              "      <td>0</td>\n",
              "      <td>0</td>\n",
              "      <td>0</td>\n",
              "      <td>0</td>\n",
              "      <td>0</td>\n",
              "      <td>0</td>\n",
              "      <td>0</td>\n",
              "      <td>0</td>\n",
              "      <td>0</td>\n",
              "    </tr>\n",
              "    <tr>\n",
              "      <th>4</th>\n",
              "      <td>5</td>\n",
              "      <td>1</td>\n",
              "      <td>2</td>\n",
              "      <td>0</td>\n",
              "      <td>1</td>\n",
              "      <td>0</td>\n",
              "      <td>0</td>\n",
              "      <td>1</td>\n",
              "      <td>0</td>\n",
              "      <td>0</td>\n",
              "      <td>...</td>\n",
              "      <td>0</td>\n",
              "      <td>0</td>\n",
              "      <td>0</td>\n",
              "      <td>0</td>\n",
              "      <td>0</td>\n",
              "      <td>0</td>\n",
              "      <td>0</td>\n",
              "      <td>0</td>\n",
              "      <td>0</td>\n",
              "      <td>0</td>\n",
              "    </tr>\n",
              "  </tbody>\n",
              "</table>\n",
              "<p>5 rows × 2500 columns</p>\n",
              "</div>"
            ],
            "text/plain": [
              "        0     1     2     3     4     5     6     7     8     9     ...  2490  \\\n",
              "DOC_ID                                                              ...         \n",
              "0          0     0     1     2     1     0     0     3     0     0  ...     0   \n",
              "1          7     1     2     0     1     0     0     1     0     0  ...     0   \n",
              "2          6     1     1     0     1     0     0     1     0     0  ...     0   \n",
              "3          6     0     0     2     4     0     3    14     0     0  ...     0   \n",
              "4          5     1     2     0     1     0     0     1     0     0  ...     0   \n",
              "\n",
              "        2491  2492  2493  2494  2495  2496  2497  2498  2499  \n",
              "DOC_ID                                                        \n",
              "0          0     0     0     0     0     0     0     0     0  \n",
              "1          0     0     0     0     0     0     0     0     0  \n",
              "2          0     0     0     0     0     0     0     0     0  \n",
              "3          0     0     0     0     0     0     0     0     0  \n",
              "4          0     0     0     0     0     0     0     0     0  \n",
              "\n",
              "[5 rows x 2500 columns]"
            ]
          },
          "execution_count": 34,
          "metadata": {},
          "output_type": "execute_result"
        }
      ],
      "source": [
        "train_spam_tokens.head()"
      ]
    },
    {
      "cell_type": "code",
      "execution_count": null,
      "metadata": {
        "id": "7Q_RhakztMsU",
        "outputId": "134bf390-0751-4ca8-a4ce-6f35895339a5"
      },
      "outputs": [
        {
          "data": {
            "text/html": [
              "<div>\n",
              "<style scoped>\n",
              "    .dataframe tbody tr th:only-of-type {\n",
              "        vertical-align: middle;\n",
              "    }\n",
              "\n",
              "    .dataframe tbody tr th {\n",
              "        vertical-align: top;\n",
              "    }\n",
              "\n",
              "    .dataframe thead th {\n",
              "        text-align: right;\n",
              "    }\n",
              "</style>\n",
              "<table border=\"1\" class=\"dataframe\">\n",
              "  <thead>\n",
              "    <tr style=\"text-align: right;\">\n",
              "      <th></th>\n",
              "      <th>0</th>\n",
              "      <th>1</th>\n",
              "      <th>2</th>\n",
              "      <th>3</th>\n",
              "      <th>4</th>\n",
              "      <th>5</th>\n",
              "      <th>6</th>\n",
              "      <th>7</th>\n",
              "      <th>8</th>\n",
              "      <th>9</th>\n",
              "      <th>...</th>\n",
              "      <th>2490</th>\n",
              "      <th>2491</th>\n",
              "      <th>2492</th>\n",
              "      <th>2493</th>\n",
              "      <th>2494</th>\n",
              "      <th>2495</th>\n",
              "      <th>2496</th>\n",
              "      <th>2497</th>\n",
              "      <th>2498</th>\n",
              "      <th>2499</th>\n",
              "    </tr>\n",
              "    <tr>\n",
              "      <th>DOC_ID</th>\n",
              "      <th></th>\n",
              "      <th></th>\n",
              "      <th></th>\n",
              "      <th></th>\n",
              "      <th></th>\n",
              "      <th></th>\n",
              "      <th></th>\n",
              "      <th></th>\n",
              "      <th></th>\n",
              "      <th></th>\n",
              "      <th></th>\n",
              "      <th></th>\n",
              "      <th></th>\n",
              "      <th></th>\n",
              "      <th></th>\n",
              "      <th></th>\n",
              "      <th></th>\n",
              "      <th></th>\n",
              "      <th></th>\n",
              "      <th></th>\n",
              "      <th></th>\n",
              "    </tr>\n",
              "  </thead>\n",
              "  <tbody>\n",
              "    <tr>\n",
              "      <th>1885</th>\n",
              "      <td>1</td>\n",
              "      <td>0</td>\n",
              "      <td>0</td>\n",
              "      <td>2</td>\n",
              "      <td>0</td>\n",
              "      <td>1</td>\n",
              "      <td>0</td>\n",
              "      <td>0</td>\n",
              "      <td>0</td>\n",
              "      <td>0</td>\n",
              "      <td>...</td>\n",
              "      <td>0</td>\n",
              "      <td>0</td>\n",
              "      <td>0</td>\n",
              "      <td>0</td>\n",
              "      <td>0</td>\n",
              "      <td>0</td>\n",
              "      <td>0</td>\n",
              "      <td>0</td>\n",
              "      <td>0</td>\n",
              "      <td>0</td>\n",
              "    </tr>\n",
              "    <tr>\n",
              "      <th>1887</th>\n",
              "      <td>2</td>\n",
              "      <td>0</td>\n",
              "      <td>0</td>\n",
              "      <td>0</td>\n",
              "      <td>0</td>\n",
              "      <td>0</td>\n",
              "      <td>0</td>\n",
              "      <td>0</td>\n",
              "      <td>0</td>\n",
              "      <td>0</td>\n",
              "      <td>...</td>\n",
              "      <td>0</td>\n",
              "      <td>0</td>\n",
              "      <td>0</td>\n",
              "      <td>0</td>\n",
              "      <td>0</td>\n",
              "      <td>0</td>\n",
              "      <td>0</td>\n",
              "      <td>0</td>\n",
              "      <td>0</td>\n",
              "      <td>0</td>\n",
              "    </tr>\n",
              "    <tr>\n",
              "      <th>1889</th>\n",
              "      <td>0</td>\n",
              "      <td>0</td>\n",
              "      <td>0</td>\n",
              "      <td>0</td>\n",
              "      <td>0</td>\n",
              "      <td>0</td>\n",
              "      <td>0</td>\n",
              "      <td>0</td>\n",
              "      <td>1</td>\n",
              "      <td>0</td>\n",
              "      <td>...</td>\n",
              "      <td>0</td>\n",
              "      <td>0</td>\n",
              "      <td>0</td>\n",
              "      <td>0</td>\n",
              "      <td>0</td>\n",
              "      <td>0</td>\n",
              "      <td>0</td>\n",
              "      <td>0</td>\n",
              "      <td>0</td>\n",
              "      <td>0</td>\n",
              "    </tr>\n",
              "    <tr>\n",
              "      <th>1890</th>\n",
              "      <td>2</td>\n",
              "      <td>0</td>\n",
              "      <td>0</td>\n",
              "      <td>0</td>\n",
              "      <td>1</td>\n",
              "      <td>0</td>\n",
              "      <td>0</td>\n",
              "      <td>2</td>\n",
              "      <td>0</td>\n",
              "      <td>0</td>\n",
              "      <td>...</td>\n",
              "      <td>0</td>\n",
              "      <td>0</td>\n",
              "      <td>0</td>\n",
              "      <td>0</td>\n",
              "      <td>0</td>\n",
              "      <td>0</td>\n",
              "      <td>0</td>\n",
              "      <td>0</td>\n",
              "      <td>0</td>\n",
              "      <td>0</td>\n",
              "    </tr>\n",
              "    <tr>\n",
              "      <th>1895</th>\n",
              "      <td>1</td>\n",
              "      <td>1</td>\n",
              "      <td>1</td>\n",
              "      <td>0</td>\n",
              "      <td>0</td>\n",
              "      <td>0</td>\n",
              "      <td>0</td>\n",
              "      <td>0</td>\n",
              "      <td>0</td>\n",
              "      <td>0</td>\n",
              "      <td>...</td>\n",
              "      <td>0</td>\n",
              "      <td>0</td>\n",
              "      <td>0</td>\n",
              "      <td>0</td>\n",
              "      <td>0</td>\n",
              "      <td>0</td>\n",
              "      <td>0</td>\n",
              "      <td>0</td>\n",
              "      <td>0</td>\n",
              "      <td>0</td>\n",
              "    </tr>\n",
              "  </tbody>\n",
              "</table>\n",
              "<p>5 rows × 2500 columns</p>\n",
              "</div>"
            ],
            "text/plain": [
              "        0     1     2     3     4     5     6     7     8     9     ...  2490  \\\n",
              "DOC_ID                                                              ...         \n",
              "1885       1     0     0     2     0     1     0     0     0     0  ...     0   \n",
              "1887       2     0     0     0     0     0     0     0     0     0  ...     0   \n",
              "1889       0     0     0     0     0     0     0     0     1     0  ...     0   \n",
              "1890       2     0     0     0     1     0     0     2     0     0  ...     0   \n",
              "1895       1     1     1     0     0     0     0     0     0     0  ...     0   \n",
              "\n",
              "        2491  2492  2493  2494  2495  2496  2497  2498  2499  \n",
              "DOC_ID                                                        \n",
              "1885       0     0     0     0     0     0     0     0     0  \n",
              "1887       0     0     0     0     0     0     0     0     0  \n",
              "1889       0     0     0     0     0     0     0     0     0  \n",
              "1890       0     0     0     0     0     0     0     0     0  \n",
              "1895       0     0     0     0     0     0     0     0     0  \n",
              "\n",
              "[5 rows x 2500 columns]"
            ]
          },
          "execution_count": 35,
          "metadata": {},
          "output_type": "execute_result"
        }
      ],
      "source": [
        "train_spam_tokens.tail()"
      ]
    },
    {
      "cell_type": "code",
      "execution_count": null,
      "metadata": {
        "id": "IVLfXO0mtMsW"
      },
      "outputs": [],
      "source": [
        "summed_spam_tokens = train_spam_tokens.sum(axis = 0) + 1   "
      ]
    },
    {
      "cell_type": "markdown",
      "metadata": {
        "id": "p7uAT2nttMsZ"
      },
      "source": [
        "**NOTE:** The reason for adding a 1 here is that the Bayes' Theorem involves quite a few multiplication and division operations, and since the tokens we are dealing with are the most frequent tokens across both spam and non-spam messages, if a token occurs in non-spam messages but does not occur even once in the spam messages, its total count will be reflected as 0 in the formula, giving us a '0' or an undefined value as the probability. \n",
        "\n",
        "This technique of adding a 1 to all entries to prevent the 0/undefined situation was introduced by the french mathematician Laplace and is known as Laplace's Smoothing"
      ]
    },
    {
      "cell_type": "code",
      "execution_count": null,
      "metadata": {
        "id": "vDRri3ButMsb",
        "outputId": "3cda49cf-7cc2-4222-df49-22d8f2daffb1"
      },
      "outputs": [
        {
          "data": {
            "text/plain": [
              "0    2179\n",
              "1     935\n",
              "2    1217\n",
              "3    2022\n",
              "4    1219\n",
              "dtype: int64"
            ]
          },
          "execution_count": 38,
          "metadata": {},
          "output_type": "execute_result"
        }
      ],
      "source": [
        "summed_spam_tokens.head()"
      ]
    },
    {
      "cell_type": "code",
      "execution_count": null,
      "metadata": {
        "id": "c6fI6JhGtMsd",
        "outputId": "55cf9aae-3cac-48f6-8186-d199c53fa6b2"
      },
      "outputs": [
        {
          "data": {
            "text/plain": [
              "2495     6\n",
              "2496     6\n",
              "2497     9\n",
              "2498    23\n",
              "2499     1\n",
              "dtype: int64"
            ]
          },
          "execution_count": 37,
          "metadata": {},
          "output_type": "execute_result"
        }
      ],
      "source": [
        "summed_spam_tokens.tail()"
      ]
    },
    {
      "cell_type": "markdown",
      "metadata": {
        "id": "VIGJjsy0tMse"
      },
      "source": [
        "As evident from the cell above, the word with 'word_id = 2499', did not occur in any of the spam emails and would have led to the breakdown of our model, Laplace's smoothing saved the day for us. "
      ]
    },
    {
      "cell_type": "markdown",
      "metadata": {
        "id": "DpTlYW5FtMsf"
      },
      "source": [
        "## Sum of tokens occuring in non-spam messages"
      ]
    },
    {
      "cell_type": "code",
      "execution_count": null,
      "metadata": {
        "id": "btGG7MaKtMsg",
        "outputId": "3886d2f2-041b-40ca-ab64-ddc449a78b94"
      },
      "outputs": [
        {
          "data": {
            "text/plain": [
              "(2500,)"
            ]
          },
          "execution_count": 44,
          "metadata": {},
          "output_type": "execute_result"
        }
      ],
      "source": [
        "train_ham_tokens = full_train_features.loc[full_train_data.CATEGORY == 0]\n",
        "summed_ham_tokens = train_ham_tokens.sum(axis = 0) + 1\n",
        "summed_ham_tokens.shape"
      ]
    },
    {
      "cell_type": "code",
      "execution_count": null,
      "metadata": {
        "id": "Fq3j1nA3tMsh",
        "outputId": "873dce7f-81f4-4639-d86e-bb391e82bf97"
      },
      "outputs": [
        {
          "data": {
            "text/plain": [
              "0    5484\n",
              "1    2590\n",
              "2    2045\n",
              "3     938\n",
              "4    1612\n",
              "dtype: int64"
            ]
          },
          "execution_count": 45,
          "metadata": {},
          "output_type": "execute_result"
        }
      ],
      "source": [
        "summed_ham_tokens.head()"
      ]
    },
    {
      "cell_type": "code",
      "execution_count": null,
      "metadata": {
        "id": "JltFA2attMsi",
        "outputId": "8eb19aff-cd5f-4293-c055-2b59113be724"
      },
      "outputs": [
        {
          "data": {
            "text/plain": [
              "2495    25\n",
              "2496    25\n",
              "2497    26\n",
              "2498     9\n",
              "2499    29\n",
              "dtype: int64"
            ]
          },
          "execution_count": 46,
          "metadata": {},
          "output_type": "execute_result"
        }
      ],
      "source": [
        "summed_ham_tokens.tail()"
      ]
    },
    {
      "cell_type": "markdown",
      "metadata": {
        "id": "4BBe6VyRtMsj"
      },
      "source": [
        "## P(Tokens | Spam) : Probability of occurence of a token, given that the email is spam"
      ]
    },
    {
      "cell_type": "code",
      "execution_count": null,
      "metadata": {
        "id": "HboxeX7vtMsj",
        "outputId": "6d002a57-398f-4a33-900b-d2658abbf8f0"
      },
      "outputs": [
        {
          "data": {
            "text/plain": [
              "0    0.012184\n",
              "1    0.005228\n",
              "2    0.006805\n",
              "3    0.011306\n",
              "4    0.006816\n",
              "dtype: float64"
            ]
          },
          "execution_count": 47,
          "metadata": {},
          "output_type": "execute_result"
        }
      ],
      "source": [
        "prob_tokens_spam = summed_spam_tokens / (spam_wc + VOCAB_SIZE)\n",
        "prob_tokens_spam[:5]"
      ]
    },
    {
      "cell_type": "code",
      "execution_count": null,
      "metadata": {
        "id": "LNAy_ZBetMsl",
        "outputId": "75537645-ed8d-41bf-8b1b-e8b8c44e1e3a"
      },
      "outputs": [
        {
          "data": {
            "text/plain": [
              "1.0"
            ]
          },
          "execution_count": 48,
          "metadata": {},
          "output_type": "execute_result"
        }
      ],
      "source": [
        "prob_tokens_spam.sum()"
      ]
    },
    {
      "cell_type": "markdown",
      "metadata": {
        "id": "IIHt7aWTtMsm"
      },
      "source": [
        "**NOTE:** By adding the vocabulary size, we are accounting for the usage of Laplace's smoothing. This step signifies the addition of 1 for every word in the dataset, just like how we added a 1 to the frequency of the token we are dealing with. "
      ]
    },
    {
      "cell_type": "markdown",
      "metadata": {
        "id": "RlYJU1VptMso"
      },
      "source": [
        "## P(Tokens | Non-spam) : Probability of occurence of a token, given that the email is non-spam"
      ]
    },
    {
      "cell_type": "code",
      "execution_count": null,
      "metadata": {
        "id": "fa1PJ-MttMsq",
        "outputId": "d5ca175d-055b-444c-83c7-03c3927d8076"
      },
      "outputs": [
        {
          "data": {
            "text/plain": [
              "0    0.021471\n",
              "1    0.010141\n",
              "2    0.008007\n",
              "3    0.003673\n",
              "4    0.006311\n",
              "dtype: float64"
            ]
          },
          "execution_count": 49,
          "metadata": {},
          "output_type": "execute_result"
        }
      ],
      "source": [
        "prob_tokens_ham = summed_ham_tokens / (ham_wc + VOCAB_SIZE)\n",
        "prob_tokens_ham[:5]"
      ]
    },
    {
      "cell_type": "code",
      "execution_count": null,
      "metadata": {
        "id": "rpZP9zlItMst",
        "outputId": "0ba213c6-1a12-49b8-d8a4-61d49fbe8e62"
      },
      "outputs": [
        {
          "data": {
            "text/plain": [
              "0.9999999999999999"
            ]
          },
          "execution_count": 50,
          "metadata": {},
          "output_type": "execute_result"
        }
      ],
      "source": [
        "prob_tokens_ham.sum()"
      ]
    },
    {
      "cell_type": "markdown",
      "metadata": {
        "id": "DnMqSjkrtMsv"
      },
      "source": [
        "## P(Token) : Probability of occurence of a token"
      ]
    },
    {
      "cell_type": "code",
      "execution_count": null,
      "metadata": {
        "id": "OqtRUisRtMsx",
        "outputId": "0f154d20-6bc4-41b3-fbc5-c3f5936be36c"
      },
      "outputs": [
        {
          "data": {
            "text/plain": [
              "1.0"
            ]
          },
          "execution_count": 53,
          "metadata": {},
          "output_type": "execute_result"
        }
      ],
      "source": [
        "prob_tokens_all = full_train_features.sum(axis = 0) / total_wc\n",
        "prob_tokens_all.sum()"
      ]
    },
    {
      "cell_type": "markdown",
      "metadata": {
        "id": "gIl0c5R7tMsy"
      },
      "source": [
        "**NOTE:** This step here does not require Laplace's smoothing because we are guranteed that the 2500 most frequent words that were derived from the email messages themselves, occur atleast once in the overall dataset of all the emails."
      ]
    },
    {
      "cell_type": "markdown",
      "metadata": {
        "id": "DYvviwv7tMsz"
      },
      "source": [
        "# Save the Trained Model"
      ]
    },
    {
      "cell_type": "code",
      "execution_count": null,
      "metadata": {
        "id": "rulh7mthtMsz"
      },
      "outputs": [],
      "source": [
        "np.savetxt(TOKEN_SPAM_PROB_FILE, prob_tokens_spam)\n",
        "np.savetxt(TOKEN_HAM_PROB_FILE, prob_tokens_ham)\n",
        "np.savetxt(TOKEN_ALL_PROB_FILE, prob_tokens_all)"
      ]
    },
    {
      "cell_type": "markdown",
      "metadata": {
        "id": "7LYd7LsVtMs0"
      },
      "source": [
        "## Prepare Test Data"
      ]
    },
    {
      "cell_type": "code",
      "execution_count": null,
      "metadata": {
        "id": "slsXJ41rtMs1",
        "outputId": "4abd4348-d890-43b9-d9fc-49484d507914"
      },
      "outputs": [
        {
          "name": "stdout",
          "output_type": "stream",
          "text": [
            "Wall time: 4.05 s\n"
          ]
        }
      ],
      "source": [
        "%%time\n",
        "full_test_data = make_full_matrix(sparse_test_data, nr_words = VOCAB_SIZE)"
      ]
    },
    {
      "cell_type": "code",
      "execution_count": null,
      "metadata": {
        "id": "3MXZR0AStMs2"
      },
      "outputs": [],
      "source": [
        "X_test = full_test_data.loc[:, full_test_data.columns != 'CATEGORY']\n",
        "y_test = full_test_data.CATEGORY"
      ]
    },
    {
      "cell_type": "code",
      "execution_count": null,
      "metadata": {
        "id": "mW_dumjltMs3"
      },
      "outputs": [],
      "source": [
        "np.savetxt(TEST_TARGET_FILE, y_test)"
      ]
    },
    {
      "cell_type": "code",
      "execution_count": null,
      "metadata": {
        "id": "jhilO57FtMs4"
      },
      "outputs": [],
      "source": [
        "np.savetxt(TEST_FEATURE_MATRIX, X_test)"
      ]
    },
    {
      "cell_type": "markdown",
      "source": [
        "# Testing"
      ],
      "metadata": {
        "id": "B814E8qMt4DH"
      }
    },
    {
      "cell_type": "markdown",
      "metadata": {
        "id": "OAUxabhBtoeK"
      },
      "source": [
        "# Notebook Imports"
      ]
    },
    {
      "cell_type": "code",
      "execution_count": null,
      "metadata": {
        "id": "8oLVMZ7otoeV"
      },
      "outputs": [],
      "source": [
        "import numpy as np\n",
        "import pandas as pd\n",
        "import matplotlib.pyplot as plt\n",
        "import seaborn as sns\n",
        "\n",
        "%matplotlib inline"
      ]
    },
    {
      "cell_type": "markdown",
      "metadata": {
        "id": "om_7Y9sVtoeZ"
      },
      "source": [
        "# Constants"
      ]
    },
    {
      "cell_type": "code",
      "execution_count": null,
      "metadata": {
        "id": "Cv4oj_drtoea"
      },
      "outputs": [],
      "source": [
        "TOKEN_SPAM_PROB_FILE = 'SpamData/03_Testing/prob-spam.txt'\n",
        "TOKEN_HAM_PROB_FILE = 'SpamData/03_Testing/prob-ham.txt'\n",
        "TOKEN_ALL_PROB_FILE = 'SpamData/03_Testing/prob-all.txt'\n",
        "\n",
        "TEST_FEATURE_MATRIX = 'SpamData/03_Testing/test-features.txt'\n",
        "TEST_TARGET_FILE =  'SpamData/03_Testing/test-target.txt'\n",
        "\n",
        "SPAM_CAT = 1\n",
        "HAM_CAT = 0\n",
        "VOCAB_SIZE = 2500"
      ]
    },
    {
      "cell_type": "markdown",
      "metadata": {
        "id": "YJD4PWt5toec"
      },
      "source": [
        "# Load the data"
      ]
    },
    {
      "cell_type": "code",
      "execution_count": null,
      "metadata": {
        "id": "FyRazfigtoed"
      },
      "outputs": [],
      "source": [
        "#Features\n",
        "X_test = np.loadtxt(TEST_FEATURE_MATRIX, delimiter = ' ')\n",
        "\n",
        "#Targets\n",
        "y_test = np.loadtxt(TEST_TARGET_FILE, delimiter = ' ')\n",
        "\n",
        "#Token probabilities\n",
        "prob_token_spam = np.loadtxt(TOKEN_SPAM_PROB_FILE, delimiter = ' ')\n",
        "prob_token_ham = np.loadtxt(TOKEN_HAM_PROB_FILE, delimiter = ' ')\n",
        "prob_all_tokens = np.loadtxt(TOKEN_ALL_PROB_FILE, delimiter = ' ')"
      ]
    },
    {
      "cell_type": "markdown",
      "metadata": {
        "id": "t3Nomyh8toee"
      },
      "source": [
        "# Naive Bayes and Joint Probability\n",
        "\n",
        "Using the Naive Bayes algorithm meant that the probabilities of an email being spam given it has a particular word in it is independent of the presence of any other word in the same email. Hence, to determine the joint probability of an email being spam for a given set of words that make up the email, we simply need to multiply the probabilities of the email being spam given that a word in that set occurs in the email for all he words in the email.\n",
        "\n",
        "For example: For an email saying \"Hello friend! Want free food?\", the probability of the email being spam can be given by:\n",
        "\n",
        "        Prob(spam|email) = p(spam|Hello) * p(spam|friend) * p(spam|Want) * p(spam|free) * p(spam|food)\n",
        "    \n",
        "Up until now, we have calculated the probability of a word occuring in an email, given that it is spam or not, and the overall probability of occurence of a word in an email, now all we need to do is to put things together to make up the naive bayes formula for every word, and then multiply the probabilities for all of them.\n",
        "\n",
        "Bayes theorem: \n",
        "\n",
        "For calculating the probability of spam:\n",
        "$$P(spam \\, | \\, X) = \\frac{P(X \\, | \\, spam) \\, P(spam)} {P(X)}$$\n",
        "\n",
        "For calculating the probability of non-spam:\n",
        "$$P(spam \\, | \\, X) = \\frac{P(X \\, | \\, spam) \\, (1 - P(spam))} {P(X)}$$"
      ]
    },
    {
      "cell_type": "markdown",
      "metadata": {
        "id": "xQvjkLyStoeh"
      },
      "source": [
        "## Setting a prior"
      ]
    },
    {
      "cell_type": "code",
      "execution_count": null,
      "metadata": {
        "id": "KgpOi27Ytoei"
      },
      "outputs": [],
      "source": [
        "PROB_SPAM = 0.3110    # Refer the section 'Calculating the probability of spam' of the 'Training' notebook"
      ]
    },
    {
      "cell_type": "markdown",
      "metadata": {
        "id": "3QTmW_8gtoek"
      },
      "source": [
        "# Joint Probability in log format\n",
        "\n",
        "Since we are working with very small values, taking the log is a good way to spread the values so they can be visualized more beautifully."
      ]
    },
    {
      "cell_type": "code",
      "execution_count": null,
      "metadata": {
        "id": "ofrRsp2ytoel"
      },
      "outputs": [],
      "source": [
        "joint_log_spam = X_test.dot(np.log(prob_token_spam) - np.log(prob_all_tokens)) + np.log(PROB_SPAM)"
      ]
    },
    {
      "cell_type": "code",
      "execution_count": null,
      "metadata": {
        "id": "nctYtDkctoem",
        "outputId": "f7ea8d16-93b3-4703-dc9f-f3100eeb96e2"
      },
      "outputs": [
        {
          "data": {
            "text/plain": [
              "array([  24.28176415,    2.16114607,   20.59154496, ..., -374.65015703,\n",
              "         -9.90307389, -114.47253879])"
            ]
          },
          "execution_count": 6,
          "metadata": {},
          "output_type": "execute_result"
        }
      ],
      "source": [
        "joint_log_spam"
      ]
    },
    {
      "cell_type": "code",
      "execution_count": null,
      "metadata": {
        "id": "oOK2uLi-toeo"
      },
      "outputs": [],
      "source": [
        "joint_log_ham = X_test.dot(np.log(prob_token_ham) - np.log(prob_all_tokens)) + np.log(1 - PROB_SPAM)"
      ]
    },
    {
      "cell_type": "code",
      "execution_count": null,
      "metadata": {
        "id": "m0Lsk2xutoeo",
        "outputId": "df3a0a75-3e74-4e2e-c756-f194aea77d4d"
      },
      "outputs": [
        {
          "data": {
            "text/plain": [
              "array([-60.97238794, -11.01056046, -37.9686901 , -59.13708909,\n",
              "       -53.79277469])"
            ]
          },
          "execution_count": 8,
          "metadata": {},
          "output_type": "execute_result"
        }
      ],
      "source": [
        "joint_log_ham[:5]"
      ]
    },
    {
      "cell_type": "markdown",
      "metadata": {
        "id": "n9o_RByZtoep"
      },
      "source": [
        "# Making predictions"
      ]
    },
    {
      "cell_type": "markdown",
      "metadata": {
        "id": "keVBgFwUtoep"
      },
      "source": [
        "### Checking for the higher joint probability\n",
        "\n",
        "$$P(Spam \\, | \\, X) \\, > \\, P(Ham \\, | \\, X)$$\n",
        "<br>\n",
        "<center> <b> OR </b></center>\n",
        "<br>\n",
        "$$P(Spam \\, | \\, X) \\, < \\, P(Ham \\, | \\, X)$$"
      ]
    },
    {
      "cell_type": "code",
      "execution_count": null,
      "metadata": {
        "id": "wFBTEsoCtoeq"
      },
      "outputs": [],
      "source": [
        "prediction = joint_log_spam > joint_log_ham"
      ]
    },
    {
      "cell_type": "code",
      "execution_count": null,
      "metadata": {
        "id": "jrEKGmpjtoeq",
        "outputId": "2b7119dc-2675-475f-de59-65ad26f90381"
      },
      "outputs": [
        {
          "data": {
            "text/plain": [
              "array([ True, False, False, False, False])"
            ]
          },
          "execution_count": 10,
          "metadata": {},
          "output_type": "execute_result"
        }
      ],
      "source": [
        "prediction[-5:]"
      ]
    },
    {
      "cell_type": "code",
      "execution_count": null,
      "metadata": {
        "id": "bf41X78Btoer",
        "outputId": "4b8f7c62-74a0-48b6-a74e-527ab4267dea"
      },
      "outputs": [
        {
          "data": {
            "text/plain": [
              "array([0., 0., 0., 0., 0.])"
            ]
          },
          "execution_count": 11,
          "metadata": {},
          "output_type": "execute_result"
        }
      ],
      "source": [
        "y_test[-5:] "
      ]
    },
    {
      "cell_type": "markdown",
      "metadata": {
        "id": "n2-IJUvetoes"
      },
      "source": [
        "## Simplification\n",
        "\n",
        "Since we have the same denominator on both the sides of the comparisons/inequalities, we can simply eliminate the denominator."
      ]
    },
    {
      "cell_type": "code",
      "execution_count": null,
      "metadata": {
        "id": "0RuE_d5Stoes"
      },
      "outputs": [],
      "source": [
        "joint_log_spam = X_test.dot(np.log(prob_token_spam)) + np.log(PROB_SPAM)\n",
        "joint_log_ham = X_test.dot(np.log(prob_token_ham)) + np.log(1 - PROB_SPAM)"
      ]
    },
    {
      "cell_type": "markdown",
      "metadata": {
        "id": "xF64dHPvtoet"
      },
      "source": [
        "# Metrics and Evaluation\n",
        "\n",
        "## Accuracy"
      ]
    },
    {
      "cell_type": "code",
      "execution_count": null,
      "metadata": {
        "id": "4x3Vguystoet"
      },
      "outputs": [],
      "source": [
        "correct_doc = (y_test == prediction).sum()\n",
        "numdocs_wrong = X_test.shape[0] - correct_doc"
      ]
    },
    {
      "cell_type": "code",
      "execution_count": null,
      "metadata": {
        "id": "S3yo1ZrCtoet",
        "outputId": "4fb8a114-8d43-4549-fbdb-f47d2e57a5fe"
      },
      "outputs": [
        {
          "name": "stdout",
          "output_type": "stream",
          "text": [
            "Documents classified correctly =  1685\n",
            "Documents classified incorrectly =  39\n"
          ]
        }
      ],
      "source": [
        "print(\"Documents classified correctly = \", correct_doc)\n",
        "print(\"Documents classified incorrectly = \", numdocs_wrong)"
      ]
    },
    {
      "cell_type": "code",
      "execution_count": null,
      "metadata": {
        "id": "b0tVkydBtoeu",
        "outputId": "92c050c0-fdbe-4e88-f332-72274f207e52"
      },
      "outputs": [
        {
          "name": "stdout",
          "output_type": "stream",
          "text": [
            "Accuracy of the classifier = 97.74%\n"
          ]
        }
      ],
      "source": [
        "print(\"Accuracy of the classifier = {:.2%}\".format(correct_doc/len(X_test)))"
      ]
    },
    {
      "cell_type": "markdown",
      "metadata": {
        "id": "z5SNvyI7toeu"
      },
      "source": [
        "## Visualizing the results"
      ]
    },
    {
      "cell_type": "code",
      "execution_count": null,
      "metadata": {
        "id": "2dObTS8ktoeu"
      },
      "outputs": [],
      "source": [
        "# Chart styling info \n",
        "xaxis_label = 'P(X | Spam)'\n",
        "yaxis_label = 'P(X | Non-spam)'\n",
        "\n",
        "linedata = np.linspace(start = -15000, stop = 1, num = 1000) #num signifies the number of data points"
      ]
    },
    {
      "cell_type": "code",
      "execution_count": null,
      "metadata": {
        "id": "MEpitpwVtoev",
        "outputId": "ab23107e-2044-480a-b6ef-e04f7ed70045"
      },
      "outputs": [
        {
          "data": {
            "image/png": "[encoded data removed]",
            "text/plain": [
              "<Figure size 792x504 with 1 Axes>"
            ]
          },
          "metadata": {
            "needs_background": "light"
          },
          "output_type": "display_data"
        }
      ],
      "source": [
        "plt.figure(figsize = (11, 7))\n",
        "plt.xlabel(xaxis_label, fontsize = 14)\n",
        "plt.ylabel(yaxis_label, fontsize = 14)\n",
        "\n",
        "plt.xlim([-15000, 1])\n",
        "plt.ylim([-15000, 1])\n",
        "\n",
        "plt.scatter(joint_log_spam, joint_log_ham, color = 'navy')\n",
        "plt.show()"
      ]
    },
    {
      "cell_type": "code",
      "execution_count": null,
      "metadata": {
        "id": "uN4Kotkstoev",
        "outputId": "d4a3d3ec-8960-4c80-a7b3-12e8982b228a"
      },
      "outputs": [
        {
          "data": {
            "image/png": "[encoded data removed]",
            "text/plain": [
              "<Figure size 792x504 with 1 Axes>"
            ]
          },
          "metadata": {
            "needs_background": "light"
          },
          "output_type": "display_data"
        }
      ],
      "source": [
        "plt.figure(figsize = (11, 7))\n",
        "plt.xlabel(xaxis_label, fontsize = 14)\n",
        "plt.ylabel(yaxis_label, fontsize = 14)\n",
        "\n",
        "plt.xlim([-15000, 1])\n",
        "plt.ylim([-15000, 1])\n",
        "\n",
        "plt.scatter(joint_log_spam, joint_log_ham, color = 'navy', alpha = 0.3, s = 25)\n",
        "plt.plot(linedata, linedata, color = 'orange')               #Decision boundary\n",
        "\n",
        "plt.grid()\n",
        "plt.show()"
      ]
    },
    {
      "cell_type": "code",
      "execution_count": null,
      "metadata": {
        "id": "j0had5gztoew",
        "outputId": "3177c9b6-01c4-4355-fba3-6eb95e0c3945"
      },
      "outputs": [
        {
          "data": {
            "image/png": "[encoded data removed]",
            "text/plain": [
              "<Figure size 1152x504 with 2 Axes>"
            ]
          },
          "metadata": {
            "needs_background": "light"
          },
          "output_type": "display_data"
        }
      ],
      "source": [
        "plt.figure(figsize = (16, 7))\n",
        "\n",
        "plt.subplot(1, 2, 1)\n",
        "\n",
        "plt.xlabel(xaxis_label, fontsize = 14)\n",
        "plt.ylabel(yaxis_label, fontsize = 14)\n",
        "\n",
        "plt.xlim([-15000, 1])\n",
        "plt.ylim([-15000, 1])\n",
        "\n",
        "plt.scatter(joint_log_spam, joint_log_ham, color = 'navy', alpha = 0.3, s = 25) # alpha is for transparency, and s is the size\n",
        "plt.plot(linedata, linedata, color = 'orange')               #Decision boundary\n",
        "plt.grid()\n",
        "\n",
        "# For the second plot\n",
        "plt.subplot(1, 2, 2)\n",
        "\n",
        "plt.xlabel(xaxis_label, fontsize = 14)\n",
        "plt.ylabel(yaxis_label, fontsize = 14)\n",
        "\n",
        "plt.xlim([-2000, 1])\n",
        "plt.ylim([-2000, 1])\n",
        "\n",
        "plt.scatter(joint_log_spam, joint_log_ham, color = 'navy', alpha = 0.3, s = 5) # alpha is for transparency, and s is the size\n",
        "plt.plot(linedata, linedata, color = 'orange')               #Decision boundary\n",
        "\n",
        "plt.grid()\n",
        "plt.show()"
      ]
    },
    {
      "cell_type": "code",
      "execution_count": null,
      "metadata": {
        "id": "5Ss7AKKUtoew"
      },
      "outputs": [],
      "source": [
        "# Chart Styling\n",
        "sns.set_style('whitegrid')\n",
        "labels = 'Actual Category'\n",
        "\n",
        "summary_df = pd.DataFrame({yaxis_label: joint_log_ham, xaxis_label: joint_log_ham, labels: y_test})"
      ]
    },
    {
      "cell_type": "code",
      "execution_count": null,
      "metadata": {
        "id": "O5QwUGPytoex",
        "outputId": "95db6e0e-97f0-4e17-d245-54f5b2c43e29"
      },
      "outputs": [
        {
          "data": {
            "image/png": "[encoded data removed]",
            "text/plain": [
              "<Figure size 468x468 with 1 Axes>"
            ]
          },
          "metadata": {},
          "output_type": "display_data"
        }
      ],
      "source": [
        "sns.lmplot(x=xaxis_label, y=yaxis_label, data=summary_df, height=6.5, fit_reg=False, legend=False, \n",
        "          scatter_kws={'alpha': 0.5, 's': 25}, hue=labels, markers=['o', 'x'], palette='hls')\n",
        "\n",
        "plt.xlim([-2000, 1])\n",
        "plt.ylim([-2000, 1])\n",
        "\n",
        "plt.plot(linedata, linedata, color = 'black')\n",
        "\n",
        "plt.legend(('Decision Boundary', 'Nonspam', 'Spam'), loc = 'lower right', fontsize = 14)\n",
        "\n",
        "plt.show()"
      ]
    },
    {
      "cell_type": "markdown",
      "metadata": {
        "id": "QQCjAZyjtoex"
      },
      "source": [
        "**NOTE:** While visualizing, it is advisable not to use certain colour combinations like blue-green, as to take consideration of colour-blind people.\n",
        "\n",
        "For getting different colour combinations used by artists, you can get their hex codes at http://colorlisa.com/"
      ]
    },
    {
      "cell_type": "markdown",
      "metadata": {
        "id": "J832lx5Rtoey"
      },
      "source": [
        "## False Positives and False Negatives"
      ]
    },
    {
      "cell_type": "code",
      "execution_count": null,
      "metadata": {
        "id": "XU6WA8HUtoey",
        "outputId": "b0ad4015-5489-4484-d661-ff5158d1e075"
      },
      "outputs": [
        {
          "data": {
            "text/plain": [
              "(array([False,  True]), array([1136,  588], dtype=int64))"
            ]
          },
          "execution_count": 22,
          "metadata": {},
          "output_type": "execute_result"
        }
      ],
      "source": [
        "np.unique(prediction, return_counts=True)"
      ]
    },
    {
      "cell_type": "code",
      "execution_count": null,
      "metadata": {
        "id": "vtXcaH4Itoey",
        "outputId": "f0148d51-7b1e-4d1b-ea9b-89f7e6080ffc"
      },
      "outputs": [
        {
          "data": {
            "text/plain": [
              "569"
            ]
          },
          "execution_count": 23,
          "metadata": {},
          "output_type": "execute_result"
        }
      ],
      "source": [
        "true_pos = (y_test == 1) & (prediction == 1)\n",
        "true_pos.sum()"
      ]
    },
    {
      "cell_type": "code",
      "execution_count": null,
      "metadata": {
        "id": "KB2NX9aTtoez",
        "outputId": "166f0967-fd1b-4e73-a5d6-7f1db5221402"
      },
      "outputs": [
        {
          "data": {
            "text/plain": [
              "19"
            ]
          },
          "execution_count": 24,
          "metadata": {},
          "output_type": "execute_result"
        }
      ],
      "source": [
        "false_pos = (y_test == 0) & (prediction == 1)\n",
        "false_pos.sum()"
      ]
    },
    {
      "cell_type": "code",
      "execution_count": null,
      "metadata": {
        "id": "5H3mY2sLtoez",
        "outputId": "03de0b7b-c5fc-408c-fecf-6679a57d3dcf"
      },
      "outputs": [
        {
          "data": {
            "text/plain": [
              "1116"
            ]
          },
          "execution_count": 25,
          "metadata": {},
          "output_type": "execute_result"
        }
      ],
      "source": [
        "true_neg = (y_test == 0) & (prediction == 0)\n",
        "true_neg.sum()"
      ]
    },
    {
      "cell_type": "code",
      "execution_count": null,
      "metadata": {
        "id": "i0ti8rcVtoez",
        "outputId": "c1ebcdda-53e6-4bbd-b83b-06f745180292"
      },
      "outputs": [
        {
          "data": {
            "text/plain": [
              "20"
            ]
          },
          "execution_count": 26,
          "metadata": {},
          "output_type": "execute_result"
        }
      ],
      "source": [
        "false_neg = (y_test == 1) & (prediction == 0)\n",
        "false_neg.sum()"
      ]
    },
    {
      "cell_type": "markdown",
      "metadata": {
        "id": "bm5rYKmltoe0"
      },
      "source": [
        "## Precision and Recall score"
      ]
    },
    {
      "cell_type": "code",
      "execution_count": null,
      "metadata": {
        "id": "9Ryp3T-Atoe0",
        "outputId": "eabf49fc-bb0f-4b85-c3fe-41362573b550"
      },
      "outputs": [
        {
          "name": "stdout",
          "output_type": "stream",
          "text": [
            "Recall score is 96.60%\n"
          ]
        }
      ],
      "source": [
        "recall_score = true_pos.sum() / (true_pos.sum() + false_neg.sum())\n",
        "print('Recall score is {:.2%}'.format(recall_score))"
      ]
    },
    {
      "cell_type": "code",
      "execution_count": null,
      "metadata": {
        "id": "zMpwtauptoe0",
        "outputId": "b0b9793a-24dd-46f7-eaa5-d079ab4a4477"
      },
      "outputs": [
        {
          "name": "stdout",
          "output_type": "stream",
          "text": [
            "Precision score is 96.769%\n"
          ]
        }
      ],
      "source": [
        "precision_score = true_pos.sum() / (true_pos.sum() + false_pos.sum())\n",
        "print(\"Precision score is {:.3%}\".format(precision_score))"
      ]
    },
    {
      "cell_type": "markdown",
      "metadata": {
        "id": "kzBlBwL9toe1"
      },
      "source": [
        "## F-score (or F1 Score)"
      ]
    },
    {
      "cell_type": "code",
      "execution_count": null,
      "metadata": {
        "id": "zreYU2kPtoe1",
        "outputId": "d0c9b76e-8a70-4077-d8fd-b3621f60ee32"
      },
      "outputs": [
        {
          "name": "stdout",
          "output_type": "stream",
          "text": [
            "F score is 0.97\n"
          ]
        }
      ],
      "source": [
        "f1_score = 2 * (precision_score * recall_score) / (precision_score + recall_score)\n",
        "print(\"F score is {:.2}\".format(f1_score))"
      ]
    },
    {
      "cell_type": "markdown",
      "metadata": {
        "id": "SQj2tYt-toe2"
      },
      "source": [
        "**NOTE:** Spam filters nowadays have evolved to a great extent. Not only do they take into account the email message, but they also look at the headers (for false/tampered headers) and prepare spammer blacklists by looking into the IP addresses of the spammers."
      ]
    }
  ],
  "metadata": {
    "kernelspec": {
      "display_name": "Python 3",
      "language": "python",
      "name": "python3"
    },
    "language_info": {
      "codemirror_mode": {
        "name": "ipython",
        "version": 3
      },
      "file_extension": ".py",
      "mimetype": "text/x-python",
      "name": "python",
      "nbconvert_exporter": "python",
      "pygments_lexer": "ipython3",
      "version": "3.8.5"
    },
    "colab": {
      "name": "Bayes Spam Classifier (v2).ipynb",
      "provenance": [],
      "collapsed_sections": []
    }
  },
  "nbformat": 4,
  "nbformat_minor": 0
}